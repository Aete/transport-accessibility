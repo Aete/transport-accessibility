{
 "cells": [
  {
   "cell_type": "code",
   "execution_count": 1,
   "metadata": {},
   "outputs": [],
   "source": [
    "import geopandas as gpd\n",
    "import pandas as pd\n",
    "from shapely.geometry import Point\n",
    "from fiona.crs import from_epsg"
   ]
  },
  {
   "cell_type": "code",
   "execution_count": 2,
   "metadata": {},
   "outputs": [],
   "source": [
    "# import hexagons geojson file\n",
    "gdf_hexagons = gpd.read_file('../hexagons.geojson')"
   ]
  },
  {
   "cell_type": "code",
   "execution_count": 3,
   "metadata": {},
   "outputs": [
    {
     "data": {
      "text/plain": [
       "(79, 4)"
      ]
     },
     "execution_count": 3,
     "metadata": {},
     "output_type": "execute_result"
    }
   ],
   "source": [
    "gdf_hexagons.shape"
   ]
  },
  {
   "cell_type": "code",
   "execution_count": 4,
   "metadata": {},
   "outputs": [
    {
     "data": {
      "text/html": [
       "<div>\n",
       "<style scoped>\n",
       "    .dataframe tbody tr th:only-of-type {\n",
       "        vertical-align: middle;\n",
       "    }\n",
       "\n",
       "    .dataframe tbody tr th {\n",
       "        vertical-align: top;\n",
       "    }\n",
       "\n",
       "    .dataframe thead th {\n",
       "        text-align: right;\n",
       "    }\n",
       "</style>\n",
       "<table border=\"1\" class=\"dataframe\">\n",
       "  <thead>\n",
       "    <tr style=\"text-align: right;\">\n",
       "      <th></th>\n",
       "      <th>index</th>\n",
       "      <th>x</th>\n",
       "      <th>y</th>\n",
       "      <th>geometry</th>\n",
       "    </tr>\n",
       "  </thead>\n",
       "  <tbody>\n",
       "    <tr>\n",
       "      <th>0</th>\n",
       "      <td>8830e1ca31fffff</td>\n",
       "      <td>127.046889</td>\n",
       "      <td>37.500817</td>\n",
       "      <td>POLYGON ((127.05109 37.49886, 127.05058 37.503...</td>\n",
       "    </tr>\n",
       "    <tr>\n",
       "      <th>1</th>\n",
       "      <td>8830e1cae9fffff</td>\n",
       "      <td>127.061157</td>\n",
       "      <td>37.514724</td>\n",
       "      <td>POLYGON ((127.06536 37.51277, 127.06485 37.517...</td>\n",
       "    </tr>\n",
       "    <tr>\n",
       "      <th>2</th>\n",
       "      <td>8830e1ca23fffff</td>\n",
       "      <td>127.035810</td>\n",
       "      <td>37.493646</td>\n",
       "      <td>POLYGON ((127.04001 37.49169, 127.03950 37.496...</td>\n",
       "    </tr>\n",
       "    <tr>\n",
       "      <th>3</th>\n",
       "      <td>8830e1c853fffff</td>\n",
       "      <td>127.072123</td>\n",
       "      <td>37.489082</td>\n",
       "      <td>POLYGON ((127.07633 37.48713, 127.07582 37.491...</td>\n",
       "    </tr>\n",
       "    <tr>\n",
       "      <th>4</th>\n",
       "      <td>8830e1c81bfffff</td>\n",
       "      <td>127.084741</td>\n",
       "      <td>37.483211</td>\n",
       "      <td>POLYGON ((127.08895 37.48125, 127.08844 37.485...</td>\n",
       "    </tr>\n",
       "  </tbody>\n",
       "</table>\n",
       "</div>"
      ],
      "text/plain": [
       "             index           x          y  \\\n",
       "0  8830e1ca31fffff  127.046889  37.500817   \n",
       "1  8830e1cae9fffff  127.061157  37.514724   \n",
       "2  8830e1ca23fffff  127.035810  37.493646   \n",
       "3  8830e1c853fffff  127.072123  37.489082   \n",
       "4  8830e1c81bfffff  127.084741  37.483211   \n",
       "\n",
       "                                            geometry  \n",
       "0  POLYGON ((127.05109 37.49886, 127.05058 37.503...  \n",
       "1  POLYGON ((127.06536 37.51277, 127.06485 37.517...  \n",
       "2  POLYGON ((127.04001 37.49169, 127.03950 37.496...  \n",
       "3  POLYGON ((127.07633 37.48713, 127.07582 37.491...  \n",
       "4  POLYGON ((127.08895 37.48125, 127.08844 37.485...  "
      ]
     },
     "execution_count": 4,
     "metadata": {},
     "output_type": "execute_result"
    }
   ],
   "source": [
    "gdf_hexagons.head()"
   ]
  },
  {
   "cell_type": "code",
   "execution_count": 5,
   "metadata": {},
   "outputs": [],
   "source": [
    "# import residential buildings geojson file\n",
    "gdf_residentials = gpd.read_file('../gangnamGu-building-residential.geojson')"
   ]
  },
  {
   "cell_type": "code",
   "execution_count": 6,
   "metadata": {},
   "outputs": [
    {
     "data": {
      "text/html": [
       "<div>\n",
       "<style scoped>\n",
       "    .dataframe tbody tr th:only-of-type {\n",
       "        vertical-align: middle;\n",
       "    }\n",
       "\n",
       "    .dataframe tbody tr th {\n",
       "        vertical-align: top;\n",
       "    }\n",
       "\n",
       "    .dataframe thead th {\n",
       "        text-align: right;\n",
       "    }\n",
       "</style>\n",
       "<table border=\"1\" class=\"dataframe\">\n",
       "  <thead>\n",
       "    <tr style=\"text-align: right;\">\n",
       "      <th></th>\n",
       "      <th>USABILITY</th>\n",
       "      <th>HEIGHT</th>\n",
       "      <th>PNU</th>\n",
       "      <th>GRND_FLR</th>\n",
       "      <th>UGRND_FLR</th>\n",
       "      <th>DONG_NM</th>\n",
       "      <th>UFID</th>\n",
       "      <th>BC_RAT</th>\n",
       "      <th>VC_RAT</th>\n",
       "      <th>COL_ADM_SECT_CD</th>\n",
       "      <th>BLDG_PNU</th>\n",
       "      <th>OBJECTID</th>\n",
       "      <th>BD_MGT_SN</th>\n",
       "      <th>count_bus_stop</th>\n",
       "      <th>geometry</th>\n",
       "    </tr>\n",
       "  </thead>\n",
       "  <tbody>\n",
       "    <tr>\n",
       "      <th>0</th>\n",
       "      <td>01000</td>\n",
       "      <td>7.90</td>\n",
       "      <td>1168011400106410010</td>\n",
       "      <td>2</td>\n",
       "      <td>1</td>\n",
       "      <td>None</td>\n",
       "      <td>1987207556994435369900000000</td>\n",
       "      <td>49.21</td>\n",
       "      <td>None</td>\n",
       "      <td>None</td>\n",
       "      <td>None</td>\n",
       "      <td>None</td>\n",
       "      <td>1168011400106410010001998</td>\n",
       "      <td>9</td>\n",
       "      <td>MULTIPOLYGON (((127.08634 37.49399, 127.08628 ...</td>\n",
       "    </tr>\n",
       "    <tr>\n",
       "      <th>1</th>\n",
       "      <td>02000</td>\n",
       "      <td>13.16</td>\n",
       "      <td>1168010800101570024</td>\n",
       "      <td>4</td>\n",
       "      <td>1</td>\n",
       "      <td>None</td>\n",
       "      <td>2003202386534451790800000000</td>\n",
       "      <td>54.62</td>\n",
       "      <td>None</td>\n",
       "      <td>None</td>\n",
       "      <td>None</td>\n",
       "      <td>None</td>\n",
       "      <td>1168010800101570024008663</td>\n",
       "      <td>2</td>\n",
       "      <td>MULTIPOLYGON (((127.02788 37.50883, 127.02781 ...</td>\n",
       "    </tr>\n",
       "    <tr>\n",
       "      <th>2</th>\n",
       "      <td>02000</td>\n",
       "      <td>0.00</td>\n",
       "      <td>1168010500100790000</td>\n",
       "      <td>12</td>\n",
       "      <td>1</td>\n",
       "      <td>6</td>\n",
       "      <td>1981205226284463626200000000</td>\n",
       "      <td>0.00</td>\n",
       "      <td>None</td>\n",
       "      <td>None</td>\n",
       "      <td>None</td>\n",
       "      <td>None</td>\n",
       "      <td>1168010500100790000014655</td>\n",
       "      <td>5</td>\n",
       "      <td>MULTIPOLYGON (((127.06025 37.51966, 127.06031 ...</td>\n",
       "    </tr>\n",
       "    <tr>\n",
       "      <th>3</th>\n",
       "      <td>01000</td>\n",
       "      <td>9.80</td>\n",
       "      <td>1168010400100110005</td>\n",
       "      <td>3</td>\n",
       "      <td>0</td>\n",
       "      <td>´Ù°¡±¸¿ë´Üµ¶ÁÖÅÃ(9°¡±¸)</td>\n",
       "      <td>1995204058644466407200000000</td>\n",
       "      <td>59.76</td>\n",
       "      <td>None</td>\n",
       "      <td>None</td>\n",
       "      <td>None</td>\n",
       "      <td>None</td>\n",
       "      <td>1168010400100110005018473</td>\n",
       "      <td>10</td>\n",
       "      <td>MULTIPOLYGON (((127.04673 37.52192, 127.04665 ...</td>\n",
       "    </tr>\n",
       "    <tr>\n",
       "      <th>4</th>\n",
       "      <td>01000</td>\n",
       "      <td>0.00</td>\n",
       "      <td>1168010500100700004</td>\n",
       "      <td>2</td>\n",
       "      <td>1</td>\n",
       "      <td>None</td>\n",
       "      <td>1978204624064458510800000000</td>\n",
       "      <td>0.00</td>\n",
       "      <td>None</td>\n",
       "      <td>None</td>\n",
       "      <td>None</td>\n",
       "      <td>None</td>\n",
       "      <td>1168010500100700004015465</td>\n",
       "      <td>6</td>\n",
       "      <td>MULTIPOLYGON (((127.05317 37.51489, 127.05315 ...</td>\n",
       "    </tr>\n",
       "  </tbody>\n",
       "</table>\n",
       "</div>"
      ],
      "text/plain": [
       "  USABILITY  HEIGHT                  PNU  GRND_FLR  UGRND_FLR  \\\n",
       "0     01000    7.90  1168011400106410010         2          1   \n",
       "1     02000   13.16  1168010800101570024         4          1   \n",
       "2     02000    0.00  1168010500100790000        12          1   \n",
       "3     01000    9.80  1168010400100110005         3          0   \n",
       "4     01000    0.00  1168010500100700004         2          1   \n",
       "\n",
       "                   DONG_NM                          UFID  BC_RAT VC_RAT  \\\n",
       "0                     None  1987207556994435369900000000   49.21   None   \n",
       "1                     None  2003202386534451790800000000   54.62   None   \n",
       "2                        6  1981205226284463626200000000    0.00   None   \n",
       "3  ´Ù°¡±¸¿ë´Üµ¶ÁÖÅÃ(9°¡±¸)  1995204058644466407200000000   59.76   None   \n",
       "4                     None  1978204624064458510800000000    0.00   None   \n",
       "\n",
       "  COL_ADM_SECT_CD BLDG_PNU OBJECTID                  BD_MGT_SN  \\\n",
       "0            None     None     None  1168011400106410010001998   \n",
       "1            None     None     None  1168010800101570024008663   \n",
       "2            None     None     None  1168010500100790000014655   \n",
       "3            None     None     None  1168010400100110005018473   \n",
       "4            None     None     None  1168010500100700004015465   \n",
       "\n",
       "   count_bus_stop                                           geometry  \n",
       "0               9  MULTIPOLYGON (((127.08634 37.49399, 127.08628 ...  \n",
       "1               2  MULTIPOLYGON (((127.02788 37.50883, 127.02781 ...  \n",
       "2               5  MULTIPOLYGON (((127.06025 37.51966, 127.06031 ...  \n",
       "3              10  MULTIPOLYGON (((127.04673 37.52192, 127.04665 ...  \n",
       "4               6  MULTIPOLYGON (((127.05317 37.51489, 127.05315 ...  "
      ]
     },
     "execution_count": 6,
     "metadata": {},
     "output_type": "execute_result"
    }
   ],
   "source": [
    "gdf_residentials.head()"
   ]
  },
  {
   "cell_type": "code",
   "execution_count": 7,
   "metadata": {},
   "outputs": [],
   "source": [
    "def count_buildings(polygon):\n",
    "    '''\n",
    "    This function is for making a list of buildings that is in a hexagon area.\n",
    "    -----\n",
    "    input:\n",
    "    polygon (Shapely.geometry.Polygon): a hexagon polygon \n",
    "    -----\n",
    "    output:\n",
    "    precise_matches_list (list): a list of residential buildings\n",
    "    \n",
    "    '''\n",
    "    try:\n",
    "        buildings_sindex = gdf_residentials.sindex\n",
    "        possible_matches_index = list(buildings_sindex.intersection(polygon.bounds))\n",
    "        possible_matches = gdf_residentials.iloc[possible_matches_index]\n",
    "        # extract the list of buildings that is in a hexagon\n",
    "        precise_matches_list = possible_matches[possible_matches.intersects(polygon)]['UFID'].tolist()\n",
    "    except:\n",
    "        # if there is no buildings that matched within a hexagon, return empty list\n",
    "        precise_matches_list = []\n",
    "    return precise_matches_list"
   ]
  },
  {
   "cell_type": "code",
   "execution_count": 8,
   "metadata": {},
   "outputs": [],
   "source": [
    "# get list of residential buildings in each hexagon\n",
    "gdf_hexagons['residentials'] = gdf_hexagons['geometry'].apply(lambda x: count_buildings(x))"
   ]
  },
  {
   "cell_type": "code",
   "execution_count": 9,
   "metadata": {},
   "outputs": [],
   "source": [
    "# count the number of residential buildings in each hexagon\n",
    "gdf_hexagons['count_residentials'] = gdf_hexagons['residentials'].apply(lambda x: len(x))"
   ]
  },
  {
   "cell_type": "code",
   "execution_count": 10,
   "metadata": {},
   "outputs": [],
   "source": [
    "# delete the hexagon which doesn't contains any residential buildings\n",
    "gdf_hexagons = gdf_hexagons.loc[gdf_hexagons['count_residentials']>10]"
   ]
  },
  {
   "cell_type": "code",
   "execution_count": 11,
   "metadata": {},
   "outputs": [],
   "source": [
    "gdf_hexagons = gdf_hexagons.drop(['residentials', 'count_residentials'], axis=1)"
   ]
  },
  {
   "cell_type": "code",
   "execution_count": 12,
   "metadata": {},
   "outputs": [],
   "source": [
    "gdf_hexagons.to_file('../hexagons_filtered.geojson', encoding='utf8', driver='GeoJSON')"
   ]
  }
 ],
 "metadata": {
  "kernelspec": {
   "display_name": "Python 3",
   "language": "python",
   "name": "python3"
  },
  "language_info": {
   "codemirror_mode": {
    "name": "ipython",
    "version": 3
   },
   "file_extension": ".py",
   "mimetype": "text/x-python",
   "name": "python",
   "nbconvert_exporter": "python",
   "pygments_lexer": "ipython3",
   "version": "3.9.1"
  }
 },
 "nbformat": 4,
 "nbformat_minor": 4
}

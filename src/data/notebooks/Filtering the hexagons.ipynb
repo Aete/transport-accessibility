{
 "cells": [
  {
   "cell_type": "code",
   "execution_count": 8,
   "metadata": {},
   "outputs": [],
   "source": [
    "import geopandas as gpd\n",
    "import pandas as pd\n",
    "from shapely.geometry import Point\n",
    "from fiona.crs import from_epsg"
   ]
  },
  {
   "cell_type": "code",
   "execution_count": 9,
   "metadata": {},
   "outputs": [],
   "source": [
    "# import hexagons geojson file\n",
    "gdf_hexagons = gpd.read_file('../hexagon_res_9/hexagons.geojson')"
   ]
  },
  {
   "cell_type": "code",
   "execution_count": 10,
   "metadata": {},
   "outputs": [
    {
     "data": {
      "text/plain": [
       "(547, 4)"
      ]
     },
     "execution_count": 10,
     "metadata": {},
     "output_type": "execute_result"
    }
   ],
   "source": [
    "gdf_hexagons.shape"
   ]
  },
  {
   "cell_type": "code",
   "execution_count": 11,
   "metadata": {},
   "outputs": [
    {
     "data": {
      "text/html": [
       "<div>\n",
       "<style scoped>\n",
       "    .dataframe tbody tr th:only-of-type {\n",
       "        vertical-align: middle;\n",
       "    }\n",
       "\n",
       "    .dataframe tbody tr th {\n",
       "        vertical-align: top;\n",
       "    }\n",
       "\n",
       "    .dataframe thead th {\n",
       "        text-align: right;\n",
       "    }\n",
       "</style>\n",
       "<table border=\"1\" class=\"dataframe\">\n",
       "  <thead>\n",
       "    <tr style=\"text-align: right;\">\n",
       "      <th></th>\n",
       "      <th>index</th>\n",
       "      <th>x</th>\n",
       "      <th>y</th>\n",
       "      <th>geometry</th>\n",
       "    </tr>\n",
       "  </thead>\n",
       "  <tbody>\n",
       "    <tr>\n",
       "      <th>0</th>\n",
       "      <td>8930e1caa2bffff</td>\n",
       "      <td>127.090880</td>\n",
       "      <td>37.493859</td>\n",
       "      <td>POLYGON ((127.09261 37.49364, 127.09186 37.495...</td>\n",
       "    </tr>\n",
       "    <tr>\n",
       "      <th>1</th>\n",
       "      <td>8930e1c8487ffff</td>\n",
       "      <td>127.043237</td>\n",
       "      <td>37.488433</td>\n",
       "      <td>POLYGON ((127.04497 37.48822, 127.04422 37.489...</td>\n",
       "    </tr>\n",
       "    <tr>\n",
       "      <th>2</th>\n",
       "      <td>8930e1c8c33ffff</td>\n",
       "      <td>127.105979</td>\n",
       "      <td>37.486245</td>\n",
       "      <td>POLYGON ((127.10771 37.48603, 127.10696 37.487...</td>\n",
       "    </tr>\n",
       "    <tr>\n",
       "      <th>3</th>\n",
       "      <td>8930e1c818bffff</td>\n",
       "      <td>127.076602</td>\n",
       "      <td>37.479954</td>\n",
       "      <td>POLYGON ((127.07833 37.47974, 127.07759 37.481...</td>\n",
       "    </tr>\n",
       "    <tr>\n",
       "      <th>4</th>\n",
       "      <td>8930e1c881bffff</td>\n",
       "      <td>127.115170</td>\n",
       "      <td>37.470806</td>\n",
       "      <td>POLYGON ((127.11690 37.47059, 127.11615 37.472...</td>\n",
       "    </tr>\n",
       "  </tbody>\n",
       "</table>\n",
       "</div>"
      ],
      "text/plain": [
       "             index           x          y  \\\n",
       "0  8930e1caa2bffff  127.090880  37.493859   \n",
       "1  8930e1c8487ffff  127.043237  37.488433   \n",
       "2  8930e1c8c33ffff  127.105979  37.486245   \n",
       "3  8930e1c818bffff  127.076602  37.479954   \n",
       "4  8930e1c881bffff  127.115170  37.470806   \n",
       "\n",
       "                                            geometry  \n",
       "0  POLYGON ((127.09261 37.49364, 127.09186 37.495...  \n",
       "1  POLYGON ((127.04497 37.48822, 127.04422 37.489...  \n",
       "2  POLYGON ((127.10771 37.48603, 127.10696 37.487...  \n",
       "3  POLYGON ((127.07833 37.47974, 127.07759 37.481...  \n",
       "4  POLYGON ((127.11690 37.47059, 127.11615 37.472...  "
      ]
     },
     "execution_count": 11,
     "metadata": {},
     "output_type": "execute_result"
    }
   ],
   "source": [
    "gdf_hexagons.head()"
   ]
  },
  {
   "cell_type": "code",
   "execution_count": 12,
   "metadata": {},
   "outputs": [],
   "source": [
    "# import residential buildings geojson file\n",
    "gdf_residentials = gpd.read_file('../gangnamGu-building-residential.geojson')"
   ]
  },
  {
   "cell_type": "code",
   "execution_count": 13,
   "metadata": {},
   "outputs": [
    {
     "data": {
      "text/html": [
       "<div>\n",
       "<style scoped>\n",
       "    .dataframe tbody tr th:only-of-type {\n",
       "        vertical-align: middle;\n",
       "    }\n",
       "\n",
       "    .dataframe tbody tr th {\n",
       "        vertical-align: top;\n",
       "    }\n",
       "\n",
       "    .dataframe thead th {\n",
       "        text-align: right;\n",
       "    }\n",
       "</style>\n",
       "<table border=\"1\" class=\"dataframe\">\n",
       "  <thead>\n",
       "    <tr style=\"text-align: right;\">\n",
       "      <th></th>\n",
       "      <th>USABILITY</th>\n",
       "      <th>HEIGHT</th>\n",
       "      <th>PNU</th>\n",
       "      <th>GRND_FLR</th>\n",
       "      <th>UGRND_FLR</th>\n",
       "      <th>DONG_NM</th>\n",
       "      <th>COL_ADM_SE</th>\n",
       "      <th>UFID</th>\n",
       "      <th>BLDG_PNU</th>\n",
       "      <th>BD_MGT_SN</th>\n",
       "      <th>ARCHAREA</th>\n",
       "      <th>TOTALAREA</th>\n",
       "      <th>BC_RAT</th>\n",
       "      <th>VL_RAT</th>\n",
       "      <th>geometry</th>\n",
       "    </tr>\n",
       "  </thead>\n",
       "  <tbody>\n",
       "    <tr>\n",
       "      <th>0</th>\n",
       "      <td>01000</td>\n",
       "      <td>7.90</td>\n",
       "      <td>1168011400106410010</td>\n",
       "      <td>2</td>\n",
       "      <td>1</td>\n",
       "      <td>None</td>\n",
       "      <td>11680</td>\n",
       "      <td>1987207556994435369900000000</td>\n",
       "      <td>None</td>\n",
       "      <td>1168011400106410010001998</td>\n",
       "      <td>97.530</td>\n",
       "      <td>265.02</td>\n",
       "      <td>49.21</td>\n",
       "      <td>83.13</td>\n",
       "      <td>MULTIPOLYGON (((127.08634 37.49399, 127.08628 ...</td>\n",
       "    </tr>\n",
       "    <tr>\n",
       "      <th>1</th>\n",
       "      <td>02000</td>\n",
       "      <td>13.16</td>\n",
       "      <td>1168010800101570024</td>\n",
       "      <td>4</td>\n",
       "      <td>1</td>\n",
       "      <td>None</td>\n",
       "      <td>11680</td>\n",
       "      <td>2003202386534451790800000000</td>\n",
       "      <td>None</td>\n",
       "      <td>1168010800101570024008663</td>\n",
       "      <td>134.900</td>\n",
       "      <td>652.19</td>\n",
       "      <td>54.62</td>\n",
       "      <td>199.76</td>\n",
       "      <td>MULTIPOLYGON (((127.02788 37.50883, 127.02781 ...</td>\n",
       "    </tr>\n",
       "    <tr>\n",
       "      <th>2</th>\n",
       "      <td>02000</td>\n",
       "      <td>0.00</td>\n",
       "      <td>1168010500100790000</td>\n",
       "      <td>12</td>\n",
       "      <td>1</td>\n",
       "      <td>6</td>\n",
       "      <td>11680</td>\n",
       "      <td>1981205226284463626200000000</td>\n",
       "      <td>None</td>\n",
       "      <td>1168010500100790000014655</td>\n",
       "      <td>781.490</td>\n",
       "      <td>9526.81</td>\n",
       "      <td>0.00</td>\n",
       "      <td>0.00</td>\n",
       "      <td>MULTIPOLYGON (((127.06025 37.51966, 127.06031 ...</td>\n",
       "    </tr>\n",
       "    <tr>\n",
       "      <th>3</th>\n",
       "      <td>01000</td>\n",
       "      <td>9.80</td>\n",
       "      <td>1168010400100110005</td>\n",
       "      <td>3</td>\n",
       "      <td>0</td>\n",
       "      <td>´Ù°¡±¸¿ë´Üµ¶ÁÖÅÃ(9°¡±¸)</td>\n",
       "      <td>11680</td>\n",
       "      <td>1995204058644466407200000000</td>\n",
       "      <td>None</td>\n",
       "      <td>1168010400100110005018473</td>\n",
       "      <td>149.717</td>\n",
       "      <td>393.17</td>\n",
       "      <td>59.76</td>\n",
       "      <td>156.95</td>\n",
       "      <td>MULTIPOLYGON (((127.04673 37.52192, 127.04665 ...</td>\n",
       "    </tr>\n",
       "    <tr>\n",
       "      <th>4</th>\n",
       "      <td>01000</td>\n",
       "      <td>0.00</td>\n",
       "      <td>1168010500100700004</td>\n",
       "      <td>2</td>\n",
       "      <td>1</td>\n",
       "      <td>None</td>\n",
       "      <td>11680</td>\n",
       "      <td>1978204624064458510800000000</td>\n",
       "      <td>None</td>\n",
       "      <td>1168010500100700004015465</td>\n",
       "      <td>75.370</td>\n",
       "      <td>163.18</td>\n",
       "      <td>0.00</td>\n",
       "      <td>0.00</td>\n",
       "      <td>MULTIPOLYGON (((127.05317 37.51489, 127.05315 ...</td>\n",
       "    </tr>\n",
       "  </tbody>\n",
       "</table>\n",
       "</div>"
      ],
      "text/plain": [
       "  USABILITY  HEIGHT                  PNU  GRND_FLR  UGRND_FLR  \\\n",
       "0     01000    7.90  1168011400106410010         2          1   \n",
       "1     02000   13.16  1168010800101570024         4          1   \n",
       "2     02000    0.00  1168010500100790000        12          1   \n",
       "3     01000    9.80  1168010400100110005         3          0   \n",
       "4     01000    0.00  1168010500100700004         2          1   \n",
       "\n",
       "                   DONG_NM COL_ADM_SE                          UFID BLDG_PNU  \\\n",
       "0                     None      11680  1987207556994435369900000000     None   \n",
       "1                     None      11680  2003202386534451790800000000     None   \n",
       "2                        6      11680  1981205226284463626200000000     None   \n",
       "3  ´Ù°¡±¸¿ë´Üµ¶ÁÖÅÃ(9°¡±¸)      11680  1995204058644466407200000000     None   \n",
       "4                     None      11680  1978204624064458510800000000     None   \n",
       "\n",
       "                   BD_MGT_SN  ARCHAREA  TOTALAREA  BC_RAT  VL_RAT  \\\n",
       "0  1168011400106410010001998    97.530     265.02   49.21   83.13   \n",
       "1  1168010800101570024008663   134.900     652.19   54.62  199.76   \n",
       "2  1168010500100790000014655   781.490    9526.81    0.00    0.00   \n",
       "3  1168010400100110005018473   149.717     393.17   59.76  156.95   \n",
       "4  1168010500100700004015465    75.370     163.18    0.00    0.00   \n",
       "\n",
       "                                            geometry  \n",
       "0  MULTIPOLYGON (((127.08634 37.49399, 127.08628 ...  \n",
       "1  MULTIPOLYGON (((127.02788 37.50883, 127.02781 ...  \n",
       "2  MULTIPOLYGON (((127.06025 37.51966, 127.06031 ...  \n",
       "3  MULTIPOLYGON (((127.04673 37.52192, 127.04665 ...  \n",
       "4  MULTIPOLYGON (((127.05317 37.51489, 127.05315 ...  "
      ]
     },
     "execution_count": 13,
     "metadata": {},
     "output_type": "execute_result"
    }
   ],
   "source": [
    "gdf_residentials.head()"
   ]
  },
  {
   "cell_type": "code",
   "execution_count": 14,
   "metadata": {},
   "outputs": [],
   "source": [
    "def count_buildings(polygon):\n",
    "    '''\n",
    "    This function is for making a list of buildings that is in a hexagon area.\n",
    "    -----\n",
    "    input:\n",
    "    polygon (Shapely.geometry.Polygon): a hexagon polygon \n",
    "    -----\n",
    "    output:\n",
    "    precise_matches_list (list): a list of residential buildings\n",
    "    \n",
    "    '''\n",
    "    try:\n",
    "        buildings_sindex = gdf_residentials.sindex\n",
    "        possible_matches_index = list(buildings_sindex.intersection(polygon.bounds))\n",
    "        possible_matches = gdf_residentials.iloc[possible_matches_index]\n",
    "        # extract the list of buildings that is in a hexagon\n",
    "        precise_matches_list = possible_matches[possible_matches.intersects(polygon)]['UFID'].tolist()\n",
    "    except:\n",
    "        # if there is no buildings that matched within a hexagon, return empty list\n",
    "        precise_matches_list = []\n",
    "    return precise_matches_list"
   ]
  },
  {
   "cell_type": "code",
   "execution_count": 15,
   "metadata": {},
   "outputs": [],
   "source": [
    "# get list of residential buildings in each hexagon\n",
    "gdf_hexagons['residentials'] = gdf_hexagons['geometry'].apply(lambda x: count_buildings(x))"
   ]
  },
  {
   "cell_type": "code",
   "execution_count": 16,
   "metadata": {},
   "outputs": [],
   "source": [
    "# count the number of residential buildings in each hexagon\n",
    "gdf_hexagons['count_residentials'] = gdf_hexagons['residentials'].apply(lambda x: len(x))"
   ]
  },
  {
   "cell_type": "code",
   "execution_count": 17,
   "metadata": {},
   "outputs": [],
   "source": [
    "# delete the hexagon which doesn't contains any residential buildings\n",
    "gdf_hexagons = gdf_hexagons.loc[gdf_hexagons['count_residentials']>0]"
   ]
  },
  {
   "cell_type": "code",
   "execution_count": 18,
   "metadata": {},
   "outputs": [],
   "source": [
    "gdf_hexagons = gdf_hexagons.drop(['residentials', 'count_residentials'], axis=1)"
   ]
  },
  {
   "cell_type": "code",
   "execution_count": 19,
   "metadata": {},
   "outputs": [],
   "source": [
    "gdf_hexagons.to_file('../hexagons_filtered.geojson', encoding='utf8', driver='GeoJSON')"
   ]
  }
 ],
 "metadata": {
  "kernelspec": {
   "display_name": "Python 3",
   "language": "python",
   "name": "python3"
  },
  "language_info": {
   "codemirror_mode": {
    "name": "ipython",
    "version": 3
   },
   "file_extension": ".py",
   "mimetype": "text/x-python",
   "name": "python",
   "nbconvert_exporter": "python",
   "pygments_lexer": "ipython3",
   "version": "3.9.1"
  }
 },
 "nbformat": 4,
 "nbformat_minor": 4
}

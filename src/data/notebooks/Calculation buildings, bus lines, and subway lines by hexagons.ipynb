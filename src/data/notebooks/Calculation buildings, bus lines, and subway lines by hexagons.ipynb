{
 "cells": [
  {
   "cell_type": "code",
   "execution_count": 1,
   "metadata": {},
   "outputs": [],
   "source": [
    "import geopandas as gpd\n",
    "import pandas as pd"
   ]
  },
  {
   "cell_type": "code",
   "execution_count": 2,
   "metadata": {},
   "outputs": [],
   "source": [
    "gdf_residentials = gpd.read_file('../gangnamGu-building-residential.geojson', encoding='utf8', dtype={'USABILITY':str})"
   ]
  },
  {
   "cell_type": "code",
   "execution_count": 3,
   "metadata": {},
   "outputs": [],
   "source": [
    "gdf_hexagons = gpd.read_file('../hexagon_res_9/hexagons.geojson')"
   ]
  },
  {
   "cell_type": "markdown",
   "metadata": {},
   "source": [
    "## Calculate the number of residential buildings and total building area of residential buildings"
   ]
  },
  {
   "cell_type": "code",
   "execution_count": 4,
   "metadata": {},
   "outputs": [],
   "source": [
    "# 01000 단독주택\n",
    "# 01001 단독주택\n",
    "single = ['01000','01001']\n",
    "\n",
    "# 01002 다중주택\n",
    "# 01003 다가구주택\n",
    "# 02003 다세대주택\n",
    "multi = ['01002','01003','02003']\n",
    "\n",
    "# 02000 공동주택\n",
    "# 02001 아파트\n",
    "# 02002 연립주택\n",
    "flat = ['02000','02001','02002']\n",
    "\n",
    "# 10202 오피스텔\n",
    "mxd = ['10202']\n",
    "\n",
    "# 01004 공관\n",
    "# 02007 기숙사 \n",
    "etc = ['01004','02007']"
   ]
  },
  {
   "cell_type": "code",
   "execution_count": 5,
   "metadata": {},
   "outputs": [
    {
     "data": {
      "text/plain": [
       "array(['01000', '02000'], dtype=object)"
      ]
     },
     "execution_count": 5,
     "metadata": {},
     "output_type": "execute_result"
    }
   ],
   "source": [
    "gdf_residentials['USABILITY'].unique()"
   ]
  },
  {
   "cell_type": "code",
   "execution_count": 6,
   "metadata": {},
   "outputs": [],
   "source": [
    "gdf_single = gdf_residentials.loc[gdf_residentials['USABILITY']=='01000']\n",
    "gdf_multi = gdf_residentials.loc[gdf_residentials['USABILITY']=='02000']"
   ]
  },
  {
   "cell_type": "code",
   "execution_count": 7,
   "metadata": {},
   "outputs": [
    {
     "data": {
      "text/plain": [
       "(11833, 15)"
      ]
     },
     "execution_count": 7,
     "metadata": {},
     "output_type": "execute_result"
    }
   ],
   "source": [
    "gdf_residentials.shape"
   ]
  },
  {
   "cell_type": "code",
   "execution_count": 8,
   "metadata": {},
   "outputs": [
    {
     "data": {
      "text/plain": [
       "(6484, 15)"
      ]
     },
     "execution_count": 8,
     "metadata": {},
     "output_type": "execute_result"
    }
   ],
   "source": [
    "gdf_single.shape"
   ]
  },
  {
   "cell_type": "code",
   "execution_count": 9,
   "metadata": {},
   "outputs": [
    {
     "data": {
      "text/plain": [
       "(5349, 15)"
      ]
     },
     "execution_count": 9,
     "metadata": {},
     "output_type": "execute_result"
    }
   ],
   "source": [
    "gdf_multi.shape"
   ]
  },
  {
   "cell_type": "code",
   "execution_count": 10,
   "metadata": {},
   "outputs": [],
   "source": [
    "def count_buildings(polygon, target_buildings):\n",
    "    '''\n",
    "    This function is for making a list of buildings that is in a hexagon area.\n",
    "    -----\n",
    "    input:\n",
    "    polygon (Shapely.geometry.Polygon): a hexagon polygon \n",
    "    -----\n",
    "    output:\n",
    "    precise_matches_list (list): a list of residential buildings\n",
    "    \n",
    "    '''\n",
    "    try:\n",
    "        buildings_sindex = target_buildings.sindex\n",
    "        possible_matches_index = list(buildings_sindex.intersection(polygon.bounds))\n",
    "        possible_matches = target_buildings.iloc[possible_matches_index]\n",
    "        # extract the list of buildings that is in a hexagon\n",
    "        precise_matches_list = possible_matches[possible_matches.intersects(polygon)]['UFID'].tolist()\n",
    "    except:\n",
    "        # if there is no buildings that matched within a hexagon, return empty list\n",
    "        precise_matches_list = []\n",
    "    return precise_matches_list"
   ]
  },
  {
   "cell_type": "code",
   "execution_count": 11,
   "metadata": {},
   "outputs": [],
   "source": [
    "gdf_hexagons['single_houses'] = gdf_hexagons['geometry'].apply(lambda x: count_buildings(x,gdf_single))"
   ]
  },
  {
   "cell_type": "code",
   "execution_count": 12,
   "metadata": {},
   "outputs": [],
   "source": [
    "gdf_hexagons['multi_houses'] = gdf_hexagons['geometry'].apply(lambda x: count_buildings(x,gdf_multi))"
   ]
  },
  {
   "cell_type": "code",
   "execution_count": 13,
   "metadata": {},
   "outputs": [
    {
     "data": {
      "text/plain": [
       "Index(['USABILITY', 'HEIGHT', 'PNU', 'GRND_FLR', 'UGRND_FLR', 'DONG_NM',\n",
       "       'COL_ADM_SE', 'UFID', 'BLDG_PNU', 'BD_MGT_SN', 'ARCHAREA', 'TOTALAREA',\n",
       "       'BC_RAT', 'VL_RAT', 'geometry'],\n",
       "      dtype='object')"
      ]
     },
     "execution_count": 13,
     "metadata": {},
     "output_type": "execute_result"
    }
   ],
   "source": [
    "gdf_residentials.columns"
   ]
  },
  {
   "cell_type": "code",
   "execution_count": 14,
   "metadata": {},
   "outputs": [],
   "source": [
    "def sum_archarea(house_list):\n",
    "    total = gdf_residentials.loc[gdf_residentials['UFID'].isin(house_list)]['ARCHAREA'].sum()\n",
    "    return total"
   ]
  },
  {
   "cell_type": "code",
   "execution_count": 15,
   "metadata": {},
   "outputs": [],
   "source": [
    "gdf_hexagons['single_archarea'] = gdf_hexagons['single_houses'].apply(lambda x: sum_archarea(x))"
   ]
  },
  {
   "cell_type": "code",
   "execution_count": 16,
   "metadata": {},
   "outputs": [],
   "source": [
    "gdf_hexagons['multi_archarea'] = gdf_hexagons['multi_houses'].apply(lambda x: sum_archarea(x))"
   ]
  },
  {
   "cell_type": "code",
   "execution_count": 17,
   "metadata": {},
   "outputs": [],
   "source": [
    "gdf_hexagons['single_count'] = gdf_hexagons['single_houses'].apply(lambda x: len(x))\n",
    "gdf_hexagons['multi_count'] = gdf_hexagons['multi_houses'].apply(lambda x: len(x))"
   ]
  },
  {
   "cell_type": "code",
   "execution_count": 18,
   "metadata": {},
   "outputs": [],
   "source": [
    "gdf_hexagons = gdf_hexagons.drop(['single_houses','multi_houses'], axis=1)"
   ]
  },
  {
   "cell_type": "markdown",
   "metadata": {},
   "source": [
    "##  Count the number of public bike stations"
   ]
  },
  {
   "cell_type": "code",
   "execution_count": 19,
   "metadata": {},
   "outputs": [],
   "source": [
    "gdf_bike = gpd.read_file('../publicBikeStation.geojson')"
   ]
  },
  {
   "cell_type": "code",
   "execution_count": 20,
   "metadata": {},
   "outputs": [
    {
     "data": {
      "text/html": [
       "<div>\n",
       "<style scoped>\n",
       "    .dataframe tbody tr th:only-of-type {\n",
       "        vertical-align: middle;\n",
       "    }\n",
       "\n",
       "    .dataframe tbody tr th {\n",
       "        vertical-align: top;\n",
       "    }\n",
       "\n",
       "    .dataframe thead th {\n",
       "        text-align: right;\n",
       "    }\n",
       "</style>\n",
       "<table border=\"1\" class=\"dataframe\">\n",
       "  <thead>\n",
       "    <tr style=\"text-align: right;\">\n",
       "      <th></th>\n",
       "      <th>stationid</th>\n",
       "      <th>gu</th>\n",
       "      <th>address</th>\n",
       "      <th>y</th>\n",
       "      <th>x</th>\n",
       "      <th>lcd_number</th>\n",
       "      <th>qr_number</th>\n",
       "      <th>type</th>\n",
       "      <th>geometry</th>\n",
       "    </tr>\n",
       "  </thead>\n",
       "  <tbody>\n",
       "    <tr>\n",
       "      <th>0</th>\n",
       "      <td>1695</td>\n",
       "      <td>???</td>\n",
       "      <td>??? ??? 14</td>\n",
       "      <td>37.623417</td>\n",
       "      <td>127.066933</td>\n",
       "      <td>NaN</td>\n",
       "      <td>10.0</td>\n",
       "      <td>QR</td>\n",
       "      <td>POINT (127.06693 37.62342)</td>\n",
       "    </tr>\n",
       "    <tr>\n",
       "      <th>1</th>\n",
       "      <td>2301</td>\n",
       "      <td>???</td>\n",
       "      <td>????? ??? ???? 134</td>\n",
       "      <td>37.524071</td>\n",
       "      <td>127.021790</td>\n",
       "      <td>10.0</td>\n",
       "      <td>NaN</td>\n",
       "      <td>LCD</td>\n",
       "      <td>POINT (127.02179 37.52407)</td>\n",
       "    </tr>\n",
       "    <tr>\n",
       "      <th>2</th>\n",
       "      <td>2302</td>\n",
       "      <td>???</td>\n",
       "      <td>????? ??? ???? ?? 102</td>\n",
       "      <td>37.505581</td>\n",
       "      <td>127.024277</td>\n",
       "      <td>10.0</td>\n",
       "      <td>NaN</td>\n",
       "      <td>LCD</td>\n",
       "      <td>POINT (127.02428 37.50558)</td>\n",
       "    </tr>\n",
       "    <tr>\n",
       "      <th>3</th>\n",
       "      <td>2303</td>\n",
       "      <td>???</td>\n",
       "      <td>????? ??? ??? ?? 102</td>\n",
       "      <td>37.511517</td>\n",
       "      <td>127.021477</td>\n",
       "      <td>15.0</td>\n",
       "      <td>NaN</td>\n",
       "      <td>LCD</td>\n",
       "      <td>POINT (127.02148 37.51152)</td>\n",
       "    </tr>\n",
       "    <tr>\n",
       "      <th>4</th>\n",
       "      <td>2304</td>\n",
       "      <td>???</td>\n",
       "      <td>????? ??? ??? 626</td>\n",
       "      <td>37.512527</td>\n",
       "      <td>127.035835</td>\n",
       "      <td>10.0</td>\n",
       "      <td>NaN</td>\n",
       "      <td>LCD</td>\n",
       "      <td>POINT (127.03584 37.51253)</td>\n",
       "    </tr>\n",
       "  </tbody>\n",
       "</table>\n",
       "</div>"
      ],
      "text/plain": [
       "   stationid   gu                address          y           x  lcd_number  \\\n",
       "0       1695  ???            ??? ??? 14   37.623417  127.066933         NaN   \n",
       "1       2301  ???     ????? ??? ???? 134  37.524071  127.021790        10.0   \n",
       "2       2302  ???  ????? ??? ???? ?? 102  37.505581  127.024277        10.0   \n",
       "3       2303  ???   ????? ??? ??? ?? 102  37.511517  127.021477        15.0   \n",
       "4       2304  ???      ????? ??? ??? 626  37.512527  127.035835        10.0   \n",
       "\n",
       "   qr_number type                    geometry  \n",
       "0       10.0   QR  POINT (127.06693 37.62342)  \n",
       "1        NaN  LCD  POINT (127.02179 37.52407)  \n",
       "2        NaN  LCD  POINT (127.02428 37.50558)  \n",
       "3        NaN  LCD  POINT (127.02148 37.51152)  \n",
       "4        NaN  LCD  POINT (127.03584 37.51253)  "
      ]
     },
     "execution_count": 20,
     "metadata": {},
     "output_type": "execute_result"
    }
   ],
   "source": [
    "gdf_bike.head()"
   ]
  },
  {
   "cell_type": "code",
   "execution_count": 21,
   "metadata": {},
   "outputs": [],
   "source": [
    "def count_stations(polygon, stations):\n",
    "    try:\n",
    "        station_sindex = stations.sindex\n",
    "        possible_matches_index = list(station_sindex.intersection(polygon.bounds))\n",
    "        possible_matches = stations.iloc[possible_matches_index]\n",
    "        # extract the list of buildings that is in a hexagon\n",
    "        precise_matches_list = possible_matches[possible_matches.intersects(polygon)]['stationid'].tolist()\n",
    "    except:\n",
    "        # if there is no station that matched within a hexagon, return empty list\n",
    "        precise_matches_list = []\n",
    "    return len(precise_matches_list)                        "
   ]
  },
  {
   "cell_type": "code",
   "execution_count": 22,
   "metadata": {},
   "outputs": [],
   "source": [
    "gdf_hexagons['count_bike_station'] = gdf_hexagons['geometry'].apply(lambda x:count_stations(x,gdf_bike))"
   ]
  },
  {
   "cell_type": "markdown",
   "metadata": {},
   "source": [
    "## Count the number of bus lines"
   ]
  },
  {
   "cell_type": "code",
   "execution_count": 23,
   "metadata": {},
   "outputs": [],
   "source": [
    "gdf_bus_stop = gpd.read_file('../seoulBusStop.geojson', dtype={'ARS-ID':str})"
   ]
  },
  {
   "cell_type": "code",
   "execution_count": 24,
   "metadata": {},
   "outputs": [
    {
     "data": {
      "text/html": [
       "<div>\n",
       "<style scoped>\n",
       "    .dataframe tbody tr th:only-of-type {\n",
       "        vertical-align: middle;\n",
       "    }\n",
       "\n",
       "    .dataframe tbody tr th {\n",
       "        vertical-align: top;\n",
       "    }\n",
       "\n",
       "    .dataframe thead th {\n",
       "        text-align: right;\n",
       "    }\n",
       "</style>\n",
       "<table border=\"1\" class=\"dataframe\">\n",
       "  <thead>\n",
       "    <tr style=\"text-align: right;\">\n",
       "      <th></th>\n",
       "      <th>표준ID</th>\n",
       "      <th>ARS-ID</th>\n",
       "      <th>정류장명</th>\n",
       "      <th>X좌표</th>\n",
       "      <th>Y좌표</th>\n",
       "      <th>geometry</th>\n",
       "    </tr>\n",
       "  </thead>\n",
       "  <tbody>\n",
       "    <tr>\n",
       "      <th>0</th>\n",
       "      <td>100000001</td>\n",
       "      <td>1001</td>\n",
       "      <td>종로2가사거리</td>\n",
       "      <td>126.987750</td>\n",
       "      <td>37.569765</td>\n",
       "      <td>POINT (126.98775 37.56977)</td>\n",
       "    </tr>\n",
       "    <tr>\n",
       "      <th>1</th>\n",
       "      <td>100000002</td>\n",
       "      <td>1002</td>\n",
       "      <td>창경궁.서울대학교병원</td>\n",
       "      <td>126.996566</td>\n",
       "      <td>37.579183</td>\n",
       "      <td>POINT (126.99657 37.57918)</td>\n",
       "    </tr>\n",
       "    <tr>\n",
       "      <th>2</th>\n",
       "      <td>100000003</td>\n",
       "      <td>1003</td>\n",
       "      <td>명륜3가.성대입구</td>\n",
       "      <td>126.998340</td>\n",
       "      <td>37.582671</td>\n",
       "      <td>POINT (126.99834 37.58267)</td>\n",
       "    </tr>\n",
       "    <tr>\n",
       "      <th>3</th>\n",
       "      <td>100000004</td>\n",
       "      <td>1004</td>\n",
       "      <td>종로2가.삼일교</td>\n",
       "      <td>126.987613</td>\n",
       "      <td>37.568579</td>\n",
       "      <td>POINT (126.98761 37.56858)</td>\n",
       "    </tr>\n",
       "    <tr>\n",
       "      <th>4</th>\n",
       "      <td>100000005</td>\n",
       "      <td>1005</td>\n",
       "      <td>혜화동로터리.여운형활동터</td>\n",
       "      <td>127.001744</td>\n",
       "      <td>37.586243</td>\n",
       "      <td>POINT (127.00174 37.58624)</td>\n",
       "    </tr>\n",
       "  </tbody>\n",
       "</table>\n",
       "</div>"
      ],
      "text/plain": [
       "        표준ID  ARS-ID           정류장명         X좌표        Y좌표  \\\n",
       "0  100000001    1001        종로2가사거리  126.987750  37.569765   \n",
       "1  100000002    1002    창경궁.서울대학교병원  126.996566  37.579183   \n",
       "2  100000003    1003      명륜3가.성대입구  126.998340  37.582671   \n",
       "3  100000004    1004       종로2가.삼일교  126.987613  37.568579   \n",
       "4  100000005    1005  혜화동로터리.여운형활동터  127.001744  37.586243   \n",
       "\n",
       "                     geometry  \n",
       "0  POINT (126.98775 37.56977)  \n",
       "1  POINT (126.99657 37.57918)  \n",
       "2  POINT (126.99834 37.58267)  \n",
       "3  POINT (126.98761 37.56858)  \n",
       "4  POINT (127.00174 37.58624)  "
      ]
     },
     "execution_count": 24,
     "metadata": {},
     "output_type": "execute_result"
    }
   ],
   "source": [
    "gdf_bus_stop.head()"
   ]
  },
  {
   "cell_type": "code",
   "execution_count": 25,
   "metadata": {},
   "outputs": [],
   "source": [
    "df_bus_line = pd.read_csv('../seoulBusLine.csv')"
   ]
  },
  {
   "cell_type": "code",
   "execution_count": 26,
   "metadata": {},
   "outputs": [
    {
     "data": {
      "text/html": [
       "<div>\n",
       "<style scoped>\n",
       "    .dataframe tbody tr th:only-of-type {\n",
       "        vertical-align: middle;\n",
       "    }\n",
       "\n",
       "    .dataframe tbody tr th {\n",
       "        vertical-align: top;\n",
       "    }\n",
       "\n",
       "    .dataframe thead th {\n",
       "        text-align: right;\n",
       "    }\n",
       "</style>\n",
       "<table border=\"1\" class=\"dataframe\">\n",
       "  <thead>\n",
       "    <tr style=\"text-align: right;\">\n",
       "      <th></th>\n",
       "      <th>노선ID</th>\n",
       "      <th>노선명</th>\n",
       "      <th>순번</th>\n",
       "      <th>구간ID</th>\n",
       "      <th>정류소ID</th>\n",
       "      <th>ARS-ID</th>\n",
       "      <th>정류소명</th>\n",
       "      <th>X좌표</th>\n",
       "      <th>Y좌표</th>\n",
       "    </tr>\n",
       "  </thead>\n",
       "  <tbody>\n",
       "    <tr>\n",
       "      <th>0</th>\n",
       "      <td>100100124</td>\n",
       "      <td>0017</td>\n",
       "      <td>1</td>\n",
       "      <td>0</td>\n",
       "      <td>102000271</td>\n",
       "      <td>3689</td>\n",
       "      <td>청암자이아파트</td>\n",
       "      <td>126.946517</td>\n",
       "      <td>37.534363</td>\n",
       "    </tr>\n",
       "    <tr>\n",
       "      <th>1</th>\n",
       "      <td>100100124</td>\n",
       "      <td>0017</td>\n",
       "      <td>2</td>\n",
       "      <td>102700549</td>\n",
       "      <td>102000204</td>\n",
       "      <td>3298</td>\n",
       "      <td>청암동강변삼성아파트</td>\n",
       "      <td>126.949304</td>\n",
       "      <td>37.533961</td>\n",
       "    </tr>\n",
       "    <tr>\n",
       "      <th>2</th>\n",
       "      <td>100100124</td>\n",
       "      <td>0017</td>\n",
       "      <td>3</td>\n",
       "      <td>102700550</td>\n",
       "      <td>102000227</td>\n",
       "      <td>3321</td>\n",
       "      <td>청심경로당</td>\n",
       "      <td>126.950449</td>\n",
       "      <td>37.533744</td>\n",
       "    </tr>\n",
       "    <tr>\n",
       "      <th>3</th>\n",
       "      <td>100100124</td>\n",
       "      <td>0017</td>\n",
       "      <td>4</td>\n",
       "      <td>102700551</td>\n",
       "      <td>102000210</td>\n",
       "      <td>3304</td>\n",
       "      <td>원효2동주민센터</td>\n",
       "      <td>126.950904</td>\n",
       "      <td>37.534278</td>\n",
       "    </tr>\n",
       "    <tr>\n",
       "      <th>4</th>\n",
       "      <td>100100124</td>\n",
       "      <td>0017</td>\n",
       "      <td>5</td>\n",
       "      <td>102700552</td>\n",
       "      <td>102000212</td>\n",
       "      <td>3306</td>\n",
       "      <td>산천동</td>\n",
       "      <td>126.953984</td>\n",
       "      <td>37.535420</td>\n",
       "    </tr>\n",
       "  </tbody>\n",
       "</table>\n",
       "</div>"
      ],
      "text/plain": [
       "        노선ID   노선명  순번       구간ID      정류소ID  ARS-ID        정류소명         X좌표  \\\n",
       "0  100100124  0017   1          0  102000271    3689     청암자이아파트  126.946517   \n",
       "1  100100124  0017   2  102700549  102000204    3298  청암동강변삼성아파트  126.949304   \n",
       "2  100100124  0017   3  102700550  102000227    3321       청심경로당  126.950449   \n",
       "3  100100124  0017   4  102700551  102000210    3304    원효2동주민센터  126.950904   \n",
       "4  100100124  0017   5  102700552  102000212    3306         산천동  126.953984   \n",
       "\n",
       "         Y좌표  \n",
       "0  37.534363  \n",
       "1  37.533961  \n",
       "2  37.533744  \n",
       "3  37.534278  \n",
       "4  37.535420  "
      ]
     },
     "execution_count": 26,
     "metadata": {},
     "output_type": "execute_result"
    }
   ],
   "source": [
    "df_bus_line.head()"
   ]
  },
  {
   "cell_type": "code",
   "execution_count": 27,
   "metadata": {},
   "outputs": [],
   "source": [
    "def get_bus_stations(polygon, stations):\n",
    "    try:\n",
    "        station_sindex = stations.sindex\n",
    "        possible_matches_index = list(station_sindex.intersection(polygon.bounds))\n",
    "        possible_matches = stations.iloc[possible_matches_index]\n",
    "        # extract the list of buildings that is in a hexagon\n",
    "        precise_matches_list = possible_matches[possible_matches.intersects(polygon)]['표준ID'].tolist()\n",
    "    except:\n",
    "        # if there is no station that matched within a hexagon, return empty list\n",
    "        precise_matches_list = []\n",
    "    return precise_matches_list   "
   ]
  },
  {
   "cell_type": "code",
   "execution_count": 28,
   "metadata": {},
   "outputs": [],
   "source": [
    "gdf_hexagons['bus_stops'] = gdf_hexagons['geometry'].apply(lambda x: get_bus_stations(x,gdf_bus_stop))"
   ]
  },
  {
   "cell_type": "code",
   "execution_count": 29,
   "metadata": {},
   "outputs": [],
   "source": [
    "def count_bus_lines(bus_stops, lines):\n",
    "    return len(lines[lines['정류소ID'].isin(bus_stops)]['노선ID'].unique().tolist())"
   ]
  },
  {
   "cell_type": "code",
   "execution_count": 30,
   "metadata": {},
   "outputs": [],
   "source": [
    "gdf_hexagons['count_bus_line'] = gdf_hexagons['bus_stops'].apply(lambda x: count_bus_lines(x,df_bus_line))"
   ]
  },
  {
   "cell_type": "code",
   "execution_count": 31,
   "metadata": {},
   "outputs": [
    {
     "data": {
      "text/html": [
       "<div>\n",
       "<style scoped>\n",
       "    .dataframe tbody tr th:only-of-type {\n",
       "        vertical-align: middle;\n",
       "    }\n",
       "\n",
       "    .dataframe tbody tr th {\n",
       "        vertical-align: top;\n",
       "    }\n",
       "\n",
       "    .dataframe thead th {\n",
       "        text-align: right;\n",
       "    }\n",
       "</style>\n",
       "<table border=\"1\" class=\"dataframe\">\n",
       "  <thead>\n",
       "    <tr style=\"text-align: right;\">\n",
       "      <th></th>\n",
       "      <th>index</th>\n",
       "      <th>x</th>\n",
       "      <th>y</th>\n",
       "      <th>geometry</th>\n",
       "      <th>single_archarea</th>\n",
       "      <th>multi_archarea</th>\n",
       "      <th>single_count</th>\n",
       "      <th>multi_count</th>\n",
       "      <th>count_bike_station</th>\n",
       "      <th>bus_stops</th>\n",
       "      <th>count_bus_line</th>\n",
       "    </tr>\n",
       "  </thead>\n",
       "  <tbody>\n",
       "    <tr>\n",
       "      <th>0</th>\n",
       "      <td>8930e1caa2bffff</td>\n",
       "      <td>127.090880</td>\n",
       "      <td>37.493859</td>\n",
       "      <td>POLYGON ((127.09261 37.49364, 127.09186 37.495...</td>\n",
       "      <td>0.00</td>\n",
       "      <td>4203.610</td>\n",
       "      <td>0</td>\n",
       "      <td>9</td>\n",
       "      <td>0</td>\n",
       "      <td>[]</td>\n",
       "      <td>0</td>\n",
       "    </tr>\n",
       "    <tr>\n",
       "      <th>1</th>\n",
       "      <td>8930e1c8487ffff</td>\n",
       "      <td>127.043237</td>\n",
       "      <td>37.488433</td>\n",
       "      <td>POLYGON ((127.04497 37.48822, 127.04422 37.489...</td>\n",
       "      <td>512.36</td>\n",
       "      <td>3198.120</td>\n",
       "      <td>5</td>\n",
       "      <td>8</td>\n",
       "      <td>0</td>\n",
       "      <td>[]</td>\n",
       "      <td>0</td>\n",
       "    </tr>\n",
       "    <tr>\n",
       "      <th>2</th>\n",
       "      <td>8930e1c8c33ffff</td>\n",
       "      <td>127.105979</td>\n",
       "      <td>37.486245</td>\n",
       "      <td>POLYGON ((127.10771 37.48603, 127.10696 37.487...</td>\n",
       "      <td>0.00</td>\n",
       "      <td>1993.940</td>\n",
       "      <td>0</td>\n",
       "      <td>4</td>\n",
       "      <td>0</td>\n",
       "      <td>[]</td>\n",
       "      <td>0</td>\n",
       "    </tr>\n",
       "    <tr>\n",
       "      <th>3</th>\n",
       "      <td>8930e1c818bffff</td>\n",
       "      <td>127.076602</td>\n",
       "      <td>37.479954</td>\n",
       "      <td>POLYGON ((127.07833 37.47974, 127.07759 37.481...</td>\n",
       "      <td>28.76</td>\n",
       "      <td>28729.596</td>\n",
       "      <td>1</td>\n",
       "      <td>3</td>\n",
       "      <td>0</td>\n",
       "      <td>[]</td>\n",
       "      <td>0</td>\n",
       "    </tr>\n",
       "    <tr>\n",
       "      <th>4</th>\n",
       "      <td>8930e1c881bffff</td>\n",
       "      <td>127.115170</td>\n",
       "      <td>37.470806</td>\n",
       "      <td>POLYGON ((127.11690 37.47059, 127.11615 37.472...</td>\n",
       "      <td>0.00</td>\n",
       "      <td>0.000</td>\n",
       "      <td>0</td>\n",
       "      <td>0</td>\n",
       "      <td>0</td>\n",
       "      <td>[]</td>\n",
       "      <td>0</td>\n",
       "    </tr>\n",
       "  </tbody>\n",
       "</table>\n",
       "</div>"
      ],
      "text/plain": [
       "             index           x          y  \\\n",
       "0  8930e1caa2bffff  127.090880  37.493859   \n",
       "1  8930e1c8487ffff  127.043237  37.488433   \n",
       "2  8930e1c8c33ffff  127.105979  37.486245   \n",
       "3  8930e1c818bffff  127.076602  37.479954   \n",
       "4  8930e1c881bffff  127.115170  37.470806   \n",
       "\n",
       "                                            geometry  single_archarea  \\\n",
       "0  POLYGON ((127.09261 37.49364, 127.09186 37.495...             0.00   \n",
       "1  POLYGON ((127.04497 37.48822, 127.04422 37.489...           512.36   \n",
       "2  POLYGON ((127.10771 37.48603, 127.10696 37.487...             0.00   \n",
       "3  POLYGON ((127.07833 37.47974, 127.07759 37.481...            28.76   \n",
       "4  POLYGON ((127.11690 37.47059, 127.11615 37.472...             0.00   \n",
       "\n",
       "   multi_archarea  single_count  multi_count  count_bike_station bus_stops  \\\n",
       "0        4203.610             0            9                   0        []   \n",
       "1        3198.120             5            8                   0        []   \n",
       "2        1993.940             0            4                   0        []   \n",
       "3       28729.596             1            3                   0        []   \n",
       "4           0.000             0            0                   0        []   \n",
       "\n",
       "   count_bus_line  \n",
       "0               0  \n",
       "1               0  \n",
       "2               0  \n",
       "3               0  \n",
       "4               0  "
      ]
     },
     "execution_count": 31,
     "metadata": {},
     "output_type": "execute_result"
    }
   ],
   "source": [
    "gdf_hexagons.head()"
   ]
  },
  {
   "cell_type": "code",
   "execution_count": 32,
   "metadata": {},
   "outputs": [],
   "source": [
    "gdf_hexagons = gdf_hexagons.drop('bus_stops', axis=1)"
   ]
  },
  {
   "cell_type": "code",
   "execution_count": 33,
   "metadata": {},
   "outputs": [
    {
     "data": {
      "text/html": [
       "<div>\n",
       "<style scoped>\n",
       "    .dataframe tbody tr th:only-of-type {\n",
       "        vertical-align: middle;\n",
       "    }\n",
       "\n",
       "    .dataframe tbody tr th {\n",
       "        vertical-align: top;\n",
       "    }\n",
       "\n",
       "    .dataframe thead th {\n",
       "        text-align: right;\n",
       "    }\n",
       "</style>\n",
       "<table border=\"1\" class=\"dataframe\">\n",
       "  <thead>\n",
       "    <tr style=\"text-align: right;\">\n",
       "      <th></th>\n",
       "      <th>index</th>\n",
       "      <th>x</th>\n",
       "      <th>y</th>\n",
       "      <th>geometry</th>\n",
       "      <th>single_archarea</th>\n",
       "      <th>multi_archarea</th>\n",
       "      <th>single_count</th>\n",
       "      <th>multi_count</th>\n",
       "      <th>count_bike_station</th>\n",
       "      <th>count_bus_line</th>\n",
       "    </tr>\n",
       "  </thead>\n",
       "  <tbody>\n",
       "    <tr>\n",
       "      <th>0</th>\n",
       "      <td>8930e1caa2bffff</td>\n",
       "      <td>127.090880</td>\n",
       "      <td>37.493859</td>\n",
       "      <td>POLYGON ((127.09261 37.49364, 127.09186 37.495...</td>\n",
       "      <td>0.00</td>\n",
       "      <td>4203.610</td>\n",
       "      <td>0</td>\n",
       "      <td>9</td>\n",
       "      <td>0</td>\n",
       "      <td>0</td>\n",
       "    </tr>\n",
       "    <tr>\n",
       "      <th>1</th>\n",
       "      <td>8930e1c8487ffff</td>\n",
       "      <td>127.043237</td>\n",
       "      <td>37.488433</td>\n",
       "      <td>POLYGON ((127.04497 37.48822, 127.04422 37.489...</td>\n",
       "      <td>512.36</td>\n",
       "      <td>3198.120</td>\n",
       "      <td>5</td>\n",
       "      <td>8</td>\n",
       "      <td>0</td>\n",
       "      <td>0</td>\n",
       "    </tr>\n",
       "    <tr>\n",
       "      <th>2</th>\n",
       "      <td>8930e1c8c33ffff</td>\n",
       "      <td>127.105979</td>\n",
       "      <td>37.486245</td>\n",
       "      <td>POLYGON ((127.10771 37.48603, 127.10696 37.487...</td>\n",
       "      <td>0.00</td>\n",
       "      <td>1993.940</td>\n",
       "      <td>0</td>\n",
       "      <td>4</td>\n",
       "      <td>0</td>\n",
       "      <td>0</td>\n",
       "    </tr>\n",
       "    <tr>\n",
       "      <th>3</th>\n",
       "      <td>8930e1c818bffff</td>\n",
       "      <td>127.076602</td>\n",
       "      <td>37.479954</td>\n",
       "      <td>POLYGON ((127.07833 37.47974, 127.07759 37.481...</td>\n",
       "      <td>28.76</td>\n",
       "      <td>28729.596</td>\n",
       "      <td>1</td>\n",
       "      <td>3</td>\n",
       "      <td>0</td>\n",
       "      <td>0</td>\n",
       "    </tr>\n",
       "    <tr>\n",
       "      <th>4</th>\n",
       "      <td>8930e1c881bffff</td>\n",
       "      <td>127.115170</td>\n",
       "      <td>37.470806</td>\n",
       "      <td>POLYGON ((127.11690 37.47059, 127.11615 37.472...</td>\n",
       "      <td>0.00</td>\n",
       "      <td>0.000</td>\n",
       "      <td>0</td>\n",
       "      <td>0</td>\n",
       "      <td>0</td>\n",
       "      <td>0</td>\n",
       "    </tr>\n",
       "  </tbody>\n",
       "</table>\n",
       "</div>"
      ],
      "text/plain": [
       "             index           x          y  \\\n",
       "0  8930e1caa2bffff  127.090880  37.493859   \n",
       "1  8930e1c8487ffff  127.043237  37.488433   \n",
       "2  8930e1c8c33ffff  127.105979  37.486245   \n",
       "3  8930e1c818bffff  127.076602  37.479954   \n",
       "4  8930e1c881bffff  127.115170  37.470806   \n",
       "\n",
       "                                            geometry  single_archarea  \\\n",
       "0  POLYGON ((127.09261 37.49364, 127.09186 37.495...             0.00   \n",
       "1  POLYGON ((127.04497 37.48822, 127.04422 37.489...           512.36   \n",
       "2  POLYGON ((127.10771 37.48603, 127.10696 37.487...             0.00   \n",
       "3  POLYGON ((127.07833 37.47974, 127.07759 37.481...            28.76   \n",
       "4  POLYGON ((127.11690 37.47059, 127.11615 37.472...             0.00   \n",
       "\n",
       "   multi_archarea  single_count  multi_count  count_bike_station  \\\n",
       "0        4203.610             0            9                   0   \n",
       "1        3198.120             5            8                   0   \n",
       "2        1993.940             0            4                   0   \n",
       "3       28729.596             1            3                   0   \n",
       "4           0.000             0            0                   0   \n",
       "\n",
       "   count_bus_line  \n",
       "0               0  \n",
       "1               0  \n",
       "2               0  \n",
       "3               0  \n",
       "4               0  "
      ]
     },
     "execution_count": 33,
     "metadata": {},
     "output_type": "execute_result"
    }
   ],
   "source": [
    "gdf_hexagons.head()"
   ]
  },
  {
   "cell_type": "markdown",
   "metadata": {},
   "source": [
    "## Count subway lines"
   ]
  },
  {
   "cell_type": "code",
   "execution_count": 34,
   "metadata": {},
   "outputs": [],
   "source": [
    "gdf_subway_station = gpd.read_file('../seoulSubwayStation.geojson')"
   ]
  },
  {
   "cell_type": "code",
   "execution_count": 35,
   "metadata": {},
   "outputs": [
    {
     "data": {
      "text/html": [
       "<div>\n",
       "<style scoped>\n",
       "    .dataframe tbody tr th:only-of-type {\n",
       "        vertical-align: middle;\n",
       "    }\n",
       "\n",
       "    .dataframe tbody tr th {\n",
       "        vertical-align: top;\n",
       "    }\n",
       "\n",
       "    .dataframe thead th {\n",
       "        text-align: right;\n",
       "    }\n",
       "</style>\n",
       "<table border=\"1\" class=\"dataframe\">\n",
       "  <thead>\n",
       "    <tr style=\"text-align: right;\">\n",
       "      <th></th>\n",
       "      <th>stationID</th>\n",
       "      <th>stationName</th>\n",
       "      <th>Line</th>\n",
       "      <th>y</th>\n",
       "      <th>x</th>\n",
       "      <th>geometry</th>\n",
       "    </tr>\n",
       "  </thead>\n",
       "  <tbody>\n",
       "    <tr>\n",
       "      <th>0</th>\n",
       "      <td>2818</td>\n",
       "      <td>????</td>\n",
       "      <td>8</td>\n",
       "      <td>37.492522</td>\n",
       "      <td>127.118234</td>\n",
       "      <td>POINT (127.11823 37.49252)</td>\n",
       "    </tr>\n",
       "    <tr>\n",
       "      <th>1</th>\n",
       "      <td>340</td>\n",
       "      <td>????</td>\n",
       "      <td>3</td>\n",
       "      <td>37.492522</td>\n",
       "      <td>127.118234</td>\n",
       "      <td>POINT (127.11823 37.49252)</td>\n",
       "    </tr>\n",
       "    <tr>\n",
       "      <th>2</th>\n",
       "      <td>2535</td>\n",
       "      <td>??3?</td>\n",
       "      <td>5</td>\n",
       "      <td>37.571607</td>\n",
       "      <td>126.991806</td>\n",
       "      <td>POINT (126.99181 37.57161)</td>\n",
       "    </tr>\n",
       "    <tr>\n",
       "      <th>3</th>\n",
       "      <td>319</td>\n",
       "      <td>??3?</td>\n",
       "      <td>3</td>\n",
       "      <td>37.571607</td>\n",
       "      <td>126.991806</td>\n",
       "      <td>POINT (126.99181 37.57161)</td>\n",
       "    </tr>\n",
       "    <tr>\n",
       "      <th>4</th>\n",
       "      <td>153</td>\n",
       "      <td>??3?</td>\n",
       "      <td>1</td>\n",
       "      <td>37.571607</td>\n",
       "      <td>126.991806</td>\n",
       "      <td>POINT (126.99181 37.57161)</td>\n",
       "    </tr>\n",
       "  </tbody>\n",
       "</table>\n",
       "</div>"
      ],
      "text/plain": [
       "   stationID stationName Line          y           x  \\\n",
       "0       2818        ????    8  37.492522  127.118234   \n",
       "1        340        ????    3  37.492522  127.118234   \n",
       "2       2535        ??3?    5  37.571607  126.991806   \n",
       "3        319        ??3?    3  37.571607  126.991806   \n",
       "4        153        ??3?    1  37.571607  126.991806   \n",
       "\n",
       "                     geometry  \n",
       "0  POINT (127.11823 37.49252)  \n",
       "1  POINT (127.11823 37.49252)  \n",
       "2  POINT (126.99181 37.57161)  \n",
       "3  POINT (126.99181 37.57161)  \n",
       "4  POINT (126.99181 37.57161)  "
      ]
     },
     "execution_count": 35,
     "metadata": {},
     "output_type": "execute_result"
    }
   ],
   "source": [
    "gdf_subway_station.head()"
   ]
  },
  {
   "cell_type": "code",
   "execution_count": 36,
   "metadata": {},
   "outputs": [],
   "source": [
    "def count_subway_lines(polygon, stations):\n",
    "    try:\n",
    "        station_sindex = stations.sindex\n",
    "        possible_matches_index = list(station_sindex.intersection(polygon.bounds))\n",
    "        possible_matches = stations.iloc[possible_matches_index]\n",
    "        # extract the list of buildings that is in a hexagon\n",
    "        precise_matches_list = possible_matches[possible_matches.intersects(polygon)]['Line'].unique().tolist()\n",
    "    except:\n",
    "        # if there is no station that matched within a hexagon, return empty list\n",
    "        precise_matches_list = []\n",
    "    return len(precise_matches_list)  "
   ]
  },
  {
   "cell_type": "code",
   "execution_count": 37,
   "metadata": {},
   "outputs": [],
   "source": [
    "gdf_hexagons['count_subway_line'] = gdf_hexagons['geometry'].apply(lambda x: count_subway_lines(x,gdf_subway_station))"
   ]
  },
  {
   "cell_type": "markdown",
   "metadata": {},
   "source": [
    "## Calculate accessibility score"
   ]
  },
  {
   "cell_type": "code",
   "execution_count": 38,
   "metadata": {},
   "outputs": [],
   "source": [
    "max_bus_line = gdf_hexagons['count_bus_line'].max()\n",
    "max_bike_station = gdf_hexagons['count_bike_station'].max()\n",
    "max_subway_station = gdf_hexagons['count_subway_line'].max()"
   ]
  },
  {
   "cell_type": "code",
   "execution_count": 39,
   "metadata": {},
   "outputs": [
    {
     "name": "stdout",
     "output_type": "stream",
     "text": [
      "23 2 2\n"
     ]
    }
   ],
   "source": [
    "print(max_bus_line, max_bike_station, max_subway_station)"
   ]
  },
  {
   "cell_type": "code",
   "execution_count": 40,
   "metadata": {},
   "outputs": [
    {
     "data": {
      "text/html": [
       "<div>\n",
       "<style scoped>\n",
       "    .dataframe tbody tr th:only-of-type {\n",
       "        vertical-align: middle;\n",
       "    }\n",
       "\n",
       "    .dataframe tbody tr th {\n",
       "        vertical-align: top;\n",
       "    }\n",
       "\n",
       "    .dataframe thead th {\n",
       "        text-align: right;\n",
       "    }\n",
       "</style>\n",
       "<table border=\"1\" class=\"dataframe\">\n",
       "  <thead>\n",
       "    <tr style=\"text-align: right;\">\n",
       "      <th></th>\n",
       "      <th>index</th>\n",
       "      <th>x</th>\n",
       "      <th>y</th>\n",
       "      <th>geometry</th>\n",
       "      <th>single_archarea</th>\n",
       "      <th>multi_archarea</th>\n",
       "      <th>single_count</th>\n",
       "      <th>multi_count</th>\n",
       "      <th>count_bike_station</th>\n",
       "      <th>count_bus_line</th>\n",
       "      <th>count_subway_line</th>\n",
       "    </tr>\n",
       "  </thead>\n",
       "  <tbody>\n",
       "    <tr>\n",
       "      <th>0</th>\n",
       "      <td>8930e1caa2bffff</td>\n",
       "      <td>127.090880</td>\n",
       "      <td>37.493859</td>\n",
       "      <td>POLYGON ((127.09261 37.49364, 127.09186 37.495...</td>\n",
       "      <td>0.00</td>\n",
       "      <td>4203.610</td>\n",
       "      <td>0</td>\n",
       "      <td>9</td>\n",
       "      <td>0</td>\n",
       "      <td>0</td>\n",
       "      <td>0</td>\n",
       "    </tr>\n",
       "    <tr>\n",
       "      <th>1</th>\n",
       "      <td>8930e1c8487ffff</td>\n",
       "      <td>127.043237</td>\n",
       "      <td>37.488433</td>\n",
       "      <td>POLYGON ((127.04497 37.48822, 127.04422 37.489...</td>\n",
       "      <td>512.36</td>\n",
       "      <td>3198.120</td>\n",
       "      <td>5</td>\n",
       "      <td>8</td>\n",
       "      <td>0</td>\n",
       "      <td>0</td>\n",
       "      <td>0</td>\n",
       "    </tr>\n",
       "    <tr>\n",
       "      <th>2</th>\n",
       "      <td>8930e1c8c33ffff</td>\n",
       "      <td>127.105979</td>\n",
       "      <td>37.486245</td>\n",
       "      <td>POLYGON ((127.10771 37.48603, 127.10696 37.487...</td>\n",
       "      <td>0.00</td>\n",
       "      <td>1993.940</td>\n",
       "      <td>0</td>\n",
       "      <td>4</td>\n",
       "      <td>0</td>\n",
       "      <td>0</td>\n",
       "      <td>0</td>\n",
       "    </tr>\n",
       "    <tr>\n",
       "      <th>3</th>\n",
       "      <td>8930e1c818bffff</td>\n",
       "      <td>127.076602</td>\n",
       "      <td>37.479954</td>\n",
       "      <td>POLYGON ((127.07833 37.47974, 127.07759 37.481...</td>\n",
       "      <td>28.76</td>\n",
       "      <td>28729.596</td>\n",
       "      <td>1</td>\n",
       "      <td>3</td>\n",
       "      <td>0</td>\n",
       "      <td>0</td>\n",
       "      <td>0</td>\n",
       "    </tr>\n",
       "    <tr>\n",
       "      <th>4</th>\n",
       "      <td>8930e1c881bffff</td>\n",
       "      <td>127.115170</td>\n",
       "      <td>37.470806</td>\n",
       "      <td>POLYGON ((127.11690 37.47059, 127.11615 37.472...</td>\n",
       "      <td>0.00</td>\n",
       "      <td>0.000</td>\n",
       "      <td>0</td>\n",
       "      <td>0</td>\n",
       "      <td>0</td>\n",
       "      <td>0</td>\n",
       "      <td>0</td>\n",
       "    </tr>\n",
       "  </tbody>\n",
       "</table>\n",
       "</div>"
      ],
      "text/plain": [
       "             index           x          y  \\\n",
       "0  8930e1caa2bffff  127.090880  37.493859   \n",
       "1  8930e1c8487ffff  127.043237  37.488433   \n",
       "2  8930e1c8c33ffff  127.105979  37.486245   \n",
       "3  8930e1c818bffff  127.076602  37.479954   \n",
       "4  8930e1c881bffff  127.115170  37.470806   \n",
       "\n",
       "                                            geometry  single_archarea  \\\n",
       "0  POLYGON ((127.09261 37.49364, 127.09186 37.495...             0.00   \n",
       "1  POLYGON ((127.04497 37.48822, 127.04422 37.489...           512.36   \n",
       "2  POLYGON ((127.10771 37.48603, 127.10696 37.487...             0.00   \n",
       "3  POLYGON ((127.07833 37.47974, 127.07759 37.481...            28.76   \n",
       "4  POLYGON ((127.11690 37.47059, 127.11615 37.472...             0.00   \n",
       "\n",
       "   multi_archarea  single_count  multi_count  count_bike_station  \\\n",
       "0        4203.610             0            9                   0   \n",
       "1        3198.120             5            8                   0   \n",
       "2        1993.940             0            4                   0   \n",
       "3       28729.596             1            3                   0   \n",
       "4           0.000             0            0                   0   \n",
       "\n",
       "   count_bus_line  count_subway_line  \n",
       "0               0                  0  \n",
       "1               0                  0  \n",
       "2               0                  0  \n",
       "3               0                  0  \n",
       "4               0                  0  "
      ]
     },
     "execution_count": 40,
     "metadata": {},
     "output_type": "execute_result"
    }
   ],
   "source": [
    "gdf_hexagons.head()"
   ]
  },
  {
   "cell_type": "code",
   "execution_count": 41,
   "metadata": {},
   "outputs": [],
   "source": [
    "gdf_hexagons['score_bus'] = (gdf_hexagons['count_bus_line']/max_bus_line) * 5\n",
    "gdf_hexagons['score_bike'] = (gdf_hexagons['count_bike_station']/max_bike_station) * 5\n",
    "gdf_hexagons['score_subway'] = (gdf_hexagons['count_subway_line']/max_subway_station) * 5"
   ]
  },
  {
   "cell_type": "code",
   "execution_count": 42,
   "metadata": {},
   "outputs": [],
   "source": [
    "gdf_hexagons['total_score'] = gdf_hexagons['score_bus'] + gdf_hexagons['score_bike'] + gdf_hexagons['score_subway']"
   ]
  },
  {
   "cell_type": "code",
   "execution_count": 43,
   "metadata": {},
   "outputs": [
    {
     "data": {
      "text/plain": [
       "13.26086956521739"
      ]
     },
     "execution_count": 43,
     "metadata": {},
     "output_type": "execute_result"
    }
   ],
   "source": [
    "gdf_hexagons['total_score'].max()"
   ]
  },
  {
   "cell_type": "code",
   "execution_count": 44,
   "metadata": {},
   "outputs": [
    {
     "data": {
      "text/plain": [
       "<AxesSubplot:>"
      ]
     },
     "execution_count": 44,
     "metadata": {},
     "output_type": "execute_result"
    },
    {
     "data": {
      "image/png": "[encoded data removed]",
      "text/plain": [
       "<Figure size 432x288 with 1 Axes>"
      ]
     },
     "metadata": {
      "needs_background": "light"
     },
     "output_type": "display_data"
    }
   ],
   "source": [
    "gdf_hexagons['total_score'].hist(bins=15)"
   ]
  },
  {
   "cell_type": "code",
   "execution_count": 46,
   "metadata": {},
   "outputs": [],
   "source": [
    "gdf_hexagons.to_file('../hexagon_res_9/hexagon_with_data.geojson', driver='GeoJSON', encoding='utf8')"
   ]
  },
  {
   "cell_type": "code",
   "execution_count": 47,
   "metadata": {},
   "outputs": [
    {
     "name": "stdout",
     "output_type": "stream",
     "text": [
      "<class 'geopandas.geodataframe.GeoDataFrame'>\n",
      "RangeIndex: 547 entries, 0 to 546\n",
      "Data columns (total 15 columns):\n",
      " #   Column              Non-Null Count  Dtype   \n",
      "---  ------              --------------  -----   \n",
      " 0   index               547 non-null    object  \n",
      " 1   x                   547 non-null    float64 \n",
      " 2   y                   547 non-null    float64 \n",
      " 3   geometry            547 non-null    geometry\n",
      " 4   single_archarea     547 non-null    float64 \n",
      " 5   multi_archarea      547 non-null    float64 \n",
      " 6   single_count        547 non-null    int64   \n",
      " 7   multi_count         547 non-null    int64   \n",
      " 8   count_bike_station  547 non-null    int64   \n",
      " 9   count_bus_line      547 non-null    int64   \n",
      " 10  count_subway_line   547 non-null    int64   \n",
      " 11  score_bus           547 non-null    float64 \n",
      " 12  score_bike          547 non-null    float64 \n",
      " 13  score_subway        547 non-null    float64 \n",
      " 14  total_score         547 non-null    float64 \n",
      "dtypes: float64(8), geometry(1), int64(5), object(1)\n",
      "memory usage: 64.2+ KB\n"
     ]
    }
   ],
   "source": [
    "gdf_hexagons.info()"
   ]
  },
  {
   "cell_type": "code",
   "execution_count": null,
   "metadata": {},
   "outputs": [],
   "source": []
  }
 ],
 "metadata": {
  "kernelspec": {
   "display_name": "Python 3",
   "language": "python",
   "name": "python3"
  },
  "language_info": {
   "codemirror_mode": {
    "name": "ipython",
    "version": 3
   },
   "file_extension": ".py",
   "mimetype": "text/x-python",
   "name": "python",
   "nbconvert_exporter": "python",
   "pygments_lexer": "ipython3",
   "version": "3.9.1"
  }
 },
 "nbformat": 4,
 "nbformat_minor": 4
}

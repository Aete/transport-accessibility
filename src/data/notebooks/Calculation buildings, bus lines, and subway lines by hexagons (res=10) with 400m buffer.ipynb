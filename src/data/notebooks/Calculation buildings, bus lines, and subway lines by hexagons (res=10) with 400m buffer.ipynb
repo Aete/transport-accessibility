{
 "cells": [
  {
   "cell_type": "code",
   "execution_count": 1,
   "metadata": {},
   "outputs": [],
   "source": [
    "import geopandas as gpd\n",
    "import pandas as pd\n",
    "from shapely.geometry import Point\n",
    "from fiona.crs import from_epsg"
   ]
  },
  {
   "cell_type": "code",
   "execution_count": 2,
   "metadata": {},
   "outputs": [],
   "source": [
    "gdf_residentials = gpd.read_file('../gangnamGu-building-residential.geojson', encoding='utf8', dtype={'USABILITY':str})"
   ]
  },
  {
   "cell_type": "code",
   "execution_count": 3,
   "metadata": {},
   "outputs": [],
   "source": [
    "gdf_hexagons = gpd.read_file('../hexagon_res_10/hexagons.geojson')"
   ]
  },
  {
   "cell_type": "code",
   "execution_count": 4,
   "metadata": {},
   "outputs": [],
   "source": [
    "gdf_hexagons_buffer = gdf_hexagons.copy()"
   ]
  },
  {
   "cell_type": "code",
   "execution_count": 5,
   "metadata": {},
   "outputs": [],
   "source": [
    "center_point = [Point(x,y) for x,y in zip(gdf_hexagons_buffer['x'],gdf_hexagons_buffer['y'])]"
   ]
  },
  {
   "cell_type": "code",
   "execution_count": 6,
   "metadata": {},
   "outputs": [
    {
     "name": "stderr",
     "output_type": "stream",
     "text": [
      "C:\\Users\\hsg82\\AppData\\Local\\Continuum\\anaconda3\\envs\\hex_analysis\\lib\\site-packages\\pyproj\\crs\\crs.py:53: FutureWarning: '+init=<authority>:<code>' syntax is deprecated. '<authority>:<code>' is the preferred initialization method. When making the change, be mindful of axis order changes: https://pyproj4.github.io/pyproj/stable/gotchas.html#axis-order-changes-in-proj-6\n",
      "  return _prepare_from_string(\" \".join(pjargs))\n"
     ]
    }
   ],
   "source": [
    "gs_center_point = gpd.GeoSeries(center_point)\n",
    "gs_center_point.crs = from_epsg(4326)\n",
    "gs_center_point = gs_center_point.to_crs(epsg=5174)"
   ]
  },
  {
   "cell_type": "code",
   "execution_count": 7,
   "metadata": {},
   "outputs": [],
   "source": [
    "#gdf_hexagons_buffer.crs = from_epsg(4326)\n",
    "#gdf_hexagons_buffer = gdf_hexagons_buffer.to_crs(epsg=5174)"
   ]
  },
  {
   "cell_type": "code",
   "execution_count": 8,
   "metadata": {},
   "outputs": [],
   "source": [
    "# make a buffer zone. radius = 400m\n",
    "gdf_hexagons_buffer['buffer_geometry_400m'] = gs_center_point.buffer(400) "
   ]
  },
  {
   "cell_type": "markdown",
   "metadata": {},
   "source": [
    "## Calculate the number of residential buildings and total building area of residential buildings"
   ]
  },
  {
   "cell_type": "code",
   "execution_count": 9,
   "metadata": {},
   "outputs": [],
   "source": [
    "gdf_residentials.crs = from_epsg(4326)\n",
    "gdf_residentials = gdf_residentials.to_crs(epsg=5174)"
   ]
  },
  {
   "cell_type": "code",
   "execution_count": 10,
   "metadata": {},
   "outputs": [],
   "source": [
    "# 01000 단독주택\n",
    "# 01001 단독주택\n",
    "single = ['01000','01001']\n",
    "\n",
    "# 01002 다중주택\n",
    "# 01003 다가구주택\n",
    "# 02003 다세대주택\n",
    "multi = ['01002','01003','02003']\n",
    "\n",
    "# 02000 공동주택\n",
    "# 02001 아파트\n",
    "# 02002 연립주택\n",
    "flat = ['02000','02001','02002']\n",
    "\n",
    "# 10202 오피스텔\n",
    "mxd = ['10202']\n",
    "\n",
    "# 01004 공관\n",
    "# 02007 기숙사 \n",
    "etc = ['01004','02007']"
   ]
  },
  {
   "cell_type": "code",
   "execution_count": 11,
   "metadata": {},
   "outputs": [
    {
     "data": {
      "text/plain": [
       "array(['01000', '02000'], dtype=object)"
      ]
     },
     "execution_count": 11,
     "metadata": {},
     "output_type": "execute_result"
    }
   ],
   "source": [
    "gdf_residentials['USABILITY'].unique()"
   ]
  },
  {
   "cell_type": "code",
   "execution_count": 12,
   "metadata": {},
   "outputs": [],
   "source": [
    "gdf_single = gdf_residentials.loc[gdf_residentials['USABILITY']=='01000']\n",
    "gdf_multi = gdf_residentials.loc[gdf_residentials['USABILITY']=='02000']"
   ]
  },
  {
   "cell_type": "code",
   "execution_count": 13,
   "metadata": {},
   "outputs": [
    {
     "data": {
      "text/plain": [
       "(11833, 15)"
      ]
     },
     "execution_count": 13,
     "metadata": {},
     "output_type": "execute_result"
    }
   ],
   "source": [
    "gdf_residentials.shape"
   ]
  },
  {
   "cell_type": "code",
   "execution_count": 14,
   "metadata": {},
   "outputs": [
    {
     "data": {
      "text/plain": [
       "(6484, 15)"
      ]
     },
     "execution_count": 14,
     "metadata": {},
     "output_type": "execute_result"
    }
   ],
   "source": [
    "gdf_single.shape"
   ]
  },
  {
   "cell_type": "code",
   "execution_count": 15,
   "metadata": {},
   "outputs": [
    {
     "data": {
      "text/plain": [
       "(5349, 15)"
      ]
     },
     "execution_count": 15,
     "metadata": {},
     "output_type": "execute_result"
    }
   ],
   "source": [
    "gdf_multi.shape"
   ]
  },
  {
   "cell_type": "code",
   "execution_count": 16,
   "metadata": {},
   "outputs": [],
   "source": [
    "def count_buildings(polygon, target_buildings):\n",
    "    '''\n",
    "    This function is for making a list of buildings that is in a hexagon area.\n",
    "    -----\n",
    "    input:\n",
    "    polygon (Shapely.geometry.Polygon): a hexagon polygon \n",
    "    -----\n",
    "    output:\n",
    "    precise_matches_list (list): a list of residential buildings\n",
    "    \n",
    "    '''\n",
    "    try:\n",
    "        buildings_sindex = target_buildings.sindex\n",
    "        possible_matches_index = list(buildings_sindex.intersection(polygon.bounds))\n",
    "        possible_matches = target_buildings.iloc[possible_matches_index]\n",
    "        # extract the list of buildings that is in a hexagon\n",
    "        precise_matches_list = possible_matches[possible_matches.intersects(polygon)]['UFID'].tolist()\n",
    "    except:\n",
    "        # if there is no buildings that matched within a hexagon, return empty list\n",
    "        precise_matches_list = []\n",
    "    return precise_matches_list"
   ]
  },
  {
   "cell_type": "code",
   "execution_count": 17,
   "metadata": {},
   "outputs": [],
   "source": [
    "gdf_hexagons_buffer['single_houses'] = gdf_hexagons_buffer['geometry'].apply(lambda x: count_buildings(x,gdf_single))"
   ]
  },
  {
   "cell_type": "code",
   "execution_count": 18,
   "metadata": {},
   "outputs": [],
   "source": [
    "gdf_hexagons_buffer['multi_houses'] = gdf_hexagons_buffer['geometry'].apply(lambda x: count_buildings(x,gdf_multi))"
   ]
  },
  {
   "cell_type": "code",
   "execution_count": 19,
   "metadata": {},
   "outputs": [
    {
     "data": {
      "text/plain": [
       "Index(['USABILITY', 'HEIGHT', 'PNU', 'GRND_FLR', 'UGRND_FLR', 'DONG_NM',\n",
       "       'COL_ADM_SE', 'UFID', 'BLDG_PNU', 'BD_MGT_SN', 'ARCHAREA', 'TOTALAREA',\n",
       "       'BC_RAT', 'VL_RAT', 'geometry'],\n",
       "      dtype='object')"
      ]
     },
     "execution_count": 19,
     "metadata": {},
     "output_type": "execute_result"
    }
   ],
   "source": [
    "gdf_residentials.columns"
   ]
  },
  {
   "cell_type": "code",
   "execution_count": 20,
   "metadata": {},
   "outputs": [],
   "source": [
    "def sum_archarea(house_list):\n",
    "    total = gdf_residentials.loc[gdf_residentials['UFID'].isin(house_list)]['ARCHAREA'].sum()\n",
    "    return total"
   ]
  },
  {
   "cell_type": "code",
   "execution_count": 21,
   "metadata": {},
   "outputs": [],
   "source": [
    "gdf_hexagons_buffer['single_archarea'] = gdf_hexagons_buffer['single_houses'].apply(lambda x: sum_archarea(x))"
   ]
  },
  {
   "cell_type": "code",
   "execution_count": 22,
   "metadata": {},
   "outputs": [],
   "source": [
    "gdf_hexagons_buffer['multi_archarea'] = gdf_hexagons_buffer['multi_houses'].apply(lambda x: sum_archarea(x))"
   ]
  },
  {
   "cell_type": "code",
   "execution_count": 23,
   "metadata": {},
   "outputs": [],
   "source": [
    "gdf_hexagons_buffer['single_count'] = gdf_hexagons_buffer['single_houses'].apply(lambda x: len(x))\n",
    "gdf_hexagons_buffer['multi_count'] = gdf_hexagons_buffer['multi_houses'].apply(lambda x: len(x))"
   ]
  },
  {
   "cell_type": "code",
   "execution_count": 24,
   "metadata": {},
   "outputs": [],
   "source": [
    "gdf_hexagons_buffer = gdf_hexagons_buffer.drop(['single_houses','multi_houses'], axis=1)"
   ]
  },
  {
   "cell_type": "code",
   "execution_count": 25,
   "metadata": {},
   "outputs": [
    {
     "data": {
      "text/html": [
       "<div>\n",
       "<style scoped>\n",
       "    .dataframe tbody tr th:only-of-type {\n",
       "        vertical-align: middle;\n",
       "    }\n",
       "\n",
       "    .dataframe tbody tr th {\n",
       "        vertical-align: top;\n",
       "    }\n",
       "\n",
       "    .dataframe thead th {\n",
       "        text-align: right;\n",
       "    }\n",
       "</style>\n",
       "<table border=\"1\" class=\"dataframe\">\n",
       "  <thead>\n",
       "    <tr style=\"text-align: right;\">\n",
       "      <th></th>\n",
       "      <th>index</th>\n",
       "      <th>x</th>\n",
       "      <th>y</th>\n",
       "      <th>geometry</th>\n",
       "      <th>buffer_geometry_400m</th>\n",
       "      <th>single_archarea</th>\n",
       "      <th>multi_archarea</th>\n",
       "      <th>single_count</th>\n",
       "      <th>multi_count</th>\n",
       "    </tr>\n",
       "  </thead>\n",
       "  <tbody>\n",
       "    <tr>\n",
       "      <th>0</th>\n",
       "      <td>8a30e1c8084ffff</td>\n",
       "      <td>127.061695</td>\n",
       "      <td>37.476327</td>\n",
       "      <td>POLYGON ((127.06230 37.47605, 127.06222 37.476...</td>\n",
       "      <td>POLYGON ((205787.396 441573.113, 205785.470 44...</td>\n",
       "      <td>0.0</td>\n",
       "      <td>0.0</td>\n",
       "      <td>0</td>\n",
       "      <td>0</td>\n",
       "    </tr>\n",
       "    <tr>\n",
       "      <th>1</th>\n",
       "      <td>8a30e1c85aaffff</td>\n",
       "      <td>127.067626</td>\n",
       "      <td>37.493522</td>\n",
       "      <td>POLYGON ((127.06823 37.49324, 127.06815 37.493...</td>\n",
       "      <td>POLYGON ((206310.648 443481.945, 206308.722 44...</td>\n",
       "      <td>0.0</td>\n",
       "      <td>0.0</td>\n",
       "      <td>0</td>\n",
       "      <td>0</td>\n",
       "    </tr>\n",
       "    <tr>\n",
       "      <th>2</th>\n",
       "      <td>8a30e1ca126ffff</td>\n",
       "      <td>127.059607</td>\n",
       "      <td>37.523075</td>\n",
       "      <td>POLYGON ((127.06021 37.52280, 127.06014 37.523...</td>\n",
       "      <td>POLYGON ((205599.520 446761.437, 205597.594 44...</td>\n",
       "      <td>0.0</td>\n",
       "      <td>0.0</td>\n",
       "      <td>0</td>\n",
       "      <td>0</td>\n",
       "    </tr>\n",
       "    <tr>\n",
       "      <th>3</th>\n",
       "      <td>8a30e1c88797fff</td>\n",
       "      <td>127.119429</td>\n",
       "      <td>37.463536</td>\n",
       "      <td>POLYGON ((127.12003 37.46326, 127.11996 37.463...</td>\n",
       "      <td>POLYGON ((210895.957 440158.300, 210894.031 44...</td>\n",
       "      <td>0.0</td>\n",
       "      <td>0.0</td>\n",
       "      <td>0</td>\n",
       "      <td>0</td>\n",
       "    </tr>\n",
       "    <tr>\n",
       "      <th>4</th>\n",
       "      <td>8a30e1ca4257fff</td>\n",
       "      <td>127.022375</td>\n",
       "      <td>37.525698</td>\n",
       "      <td>POLYGON ((127.02298 37.52542, 127.02290 37.526...</td>\n",
       "      <td>POLYGON ((202308.140 447051.285, 202306.214 44...</td>\n",
       "      <td>0.0</td>\n",
       "      <td>0.0</td>\n",
       "      <td>0</td>\n",
       "      <td>0</td>\n",
       "    </tr>\n",
       "  </tbody>\n",
       "</table>\n",
       "</div>"
      ],
      "text/plain": [
       "             index           x          y  \\\n",
       "0  8a30e1c8084ffff  127.061695  37.476327   \n",
       "1  8a30e1c85aaffff  127.067626  37.493522   \n",
       "2  8a30e1ca126ffff  127.059607  37.523075   \n",
       "3  8a30e1c88797fff  127.119429  37.463536   \n",
       "4  8a30e1ca4257fff  127.022375  37.525698   \n",
       "\n",
       "                                            geometry  \\\n",
       "0  POLYGON ((127.06230 37.47605, 127.06222 37.476...   \n",
       "1  POLYGON ((127.06823 37.49324, 127.06815 37.493...   \n",
       "2  POLYGON ((127.06021 37.52280, 127.06014 37.523...   \n",
       "3  POLYGON ((127.12003 37.46326, 127.11996 37.463...   \n",
       "4  POLYGON ((127.02298 37.52542, 127.02290 37.526...   \n",
       "\n",
       "                                buffer_geometry_400m  single_archarea  \\\n",
       "0  POLYGON ((205787.396 441573.113, 205785.470 44...              0.0   \n",
       "1  POLYGON ((206310.648 443481.945, 206308.722 44...              0.0   \n",
       "2  POLYGON ((205599.520 446761.437, 205597.594 44...              0.0   \n",
       "3  POLYGON ((210895.957 440158.300, 210894.031 44...              0.0   \n",
       "4  POLYGON ((202308.140 447051.285, 202306.214 44...              0.0   \n",
       "\n",
       "   multi_archarea  single_count  multi_count  \n",
       "0             0.0             0            0  \n",
       "1             0.0             0            0  \n",
       "2             0.0             0            0  \n",
       "3             0.0             0            0  \n",
       "4             0.0             0            0  "
      ]
     },
     "execution_count": 25,
     "metadata": {},
     "output_type": "execute_result"
    }
   ],
   "source": [
    "gdf_hexagons_buffer.head()"
   ]
  },
  {
   "cell_type": "markdown",
   "metadata": {},
   "source": [
    "##  Count the number of public bike stations in a 400 buffer zone of a hexagon"
   ]
  },
  {
   "cell_type": "code",
   "execution_count": 26,
   "metadata": {},
   "outputs": [],
   "source": [
    "gdf_bike = gpd.read_file('../publicBikeStation.geojson')"
   ]
  },
  {
   "cell_type": "code",
   "execution_count": 27,
   "metadata": {},
   "outputs": [
    {
     "data": {
      "text/html": [
       "<div>\n",
       "<style scoped>\n",
       "    .dataframe tbody tr th:only-of-type {\n",
       "        vertical-align: middle;\n",
       "    }\n",
       "\n",
       "    .dataframe tbody tr th {\n",
       "        vertical-align: top;\n",
       "    }\n",
       "\n",
       "    .dataframe thead th {\n",
       "        text-align: right;\n",
       "    }\n",
       "</style>\n",
       "<table border=\"1\" class=\"dataframe\">\n",
       "  <thead>\n",
       "    <tr style=\"text-align: right;\">\n",
       "      <th></th>\n",
       "      <th>stationid</th>\n",
       "      <th>gu</th>\n",
       "      <th>address</th>\n",
       "      <th>y</th>\n",
       "      <th>x</th>\n",
       "      <th>lcd_number</th>\n",
       "      <th>qr_number</th>\n",
       "      <th>type</th>\n",
       "      <th>geometry</th>\n",
       "    </tr>\n",
       "  </thead>\n",
       "  <tbody>\n",
       "    <tr>\n",
       "      <th>0</th>\n",
       "      <td>1695</td>\n",
       "      <td>???</td>\n",
       "      <td>??? ??? 14</td>\n",
       "      <td>37.623417</td>\n",
       "      <td>127.066933</td>\n",
       "      <td>NaN</td>\n",
       "      <td>10.0</td>\n",
       "      <td>QR</td>\n",
       "      <td>POINT (127.06693 37.62342)</td>\n",
       "    </tr>\n",
       "    <tr>\n",
       "      <th>1</th>\n",
       "      <td>2301</td>\n",
       "      <td>???</td>\n",
       "      <td>????? ??? ???? 134</td>\n",
       "      <td>37.524071</td>\n",
       "      <td>127.021790</td>\n",
       "      <td>10.0</td>\n",
       "      <td>NaN</td>\n",
       "      <td>LCD</td>\n",
       "      <td>POINT (127.02179 37.52407)</td>\n",
       "    </tr>\n",
       "    <tr>\n",
       "      <th>2</th>\n",
       "      <td>2302</td>\n",
       "      <td>???</td>\n",
       "      <td>????? ??? ???? ?? 102</td>\n",
       "      <td>37.505581</td>\n",
       "      <td>127.024277</td>\n",
       "      <td>10.0</td>\n",
       "      <td>NaN</td>\n",
       "      <td>LCD</td>\n",
       "      <td>POINT (127.02428 37.50558)</td>\n",
       "    </tr>\n",
       "    <tr>\n",
       "      <th>3</th>\n",
       "      <td>2303</td>\n",
       "      <td>???</td>\n",
       "      <td>????? ??? ??? ?? 102</td>\n",
       "      <td>37.511517</td>\n",
       "      <td>127.021477</td>\n",
       "      <td>15.0</td>\n",
       "      <td>NaN</td>\n",
       "      <td>LCD</td>\n",
       "      <td>POINT (127.02148 37.51152)</td>\n",
       "    </tr>\n",
       "    <tr>\n",
       "      <th>4</th>\n",
       "      <td>2304</td>\n",
       "      <td>???</td>\n",
       "      <td>????? ??? ??? 626</td>\n",
       "      <td>37.512527</td>\n",
       "      <td>127.035835</td>\n",
       "      <td>10.0</td>\n",
       "      <td>NaN</td>\n",
       "      <td>LCD</td>\n",
       "      <td>POINT (127.03584 37.51253)</td>\n",
       "    </tr>\n",
       "  </tbody>\n",
       "</table>\n",
       "</div>"
      ],
      "text/plain": [
       "   stationid   gu                address          y           x  lcd_number  \\\n",
       "0       1695  ???            ??? ??? 14   37.623417  127.066933         NaN   \n",
       "1       2301  ???     ????? ??? ???? 134  37.524071  127.021790        10.0   \n",
       "2       2302  ???  ????? ??? ???? ?? 102  37.505581  127.024277        10.0   \n",
       "3       2303  ???   ????? ??? ??? ?? 102  37.511517  127.021477        15.0   \n",
       "4       2304  ???      ????? ??? ??? 626  37.512527  127.035835        10.0   \n",
       "\n",
       "   qr_number type                    geometry  \n",
       "0       10.0   QR  POINT (127.06693 37.62342)  \n",
       "1        NaN  LCD  POINT (127.02179 37.52407)  \n",
       "2        NaN  LCD  POINT (127.02428 37.50558)  \n",
       "3        NaN  LCD  POINT (127.02148 37.51152)  \n",
       "4        NaN  LCD  POINT (127.03584 37.51253)  "
      ]
     },
     "execution_count": 27,
     "metadata": {},
     "output_type": "execute_result"
    }
   ],
   "source": [
    "gdf_bike.head()"
   ]
  },
  {
   "cell_type": "code",
   "execution_count": 28,
   "metadata": {},
   "outputs": [
    {
     "name": "stderr",
     "output_type": "stream",
     "text": [
      "C:\\Users\\hsg82\\AppData\\Local\\Continuum\\anaconda3\\envs\\hex_analysis\\lib\\site-packages\\pyproj\\crs\\crs.py:53: FutureWarning: '+init=<authority>:<code>' syntax is deprecated. '<authority>:<code>' is the preferred initialization method. When making the change, be mindful of axis order changes: https://pyproj4.github.io/pyproj/stable/gotchas.html#axis-order-changes-in-proj-6\n",
      "  return _prepare_from_string(\" \".join(pjargs))\n"
     ]
    }
   ],
   "source": [
    "gdf_bike.crs = from_epsg(4326)\n",
    "gdf_bike = gdf_bike.to_crs(epsg=5174)"
   ]
  },
  {
   "cell_type": "code",
   "execution_count": 29,
   "metadata": {},
   "outputs": [],
   "source": [
    "def count_stations(polygon, stations):\n",
    "    try:\n",
    "        station_sindex = stations.sindex\n",
    "        possible_matches_index = list(station_sindex.intersection(polygon.bounds))\n",
    "        possible_matches = stations.iloc[possible_matches_index]\n",
    "        # extract the list of buildings that is in a hexagon\n",
    "        precise_matches_list = possible_matches[possible_matches.intersects(polygon)]['stationid'].tolist()\n",
    "    except:\n",
    "        # if there is no station that matched within a hexagon, return empty list\n",
    "        precise_matches_list = []\n",
    "    return len(precise_matches_list)                        "
   ]
  },
  {
   "cell_type": "code",
   "execution_count": 30,
   "metadata": {},
   "outputs": [],
   "source": [
    "gdf_hexagons_buffer['count_bike_station'] = gdf_hexagons_buffer['buffer_geometry_400m'].apply(lambda x:count_stations(x,gdf_bike))"
   ]
  },
  {
   "cell_type": "markdown",
   "metadata": {},
   "source": [
    "## Count the number of bus lines"
   ]
  },
  {
   "cell_type": "code",
   "execution_count": 31,
   "metadata": {},
   "outputs": [],
   "source": [
    "gdf_bus_stop = gpd.read_file('../seoulBusStop.geojson', dtype={'ARS-ID':str})"
   ]
  },
  {
   "cell_type": "code",
   "execution_count": 32,
   "metadata": {},
   "outputs": [
    {
     "data": {
      "text/html": [
       "<div>\n",
       "<style scoped>\n",
       "    .dataframe tbody tr th:only-of-type {\n",
       "        vertical-align: middle;\n",
       "    }\n",
       "\n",
       "    .dataframe tbody tr th {\n",
       "        vertical-align: top;\n",
       "    }\n",
       "\n",
       "    .dataframe thead th {\n",
       "        text-align: right;\n",
       "    }\n",
       "</style>\n",
       "<table border=\"1\" class=\"dataframe\">\n",
       "  <thead>\n",
       "    <tr style=\"text-align: right;\">\n",
       "      <th></th>\n",
       "      <th>표준ID</th>\n",
       "      <th>ARS-ID</th>\n",
       "      <th>정류장명</th>\n",
       "      <th>X좌표</th>\n",
       "      <th>Y좌표</th>\n",
       "      <th>geometry</th>\n",
       "    </tr>\n",
       "  </thead>\n",
       "  <tbody>\n",
       "    <tr>\n",
       "      <th>0</th>\n",
       "      <td>100000001</td>\n",
       "      <td>1001</td>\n",
       "      <td>종로2가사거리</td>\n",
       "      <td>126.987750</td>\n",
       "      <td>37.569765</td>\n",
       "      <td>POINT (126.98775 37.56977)</td>\n",
       "    </tr>\n",
       "    <tr>\n",
       "      <th>1</th>\n",
       "      <td>100000002</td>\n",
       "      <td>1002</td>\n",
       "      <td>창경궁.서울대학교병원</td>\n",
       "      <td>126.996566</td>\n",
       "      <td>37.579183</td>\n",
       "      <td>POINT (126.99657 37.57918)</td>\n",
       "    </tr>\n",
       "    <tr>\n",
       "      <th>2</th>\n",
       "      <td>100000003</td>\n",
       "      <td>1003</td>\n",
       "      <td>명륜3가.성대입구</td>\n",
       "      <td>126.998340</td>\n",
       "      <td>37.582671</td>\n",
       "      <td>POINT (126.99834 37.58267)</td>\n",
       "    </tr>\n",
       "    <tr>\n",
       "      <th>3</th>\n",
       "      <td>100000004</td>\n",
       "      <td>1004</td>\n",
       "      <td>종로2가.삼일교</td>\n",
       "      <td>126.987613</td>\n",
       "      <td>37.568579</td>\n",
       "      <td>POINT (126.98761 37.56858)</td>\n",
       "    </tr>\n",
       "    <tr>\n",
       "      <th>4</th>\n",
       "      <td>100000005</td>\n",
       "      <td>1005</td>\n",
       "      <td>혜화동로터리.여운형활동터</td>\n",
       "      <td>127.001744</td>\n",
       "      <td>37.586243</td>\n",
       "      <td>POINT (127.00174 37.58624)</td>\n",
       "    </tr>\n",
       "  </tbody>\n",
       "</table>\n",
       "</div>"
      ],
      "text/plain": [
       "        표준ID  ARS-ID           정류장명         X좌표        Y좌표  \\\n",
       "0  100000001    1001        종로2가사거리  126.987750  37.569765   \n",
       "1  100000002    1002    창경궁.서울대학교병원  126.996566  37.579183   \n",
       "2  100000003    1003      명륜3가.성대입구  126.998340  37.582671   \n",
       "3  100000004    1004       종로2가.삼일교  126.987613  37.568579   \n",
       "4  100000005    1005  혜화동로터리.여운형활동터  127.001744  37.586243   \n",
       "\n",
       "                     geometry  \n",
       "0  POINT (126.98775 37.56977)  \n",
       "1  POINT (126.99657 37.57918)  \n",
       "2  POINT (126.99834 37.58267)  \n",
       "3  POINT (126.98761 37.56858)  \n",
       "4  POINT (127.00174 37.58624)  "
      ]
     },
     "execution_count": 32,
     "metadata": {},
     "output_type": "execute_result"
    }
   ],
   "source": [
    "gdf_bus_stop.head()"
   ]
  },
  {
   "cell_type": "code",
   "execution_count": 33,
   "metadata": {},
   "outputs": [
    {
     "name": "stderr",
     "output_type": "stream",
     "text": [
      "C:\\Users\\hsg82\\AppData\\Local\\Continuum\\anaconda3\\envs\\hex_analysis\\lib\\site-packages\\pyproj\\crs\\crs.py:53: FutureWarning: '+init=<authority>:<code>' syntax is deprecated. '<authority>:<code>' is the preferred initialization method. When making the change, be mindful of axis order changes: https://pyproj4.github.io/pyproj/stable/gotchas.html#axis-order-changes-in-proj-6\n",
      "  return _prepare_from_string(\" \".join(pjargs))\n"
     ]
    }
   ],
   "source": [
    "gdf_bus_stop.crs = from_epsg(4326)\n",
    "gdf_bus_stop = gdf_bus_stop.to_crs(epsg=5174)"
   ]
  },
  {
   "cell_type": "code",
   "execution_count": 34,
   "metadata": {},
   "outputs": [],
   "source": [
    "df_bus_line = pd.read_csv('../seoulBusLine.csv')"
   ]
  },
  {
   "cell_type": "code",
   "execution_count": 35,
   "metadata": {},
   "outputs": [
    {
     "data": {
      "text/html": [
       "<div>\n",
       "<style scoped>\n",
       "    .dataframe tbody tr th:only-of-type {\n",
       "        vertical-align: middle;\n",
       "    }\n",
       "\n",
       "    .dataframe tbody tr th {\n",
       "        vertical-align: top;\n",
       "    }\n",
       "\n",
       "    .dataframe thead th {\n",
       "        text-align: right;\n",
       "    }\n",
       "</style>\n",
       "<table border=\"1\" class=\"dataframe\">\n",
       "  <thead>\n",
       "    <tr style=\"text-align: right;\">\n",
       "      <th></th>\n",
       "      <th>노선ID</th>\n",
       "      <th>노선명</th>\n",
       "      <th>순번</th>\n",
       "      <th>구간ID</th>\n",
       "      <th>정류소ID</th>\n",
       "      <th>ARS-ID</th>\n",
       "      <th>정류소명</th>\n",
       "      <th>X좌표</th>\n",
       "      <th>Y좌표</th>\n",
       "    </tr>\n",
       "  </thead>\n",
       "  <tbody>\n",
       "    <tr>\n",
       "      <th>0</th>\n",
       "      <td>100100124</td>\n",
       "      <td>0017</td>\n",
       "      <td>1</td>\n",
       "      <td>0</td>\n",
       "      <td>102000271</td>\n",
       "      <td>3689</td>\n",
       "      <td>청암자이아파트</td>\n",
       "      <td>126.946517</td>\n",
       "      <td>37.534363</td>\n",
       "    </tr>\n",
       "    <tr>\n",
       "      <th>1</th>\n",
       "      <td>100100124</td>\n",
       "      <td>0017</td>\n",
       "      <td>2</td>\n",
       "      <td>102700549</td>\n",
       "      <td>102000204</td>\n",
       "      <td>3298</td>\n",
       "      <td>청암동강변삼성아파트</td>\n",
       "      <td>126.949304</td>\n",
       "      <td>37.533961</td>\n",
       "    </tr>\n",
       "    <tr>\n",
       "      <th>2</th>\n",
       "      <td>100100124</td>\n",
       "      <td>0017</td>\n",
       "      <td>3</td>\n",
       "      <td>102700550</td>\n",
       "      <td>102000227</td>\n",
       "      <td>3321</td>\n",
       "      <td>청심경로당</td>\n",
       "      <td>126.950449</td>\n",
       "      <td>37.533744</td>\n",
       "    </tr>\n",
       "    <tr>\n",
       "      <th>3</th>\n",
       "      <td>100100124</td>\n",
       "      <td>0017</td>\n",
       "      <td>4</td>\n",
       "      <td>102700551</td>\n",
       "      <td>102000210</td>\n",
       "      <td>3304</td>\n",
       "      <td>원효2동주민센터</td>\n",
       "      <td>126.950904</td>\n",
       "      <td>37.534278</td>\n",
       "    </tr>\n",
       "    <tr>\n",
       "      <th>4</th>\n",
       "      <td>100100124</td>\n",
       "      <td>0017</td>\n",
       "      <td>5</td>\n",
       "      <td>102700552</td>\n",
       "      <td>102000212</td>\n",
       "      <td>3306</td>\n",
       "      <td>산천동</td>\n",
       "      <td>126.953984</td>\n",
       "      <td>37.535420</td>\n",
       "    </tr>\n",
       "  </tbody>\n",
       "</table>\n",
       "</div>"
      ],
      "text/plain": [
       "        노선ID   노선명  순번       구간ID      정류소ID  ARS-ID        정류소명         X좌표  \\\n",
       "0  100100124  0017   1          0  102000271    3689     청암자이아파트  126.946517   \n",
       "1  100100124  0017   2  102700549  102000204    3298  청암동강변삼성아파트  126.949304   \n",
       "2  100100124  0017   3  102700550  102000227    3321       청심경로당  126.950449   \n",
       "3  100100124  0017   4  102700551  102000210    3304    원효2동주민센터  126.950904   \n",
       "4  100100124  0017   5  102700552  102000212    3306         산천동  126.953984   \n",
       "\n",
       "         Y좌표  \n",
       "0  37.534363  \n",
       "1  37.533961  \n",
       "2  37.533744  \n",
       "3  37.534278  \n",
       "4  37.535420  "
      ]
     },
     "execution_count": 35,
     "metadata": {},
     "output_type": "execute_result"
    }
   ],
   "source": [
    "df_bus_line.head()"
   ]
  },
  {
   "cell_type": "code",
   "execution_count": 36,
   "metadata": {},
   "outputs": [],
   "source": [
    "def get_bus_stations(polygon, stations):\n",
    "    try:\n",
    "        station_sindex = stations.sindex\n",
    "        possible_matches_index = list(station_sindex.intersection(polygon.bounds))\n",
    "        possible_matches = stations.iloc[possible_matches_index]\n",
    "        # extract the list of buildings that is in a hexagon\n",
    "        precise_matches_list = possible_matches[possible_matches.intersects(polygon)]['표준ID'].tolist()\n",
    "    except:\n",
    "        # if there is no station that matched within a hexagon, return empty list\n",
    "        precise_matches_list = []\n",
    "    return precise_matches_list   "
   ]
  },
  {
   "cell_type": "code",
   "execution_count": 37,
   "metadata": {},
   "outputs": [],
   "source": [
    "gdf_hexagons_buffer['bus_stops'] = gdf_hexagons_buffer['buffer_geometry_400m'].apply(lambda x: get_bus_stations(x,gdf_bus_stop))"
   ]
  },
  {
   "cell_type": "code",
   "execution_count": 38,
   "metadata": {},
   "outputs": [],
   "source": [
    "def count_bus_lines(bus_stops, lines):\n",
    "    return len(lines[lines['정류소ID'].isin(bus_stops)]['노선ID'].unique().tolist())"
   ]
  },
  {
   "cell_type": "code",
   "execution_count": 39,
   "metadata": {},
   "outputs": [],
   "source": [
    "gdf_hexagons_buffer['count_bus_line'] = gdf_hexagons_buffer['bus_stops'].apply(lambda x: count_bus_lines(x,df_bus_line))"
   ]
  },
  {
   "cell_type": "code",
   "execution_count": 40,
   "metadata": {},
   "outputs": [
    {
     "data": {
      "text/html": [
       "<div>\n",
       "<style scoped>\n",
       "    .dataframe tbody tr th:only-of-type {\n",
       "        vertical-align: middle;\n",
       "    }\n",
       "\n",
       "    .dataframe tbody tr th {\n",
       "        vertical-align: top;\n",
       "    }\n",
       "\n",
       "    .dataframe thead th {\n",
       "        text-align: right;\n",
       "    }\n",
       "</style>\n",
       "<table border=\"1\" class=\"dataframe\">\n",
       "  <thead>\n",
       "    <tr style=\"text-align: right;\">\n",
       "      <th></th>\n",
       "      <th>index</th>\n",
       "      <th>x</th>\n",
       "      <th>y</th>\n",
       "      <th>geometry</th>\n",
       "      <th>buffer_geometry_400m</th>\n",
       "      <th>single_archarea</th>\n",
       "      <th>multi_archarea</th>\n",
       "      <th>single_count</th>\n",
       "      <th>multi_count</th>\n",
       "      <th>count_bike_station</th>\n",
       "      <th>bus_stops</th>\n",
       "      <th>count_bus_line</th>\n",
       "    </tr>\n",
       "  </thead>\n",
       "  <tbody>\n",
       "    <tr>\n",
       "      <th>0</th>\n",
       "      <td>8a30e1c8084ffff</td>\n",
       "      <td>127.061695</td>\n",
       "      <td>37.476327</td>\n",
       "      <td>POLYGON ((127.06230 37.47605, 127.06222 37.476...</td>\n",
       "      <td>POLYGON ((205787.396 441573.113, 205785.470 44...</td>\n",
       "      <td>0.0</td>\n",
       "      <td>0.0</td>\n",
       "      <td>0</td>\n",
       "      <td>0</td>\n",
       "      <td>1</td>\n",
       "      <td>[122900052, 122000262, 122000344, 122000326, 1...</td>\n",
       "      <td>8</td>\n",
       "    </tr>\n",
       "    <tr>\n",
       "      <th>1</th>\n",
       "      <td>8a30e1c85aaffff</td>\n",
       "      <td>127.067626</td>\n",
       "      <td>37.493522</td>\n",
       "      <td>POLYGON ((127.06823 37.49324, 127.06815 37.493...</td>\n",
       "      <td>POLYGON ((206310.648 443481.945, 206308.722 44...</td>\n",
       "      <td>0.0</td>\n",
       "      <td>0.0</td>\n",
       "      <td>0</td>\n",
       "      <td>0</td>\n",
       "      <td>2</td>\n",
       "      <td>[122000128, 122000136, 122000135, 122000134, 1...</td>\n",
       "      <td>16</td>\n",
       "    </tr>\n",
       "    <tr>\n",
       "      <th>2</th>\n",
       "      <td>8a30e1ca126ffff</td>\n",
       "      <td>127.059607</td>\n",
       "      <td>37.523075</td>\n",
       "      <td>POLYGON ((127.06021 37.52280, 127.06014 37.523...</td>\n",
       "      <td>POLYGON ((205599.520 446761.437, 205597.594 44...</td>\n",
       "      <td>0.0</td>\n",
       "      <td>0.0</td>\n",
       "      <td>0</td>\n",
       "      <td>0</td>\n",
       "      <td>1</td>\n",
       "      <td>[122000068, 122000069, 122000067, 122000066]</td>\n",
       "      <td>10</td>\n",
       "    </tr>\n",
       "    <tr>\n",
       "      <th>3</th>\n",
       "      <td>8a30e1c88797fff</td>\n",
       "      <td>127.119429</td>\n",
       "      <td>37.463536</td>\n",
       "      <td>POLYGON ((127.12003 37.46326, 127.11996 37.463...</td>\n",
       "      <td>POLYGON ((210895.957 440158.300, 210894.031 44...</td>\n",
       "      <td>0.0</td>\n",
       "      <td>0.0</td>\n",
       "      <td>0</td>\n",
       "      <td>0</td>\n",
       "      <td>0</td>\n",
       "      <td>[122000310, 122000313]</td>\n",
       "      <td>3</td>\n",
       "    </tr>\n",
       "    <tr>\n",
       "      <th>4</th>\n",
       "      <td>8a30e1ca4257fff</td>\n",
       "      <td>127.022375</td>\n",
       "      <td>37.525698</td>\n",
       "      <td>POLYGON ((127.02298 37.52542, 127.02290 37.526...</td>\n",
       "      <td>POLYGON ((202308.140 447051.285, 202306.214 44...</td>\n",
       "      <td>0.0</td>\n",
       "      <td>0.0</td>\n",
       "      <td>0</td>\n",
       "      <td>0</td>\n",
       "      <td>1</td>\n",
       "      <td>[122000001, 122000638, 122000002, 122000738, 1...</td>\n",
       "      <td>10</td>\n",
       "    </tr>\n",
       "  </tbody>\n",
       "</table>\n",
       "</div>"
      ],
      "text/plain": [
       "             index           x          y  \\\n",
       "0  8a30e1c8084ffff  127.061695  37.476327   \n",
       "1  8a30e1c85aaffff  127.067626  37.493522   \n",
       "2  8a30e1ca126ffff  127.059607  37.523075   \n",
       "3  8a30e1c88797fff  127.119429  37.463536   \n",
       "4  8a30e1ca4257fff  127.022375  37.525698   \n",
       "\n",
       "                                            geometry  \\\n",
       "0  POLYGON ((127.06230 37.47605, 127.06222 37.476...   \n",
       "1  POLYGON ((127.06823 37.49324, 127.06815 37.493...   \n",
       "2  POLYGON ((127.06021 37.52280, 127.06014 37.523...   \n",
       "3  POLYGON ((127.12003 37.46326, 127.11996 37.463...   \n",
       "4  POLYGON ((127.02298 37.52542, 127.02290 37.526...   \n",
       "\n",
       "                                buffer_geometry_400m  single_archarea  \\\n",
       "0  POLYGON ((205787.396 441573.113, 205785.470 44...              0.0   \n",
       "1  POLYGON ((206310.648 443481.945, 206308.722 44...              0.0   \n",
       "2  POLYGON ((205599.520 446761.437, 205597.594 44...              0.0   \n",
       "3  POLYGON ((210895.957 440158.300, 210894.031 44...              0.0   \n",
       "4  POLYGON ((202308.140 447051.285, 202306.214 44...              0.0   \n",
       "\n",
       "   multi_archarea  single_count  multi_count  count_bike_station  \\\n",
       "0             0.0             0            0                   1   \n",
       "1             0.0             0            0                   2   \n",
       "2             0.0             0            0                   1   \n",
       "3             0.0             0            0                   0   \n",
       "4             0.0             0            0                   1   \n",
       "\n",
       "                                           bus_stops  count_bus_line  \n",
       "0  [122900052, 122000262, 122000344, 122000326, 1...               8  \n",
       "1  [122000128, 122000136, 122000135, 122000134, 1...              16  \n",
       "2       [122000068, 122000069, 122000067, 122000066]              10  \n",
       "3                             [122000310, 122000313]               3  \n",
       "4  [122000001, 122000638, 122000002, 122000738, 1...              10  "
      ]
     },
     "execution_count": 40,
     "metadata": {},
     "output_type": "execute_result"
    }
   ],
   "source": [
    "gdf_hexagons_buffer.head()"
   ]
  },
  {
   "cell_type": "code",
   "execution_count": 41,
   "metadata": {},
   "outputs": [],
   "source": [
    "gdf_hexagons_buffer = gdf_hexagons_buffer.drop('bus_stops', axis=1)"
   ]
  },
  {
   "cell_type": "code",
   "execution_count": 42,
   "metadata": {},
   "outputs": [
    {
     "data": {
      "text/html": [
       "<div>\n",
       "<style scoped>\n",
       "    .dataframe tbody tr th:only-of-type {\n",
       "        vertical-align: middle;\n",
       "    }\n",
       "\n",
       "    .dataframe tbody tr th {\n",
       "        vertical-align: top;\n",
       "    }\n",
       "\n",
       "    .dataframe thead th {\n",
       "        text-align: right;\n",
       "    }\n",
       "</style>\n",
       "<table border=\"1\" class=\"dataframe\">\n",
       "  <thead>\n",
       "    <tr style=\"text-align: right;\">\n",
       "      <th></th>\n",
       "      <th>index</th>\n",
       "      <th>x</th>\n",
       "      <th>y</th>\n",
       "      <th>geometry</th>\n",
       "      <th>buffer_geometry_400m</th>\n",
       "      <th>single_archarea</th>\n",
       "      <th>multi_archarea</th>\n",
       "      <th>single_count</th>\n",
       "      <th>multi_count</th>\n",
       "      <th>count_bike_station</th>\n",
       "      <th>count_bus_line</th>\n",
       "    </tr>\n",
       "  </thead>\n",
       "  <tbody>\n",
       "    <tr>\n",
       "      <th>0</th>\n",
       "      <td>8a30e1c8084ffff</td>\n",
       "      <td>127.061695</td>\n",
       "      <td>37.476327</td>\n",
       "      <td>POLYGON ((127.06230 37.47605, 127.06222 37.476...</td>\n",
       "      <td>POLYGON ((205787.396 441573.113, 205785.470 44...</td>\n",
       "      <td>0.0</td>\n",
       "      <td>0.0</td>\n",
       "      <td>0</td>\n",
       "      <td>0</td>\n",
       "      <td>1</td>\n",
       "      <td>8</td>\n",
       "    </tr>\n",
       "    <tr>\n",
       "      <th>1</th>\n",
       "      <td>8a30e1c85aaffff</td>\n",
       "      <td>127.067626</td>\n",
       "      <td>37.493522</td>\n",
       "      <td>POLYGON ((127.06823 37.49324, 127.06815 37.493...</td>\n",
       "      <td>POLYGON ((206310.648 443481.945, 206308.722 44...</td>\n",
       "      <td>0.0</td>\n",
       "      <td>0.0</td>\n",
       "      <td>0</td>\n",
       "      <td>0</td>\n",
       "      <td>2</td>\n",
       "      <td>16</td>\n",
       "    </tr>\n",
       "    <tr>\n",
       "      <th>2</th>\n",
       "      <td>8a30e1ca126ffff</td>\n",
       "      <td>127.059607</td>\n",
       "      <td>37.523075</td>\n",
       "      <td>POLYGON ((127.06021 37.52280, 127.06014 37.523...</td>\n",
       "      <td>POLYGON ((205599.520 446761.437, 205597.594 44...</td>\n",
       "      <td>0.0</td>\n",
       "      <td>0.0</td>\n",
       "      <td>0</td>\n",
       "      <td>0</td>\n",
       "      <td>1</td>\n",
       "      <td>10</td>\n",
       "    </tr>\n",
       "    <tr>\n",
       "      <th>3</th>\n",
       "      <td>8a30e1c88797fff</td>\n",
       "      <td>127.119429</td>\n",
       "      <td>37.463536</td>\n",
       "      <td>POLYGON ((127.12003 37.46326, 127.11996 37.463...</td>\n",
       "      <td>POLYGON ((210895.957 440158.300, 210894.031 44...</td>\n",
       "      <td>0.0</td>\n",
       "      <td>0.0</td>\n",
       "      <td>0</td>\n",
       "      <td>0</td>\n",
       "      <td>0</td>\n",
       "      <td>3</td>\n",
       "    </tr>\n",
       "    <tr>\n",
       "      <th>4</th>\n",
       "      <td>8a30e1ca4257fff</td>\n",
       "      <td>127.022375</td>\n",
       "      <td>37.525698</td>\n",
       "      <td>POLYGON ((127.02298 37.52542, 127.02290 37.526...</td>\n",
       "      <td>POLYGON ((202308.140 447051.285, 202306.214 44...</td>\n",
       "      <td>0.0</td>\n",
       "      <td>0.0</td>\n",
       "      <td>0</td>\n",
       "      <td>0</td>\n",
       "      <td>1</td>\n",
       "      <td>10</td>\n",
       "    </tr>\n",
       "  </tbody>\n",
       "</table>\n",
       "</div>"
      ],
      "text/plain": [
       "             index           x          y  \\\n",
       "0  8a30e1c8084ffff  127.061695  37.476327   \n",
       "1  8a30e1c85aaffff  127.067626  37.493522   \n",
       "2  8a30e1ca126ffff  127.059607  37.523075   \n",
       "3  8a30e1c88797fff  127.119429  37.463536   \n",
       "4  8a30e1ca4257fff  127.022375  37.525698   \n",
       "\n",
       "                                            geometry  \\\n",
       "0  POLYGON ((127.06230 37.47605, 127.06222 37.476...   \n",
       "1  POLYGON ((127.06823 37.49324, 127.06815 37.493...   \n",
       "2  POLYGON ((127.06021 37.52280, 127.06014 37.523...   \n",
       "3  POLYGON ((127.12003 37.46326, 127.11996 37.463...   \n",
       "4  POLYGON ((127.02298 37.52542, 127.02290 37.526...   \n",
       "\n",
       "                                buffer_geometry_400m  single_archarea  \\\n",
       "0  POLYGON ((205787.396 441573.113, 205785.470 44...              0.0   \n",
       "1  POLYGON ((206310.648 443481.945, 206308.722 44...              0.0   \n",
       "2  POLYGON ((205599.520 446761.437, 205597.594 44...              0.0   \n",
       "3  POLYGON ((210895.957 440158.300, 210894.031 44...              0.0   \n",
       "4  POLYGON ((202308.140 447051.285, 202306.214 44...              0.0   \n",
       "\n",
       "   multi_archarea  single_count  multi_count  count_bike_station  \\\n",
       "0             0.0             0            0                   1   \n",
       "1             0.0             0            0                   2   \n",
       "2             0.0             0            0                   1   \n",
       "3             0.0             0            0                   0   \n",
       "4             0.0             0            0                   1   \n",
       "\n",
       "   count_bus_line  \n",
       "0               8  \n",
       "1              16  \n",
       "2              10  \n",
       "3               3  \n",
       "4              10  "
      ]
     },
     "execution_count": 42,
     "metadata": {},
     "output_type": "execute_result"
    }
   ],
   "source": [
    "gdf_hexagons_buffer.head()"
   ]
  },
  {
   "cell_type": "markdown",
   "metadata": {},
   "source": [
    "## Count subway lines"
   ]
  },
  {
   "cell_type": "code",
   "execution_count": 43,
   "metadata": {},
   "outputs": [],
   "source": [
    "gdf_subway_station = gpd.read_file('../seoulSubwayStation.geojson')"
   ]
  },
  {
   "cell_type": "code",
   "execution_count": 44,
   "metadata": {},
   "outputs": [
    {
     "data": {
      "text/html": [
       "<div>\n",
       "<style scoped>\n",
       "    .dataframe tbody tr th:only-of-type {\n",
       "        vertical-align: middle;\n",
       "    }\n",
       "\n",
       "    .dataframe tbody tr th {\n",
       "        vertical-align: top;\n",
       "    }\n",
       "\n",
       "    .dataframe thead th {\n",
       "        text-align: right;\n",
       "    }\n",
       "</style>\n",
       "<table border=\"1\" class=\"dataframe\">\n",
       "  <thead>\n",
       "    <tr style=\"text-align: right;\">\n",
       "      <th></th>\n",
       "      <th>stationID</th>\n",
       "      <th>stationName</th>\n",
       "      <th>Line</th>\n",
       "      <th>y</th>\n",
       "      <th>x</th>\n",
       "      <th>geometry</th>\n",
       "    </tr>\n",
       "  </thead>\n",
       "  <tbody>\n",
       "    <tr>\n",
       "      <th>0</th>\n",
       "      <td>2818</td>\n",
       "      <td>????</td>\n",
       "      <td>8</td>\n",
       "      <td>37.492522</td>\n",
       "      <td>127.118234</td>\n",
       "      <td>POINT (127.11823 37.49252)</td>\n",
       "    </tr>\n",
       "    <tr>\n",
       "      <th>1</th>\n",
       "      <td>340</td>\n",
       "      <td>????</td>\n",
       "      <td>3</td>\n",
       "      <td>37.492522</td>\n",
       "      <td>127.118234</td>\n",
       "      <td>POINT (127.11823 37.49252)</td>\n",
       "    </tr>\n",
       "    <tr>\n",
       "      <th>2</th>\n",
       "      <td>2535</td>\n",
       "      <td>??3?</td>\n",
       "      <td>5</td>\n",
       "      <td>37.571607</td>\n",
       "      <td>126.991806</td>\n",
       "      <td>POINT (126.99181 37.57161)</td>\n",
       "    </tr>\n",
       "    <tr>\n",
       "      <th>3</th>\n",
       "      <td>319</td>\n",
       "      <td>??3?</td>\n",
       "      <td>3</td>\n",
       "      <td>37.571607</td>\n",
       "      <td>126.991806</td>\n",
       "      <td>POINT (126.99181 37.57161)</td>\n",
       "    </tr>\n",
       "    <tr>\n",
       "      <th>4</th>\n",
       "      <td>153</td>\n",
       "      <td>??3?</td>\n",
       "      <td>1</td>\n",
       "      <td>37.571607</td>\n",
       "      <td>126.991806</td>\n",
       "      <td>POINT (126.99181 37.57161)</td>\n",
       "    </tr>\n",
       "  </tbody>\n",
       "</table>\n",
       "</div>"
      ],
      "text/plain": [
       "   stationID stationName Line          y           x  \\\n",
       "0       2818        ????    8  37.492522  127.118234   \n",
       "1        340        ????    3  37.492522  127.118234   \n",
       "2       2535        ??3?    5  37.571607  126.991806   \n",
       "3        319        ??3?    3  37.571607  126.991806   \n",
       "4        153        ??3?    1  37.571607  126.991806   \n",
       "\n",
       "                     geometry  \n",
       "0  POINT (127.11823 37.49252)  \n",
       "1  POINT (127.11823 37.49252)  \n",
       "2  POINT (126.99181 37.57161)  \n",
       "3  POINT (126.99181 37.57161)  \n",
       "4  POINT (126.99181 37.57161)  "
      ]
     },
     "execution_count": 44,
     "metadata": {},
     "output_type": "execute_result"
    }
   ],
   "source": [
    "gdf_subway_station.head()"
   ]
  },
  {
   "cell_type": "code",
   "execution_count": 45,
   "metadata": {},
   "outputs": [],
   "source": [
    "gdf_subway_station = gdf_subway_station.loc[~gdf_subway_station.geometry.isnull()]"
   ]
  },
  {
   "cell_type": "code",
   "execution_count": 46,
   "metadata": {},
   "outputs": [
    {
     "name": "stderr",
     "output_type": "stream",
     "text": [
      "C:\\Users\\hsg82\\AppData\\Local\\Continuum\\anaconda3\\envs\\hex_analysis\\lib\\site-packages\\pyproj\\crs\\crs.py:53: FutureWarning: '+init=<authority>:<code>' syntax is deprecated. '<authority>:<code>' is the preferred initialization method. When making the change, be mindful of axis order changes: https://pyproj4.github.io/pyproj/stable/gotchas.html#axis-order-changes-in-proj-6\n",
      "  return _prepare_from_string(\" \".join(pjargs))\n"
     ]
    }
   ],
   "source": [
    "gdf_subway_station.crs = from_epsg(4326)\n",
    "gdf_subway_station = gdf_subway_station.to_crs(epsg=5174)"
   ]
  },
  {
   "cell_type": "code",
   "execution_count": 47,
   "metadata": {},
   "outputs": [],
   "source": [
    "def count_subway_lines(polygon, stations):\n",
    "    try:\n",
    "        station_sindex = stations.sindex\n",
    "        possible_matches_index = list(station_sindex.intersection(polygon.bounds))\n",
    "        possible_matches = stations.iloc[possible_matches_index]\n",
    "        # extract the list of buildings that is in a hexagon\n",
    "        precise_matches_list = possible_matches[possible_matches.intersects(polygon)]['Line'].unique().tolist()\n",
    "    except:\n",
    "        # if there is no station that matched within a hexagon, return empty list\n",
    "        precise_matches_list = []\n",
    "    return len(precise_matches_list)  "
   ]
  },
  {
   "cell_type": "code",
   "execution_count": 48,
   "metadata": {},
   "outputs": [],
   "source": [
    "gdf_hexagons_buffer['count_subway_line'] =  gdf_hexagons_buffer['buffer_geometry_400m'].apply(lambda x: count_subway_lines(x,gdf_subway_station))"
   ]
  },
  {
   "cell_type": "markdown",
   "metadata": {},
   "source": [
    "## Calculate accessibility score"
   ]
  },
  {
   "cell_type": "code",
   "execution_count": 49,
   "metadata": {},
   "outputs": [],
   "source": [
    "max_bus_line = gdf_hexagons_buffer['count_bus_line'].max()\n",
    "max_bike_station = gdf_hexagons_buffer['count_bike_station'].max()\n",
    "max_subway_station = gdf_hexagons_buffer['count_subway_line'].max()"
   ]
  },
  {
   "cell_type": "code",
   "execution_count": 50,
   "metadata": {},
   "outputs": [
    {
     "name": "stdout",
     "output_type": "stream",
     "text": [
      "41 6 3\n"
     ]
    }
   ],
   "source": [
    "print(max_bus_line, max_bike_station, max_subway_station)"
   ]
  },
  {
   "cell_type": "code",
   "execution_count": 51,
   "metadata": {},
   "outputs": [
    {
     "data": {
      "text/html": [
       "<div>\n",
       "<style scoped>\n",
       "    .dataframe tbody tr th:only-of-type {\n",
       "        vertical-align: middle;\n",
       "    }\n",
       "\n",
       "    .dataframe tbody tr th {\n",
       "        vertical-align: top;\n",
       "    }\n",
       "\n",
       "    .dataframe thead th {\n",
       "        text-align: right;\n",
       "    }\n",
       "</style>\n",
       "<table border=\"1\" class=\"dataframe\">\n",
       "  <thead>\n",
       "    <tr style=\"text-align: right;\">\n",
       "      <th></th>\n",
       "      <th>index</th>\n",
       "      <th>x</th>\n",
       "      <th>y</th>\n",
       "      <th>geometry</th>\n",
       "      <th>buffer_geometry_400m</th>\n",
       "      <th>single_archarea</th>\n",
       "      <th>multi_archarea</th>\n",
       "      <th>single_count</th>\n",
       "      <th>multi_count</th>\n",
       "      <th>count_bike_station</th>\n",
       "      <th>count_bus_line</th>\n",
       "      <th>count_subway_line</th>\n",
       "    </tr>\n",
       "  </thead>\n",
       "  <tbody>\n",
       "    <tr>\n",
       "      <th>0</th>\n",
       "      <td>8a30e1c8084ffff</td>\n",
       "      <td>127.061695</td>\n",
       "      <td>37.476327</td>\n",
       "      <td>POLYGON ((127.06230 37.47605, 127.06222 37.476...</td>\n",
       "      <td>POLYGON ((205787.396 441573.113, 205785.470 44...</td>\n",
       "      <td>0.0</td>\n",
       "      <td>0.0</td>\n",
       "      <td>0</td>\n",
       "      <td>0</td>\n",
       "      <td>1</td>\n",
       "      <td>8</td>\n",
       "      <td>0</td>\n",
       "    </tr>\n",
       "    <tr>\n",
       "      <th>1</th>\n",
       "      <td>8a30e1c85aaffff</td>\n",
       "      <td>127.067626</td>\n",
       "      <td>37.493522</td>\n",
       "      <td>POLYGON ((127.06823 37.49324, 127.06815 37.493...</td>\n",
       "      <td>POLYGON ((206310.648 443481.945, 206308.722 44...</td>\n",
       "      <td>0.0</td>\n",
       "      <td>0.0</td>\n",
       "      <td>0</td>\n",
       "      <td>0</td>\n",
       "      <td>2</td>\n",
       "      <td>16</td>\n",
       "      <td>1</td>\n",
       "    </tr>\n",
       "    <tr>\n",
       "      <th>2</th>\n",
       "      <td>8a30e1ca126ffff</td>\n",
       "      <td>127.059607</td>\n",
       "      <td>37.523075</td>\n",
       "      <td>POLYGON ((127.06021 37.52280, 127.06014 37.523...</td>\n",
       "      <td>POLYGON ((205599.520 446761.437, 205597.594 44...</td>\n",
       "      <td>0.0</td>\n",
       "      <td>0.0</td>\n",
       "      <td>0</td>\n",
       "      <td>0</td>\n",
       "      <td>1</td>\n",
       "      <td>10</td>\n",
       "      <td>0</td>\n",
       "    </tr>\n",
       "    <tr>\n",
       "      <th>3</th>\n",
       "      <td>8a30e1c88797fff</td>\n",
       "      <td>127.119429</td>\n",
       "      <td>37.463536</td>\n",
       "      <td>POLYGON ((127.12003 37.46326, 127.11996 37.463...</td>\n",
       "      <td>POLYGON ((210895.957 440158.300, 210894.031 44...</td>\n",
       "      <td>0.0</td>\n",
       "      <td>0.0</td>\n",
       "      <td>0</td>\n",
       "      <td>0</td>\n",
       "      <td>0</td>\n",
       "      <td>3</td>\n",
       "      <td>0</td>\n",
       "    </tr>\n",
       "    <tr>\n",
       "      <th>4</th>\n",
       "      <td>8a30e1ca4257fff</td>\n",
       "      <td>127.022375</td>\n",
       "      <td>37.525698</td>\n",
       "      <td>POLYGON ((127.02298 37.52542, 127.02290 37.526...</td>\n",
       "      <td>POLYGON ((202308.140 447051.285, 202306.214 44...</td>\n",
       "      <td>0.0</td>\n",
       "      <td>0.0</td>\n",
       "      <td>0</td>\n",
       "      <td>0</td>\n",
       "      <td>1</td>\n",
       "      <td>10</td>\n",
       "      <td>0</td>\n",
       "    </tr>\n",
       "  </tbody>\n",
       "</table>\n",
       "</div>"
      ],
      "text/plain": [
       "             index           x          y  \\\n",
       "0  8a30e1c8084ffff  127.061695  37.476327   \n",
       "1  8a30e1c85aaffff  127.067626  37.493522   \n",
       "2  8a30e1ca126ffff  127.059607  37.523075   \n",
       "3  8a30e1c88797fff  127.119429  37.463536   \n",
       "4  8a30e1ca4257fff  127.022375  37.525698   \n",
       "\n",
       "                                            geometry  \\\n",
       "0  POLYGON ((127.06230 37.47605, 127.06222 37.476...   \n",
       "1  POLYGON ((127.06823 37.49324, 127.06815 37.493...   \n",
       "2  POLYGON ((127.06021 37.52280, 127.06014 37.523...   \n",
       "3  POLYGON ((127.12003 37.46326, 127.11996 37.463...   \n",
       "4  POLYGON ((127.02298 37.52542, 127.02290 37.526...   \n",
       "\n",
       "                                buffer_geometry_400m  single_archarea  \\\n",
       "0  POLYGON ((205787.396 441573.113, 205785.470 44...              0.0   \n",
       "1  POLYGON ((206310.648 443481.945, 206308.722 44...              0.0   \n",
       "2  POLYGON ((205599.520 446761.437, 205597.594 44...              0.0   \n",
       "3  POLYGON ((210895.957 440158.300, 210894.031 44...              0.0   \n",
       "4  POLYGON ((202308.140 447051.285, 202306.214 44...              0.0   \n",
       "\n",
       "   multi_archarea  single_count  multi_count  count_bike_station  \\\n",
       "0             0.0             0            0                   1   \n",
       "1             0.0             0            0                   2   \n",
       "2             0.0             0            0                   1   \n",
       "3             0.0             0            0                   0   \n",
       "4             0.0             0            0                   1   \n",
       "\n",
       "   count_bus_line  count_subway_line  \n",
       "0               8                  0  \n",
       "1              16                  1  \n",
       "2              10                  0  \n",
       "3               3                  0  \n",
       "4              10                  0  "
      ]
     },
     "execution_count": 51,
     "metadata": {},
     "output_type": "execute_result"
    }
   ],
   "source": [
    "gdf_hexagons_buffer.head()"
   ]
  },
  {
   "cell_type": "code",
   "execution_count": 52,
   "metadata": {},
   "outputs": [],
   "source": [
    "gdf_hexagons_buffer['score_bus'] = (gdf_hexagons_buffer['count_bus_line']/max_bus_line) * 5\n",
    "gdf_hexagons_buffer['score_bike'] = (gdf_hexagons_buffer['count_bike_station']/max_bike_station) * 5\n",
    "gdf_hexagons_buffer['score_subway'] = (gdf_hexagons_buffer['count_subway_line']/max_subway_station) * 5"
   ]
  },
  {
   "cell_type": "code",
   "execution_count": 53,
   "metadata": {},
   "outputs": [],
   "source": [
    "gdf_hexagons_buffer['total_score'] = gdf_hexagons_buffer['score_bus'] + gdf_hexagons_buffer['score_bike'] + gdf_hexagons_buffer['score_subway']"
   ]
  },
  {
   "cell_type": "code",
   "execution_count": 54,
   "metadata": {},
   "outputs": [
    {
     "data": {
      "text/plain": [
       "12.134146341463413"
      ]
     },
     "execution_count": 54,
     "metadata": {},
     "output_type": "execute_result"
    }
   ],
   "source": [
    "gdf_hexagons_buffer['total_score'].max()"
   ]
  },
  {
   "cell_type": "code",
   "execution_count": 55,
   "metadata": {},
   "outputs": [
    {
     "data": {
      "text/plain": [
       "<AxesSubplot:>"
      ]
     },
     "execution_count": 55,
     "metadata": {},
     "output_type": "execute_result"
    },
    {
     "data": {
      "image/png": "[encoded data removed]",
      "text/plain": [
       "<Figure size 432x288 with 1 Axes>"
      ]
     },
     "metadata": {
      "needs_background": "light"
     },
     "output_type": "display_data"
    }
   ],
   "source": [
    "gdf_hexagons_buffer['total_score'].hist(bins=15)"
   ]
  },
  {
   "cell_type": "code",
   "execution_count": 56,
   "metadata": {},
   "outputs": [
    {
     "data": {
      "text/html": [
       "<div>\n",
       "<style scoped>\n",
       "    .dataframe tbody tr th:only-of-type {\n",
       "        vertical-align: middle;\n",
       "    }\n",
       "\n",
       "    .dataframe tbody tr th {\n",
       "        vertical-align: top;\n",
       "    }\n",
       "\n",
       "    .dataframe thead th {\n",
       "        text-align: right;\n",
       "    }\n",
       "</style>\n",
       "<table border=\"1\" class=\"dataframe\">\n",
       "  <thead>\n",
       "    <tr style=\"text-align: right;\">\n",
       "      <th></th>\n",
       "      <th>index</th>\n",
       "      <th>x</th>\n",
       "      <th>y</th>\n",
       "      <th>geometry</th>\n",
       "      <th>buffer_geometry_400m</th>\n",
       "      <th>single_archarea</th>\n",
       "      <th>multi_archarea</th>\n",
       "      <th>single_count</th>\n",
       "      <th>multi_count</th>\n",
       "      <th>count_bike_station</th>\n",
       "      <th>count_bus_line</th>\n",
       "      <th>count_subway_line</th>\n",
       "      <th>score_bus</th>\n",
       "      <th>score_bike</th>\n",
       "      <th>score_subway</th>\n",
       "      <th>total_score</th>\n",
       "    </tr>\n",
       "  </thead>\n",
       "  <tbody>\n",
       "    <tr>\n",
       "      <th>0</th>\n",
       "      <td>8a30e1c8084ffff</td>\n",
       "      <td>127.061695</td>\n",
       "      <td>37.476327</td>\n",
       "      <td>POLYGON ((127.06230 37.47605, 127.06222 37.476...</td>\n",
       "      <td>POLYGON ((205787.396 441573.113, 205785.470 44...</td>\n",
       "      <td>0.0</td>\n",
       "      <td>0.0</td>\n",
       "      <td>0</td>\n",
       "      <td>0</td>\n",
       "      <td>1</td>\n",
       "      <td>8</td>\n",
       "      <td>0</td>\n",
       "      <td>0.975610</td>\n",
       "      <td>0.833333</td>\n",
       "      <td>0.000000</td>\n",
       "      <td>1.808943</td>\n",
       "    </tr>\n",
       "    <tr>\n",
       "      <th>1</th>\n",
       "      <td>8a30e1c85aaffff</td>\n",
       "      <td>127.067626</td>\n",
       "      <td>37.493522</td>\n",
       "      <td>POLYGON ((127.06823 37.49324, 127.06815 37.493...</td>\n",
       "      <td>POLYGON ((206310.648 443481.945, 206308.722 44...</td>\n",
       "      <td>0.0</td>\n",
       "      <td>0.0</td>\n",
       "      <td>0</td>\n",
       "      <td>0</td>\n",
       "      <td>2</td>\n",
       "      <td>16</td>\n",
       "      <td>1</td>\n",
       "      <td>1.951220</td>\n",
       "      <td>1.666667</td>\n",
       "      <td>1.666667</td>\n",
       "      <td>5.284553</td>\n",
       "    </tr>\n",
       "    <tr>\n",
       "      <th>2</th>\n",
       "      <td>8a30e1ca126ffff</td>\n",
       "      <td>127.059607</td>\n",
       "      <td>37.523075</td>\n",
       "      <td>POLYGON ((127.06021 37.52280, 127.06014 37.523...</td>\n",
       "      <td>POLYGON ((205599.520 446761.437, 205597.594 44...</td>\n",
       "      <td>0.0</td>\n",
       "      <td>0.0</td>\n",
       "      <td>0</td>\n",
       "      <td>0</td>\n",
       "      <td>1</td>\n",
       "      <td>10</td>\n",
       "      <td>0</td>\n",
       "      <td>1.219512</td>\n",
       "      <td>0.833333</td>\n",
       "      <td>0.000000</td>\n",
       "      <td>2.052846</td>\n",
       "    </tr>\n",
       "    <tr>\n",
       "      <th>3</th>\n",
       "      <td>8a30e1c88797fff</td>\n",
       "      <td>127.119429</td>\n",
       "      <td>37.463536</td>\n",
       "      <td>POLYGON ((127.12003 37.46326, 127.11996 37.463...</td>\n",
       "      <td>POLYGON ((210895.957 440158.300, 210894.031 44...</td>\n",
       "      <td>0.0</td>\n",
       "      <td>0.0</td>\n",
       "      <td>0</td>\n",
       "      <td>0</td>\n",
       "      <td>0</td>\n",
       "      <td>3</td>\n",
       "      <td>0</td>\n",
       "      <td>0.365854</td>\n",
       "      <td>0.000000</td>\n",
       "      <td>0.000000</td>\n",
       "      <td>0.365854</td>\n",
       "    </tr>\n",
       "    <tr>\n",
       "      <th>4</th>\n",
       "      <td>8a30e1ca4257fff</td>\n",
       "      <td>127.022375</td>\n",
       "      <td>37.525698</td>\n",
       "      <td>POLYGON ((127.02298 37.52542, 127.02290 37.526...</td>\n",
       "      <td>POLYGON ((202308.140 447051.285, 202306.214 44...</td>\n",
       "      <td>0.0</td>\n",
       "      <td>0.0</td>\n",
       "      <td>0</td>\n",
       "      <td>0</td>\n",
       "      <td>1</td>\n",
       "      <td>10</td>\n",
       "      <td>0</td>\n",
       "      <td>1.219512</td>\n",
       "      <td>0.833333</td>\n",
       "      <td>0.000000</td>\n",
       "      <td>2.052846</td>\n",
       "    </tr>\n",
       "    <tr>\n",
       "      <th>...</th>\n",
       "      <td>...</td>\n",
       "      <td>...</td>\n",
       "      <td>...</td>\n",
       "      <td>...</td>\n",
       "      <td>...</td>\n",
       "      <td>...</td>\n",
       "      <td>...</td>\n",
       "      <td>...</td>\n",
       "      <td>...</td>\n",
       "      <td>...</td>\n",
       "      <td>...</td>\n",
       "      <td>...</td>\n",
       "      <td>...</td>\n",
       "      <td>...</td>\n",
       "      <td>...</td>\n",
       "      <td>...</td>\n",
       "    </tr>\n",
       "    <tr>\n",
       "      <th>3817</th>\n",
       "      <td>8a30e1c8c6a7fff</td>\n",
       "      <td>127.104353</td>\n",
       "      <td>37.475843</td>\n",
       "      <td>POLYGON ((127.10495 37.47556, 127.10488 37.476...</td>\n",
       "      <td>POLYGON ((209560.754 441522.726, 209558.827 44...</td>\n",
       "      <td>0.0</td>\n",
       "      <td>0.0</td>\n",
       "      <td>0</td>\n",
       "      <td>0</td>\n",
       "      <td>1</td>\n",
       "      <td>12</td>\n",
       "      <td>0</td>\n",
       "      <td>1.463415</td>\n",
       "      <td>0.833333</td>\n",
       "      <td>0.000000</td>\n",
       "      <td>2.296748</td>\n",
       "    </tr>\n",
       "    <tr>\n",
       "      <th>3818</th>\n",
       "      <td>8a30e1c8c8dffff</td>\n",
       "      <td>127.098984</td>\n",
       "      <td>37.487739</td>\n",
       "      <td>POLYGON ((127.09959 37.48746, 127.09951 37.488...</td>\n",
       "      <td>POLYGON ((209084.468 442842.448, 209082.542 44...</td>\n",
       "      <td>0.0</td>\n",
       "      <td>0.0</td>\n",
       "      <td>0</td>\n",
       "      <td>0</td>\n",
       "      <td>3</td>\n",
       "      <td>18</td>\n",
       "      <td>2</td>\n",
       "      <td>2.195122</td>\n",
       "      <td>2.500000</td>\n",
       "      <td>3.333333</td>\n",
       "      <td>8.028455</td>\n",
       "    </tr>\n",
       "    <tr>\n",
       "      <th>3819</th>\n",
       "      <td>8a30e1ca0847fff</td>\n",
       "      <td>127.027548</td>\n",
       "      <td>37.520363</td>\n",
       "      <td>POLYGON ((127.02815 37.52008, 127.02808 37.520...</td>\n",
       "      <td>POLYGON ((202765.587 446459.264, 202763.661 44...</td>\n",
       "      <td>0.0</td>\n",
       "      <td>0.0</td>\n",
       "      <td>0</td>\n",
       "      <td>0</td>\n",
       "      <td>2</td>\n",
       "      <td>10</td>\n",
       "      <td>0</td>\n",
       "      <td>1.219512</td>\n",
       "      <td>1.666667</td>\n",
       "      <td>0.000000</td>\n",
       "      <td>2.886179</td>\n",
       "    </tr>\n",
       "    <tr>\n",
       "      <th>3820</th>\n",
       "      <td>8a30e1c8e567fff</td>\n",
       "      <td>127.095261</td>\n",
       "      <td>37.461287</td>\n",
       "      <td>POLYGON ((127.09586 37.46101, 127.09579 37.461...</td>\n",
       "      <td>POLYGON ((208758.160 439906.328, 208756.234 43...</td>\n",
       "      <td>0.0</td>\n",
       "      <td>0.0</td>\n",
       "      <td>0</td>\n",
       "      <td>0</td>\n",
       "      <td>0</td>\n",
       "      <td>0</td>\n",
       "      <td>0</td>\n",
       "      <td>0.000000</td>\n",
       "      <td>0.000000</td>\n",
       "      <td>0.000000</td>\n",
       "      <td>0.000000</td>\n",
       "    </tr>\n",
       "    <tr>\n",
       "      <th>3821</th>\n",
       "      <td>8a30e1c853b7fff</td>\n",
       "      <td>127.068282</td>\n",
       "      <td>37.487934</td>\n",
       "      <td>POLYGON ((127.06888 37.48766, 127.06881 37.488...</td>\n",
       "      <td>POLYGON ((206369.124 442861.821, 206367.198 44...</td>\n",
       "      <td>0.0</td>\n",
       "      <td>0.0</td>\n",
       "      <td>0</td>\n",
       "      <td>0</td>\n",
       "      <td>2</td>\n",
       "      <td>10</td>\n",
       "      <td>1</td>\n",
       "      <td>1.219512</td>\n",
       "      <td>1.666667</td>\n",
       "      <td>1.666667</td>\n",
       "      <td>4.552846</td>\n",
       "    </tr>\n",
       "  </tbody>\n",
       "</table>\n",
       "<p>3822 rows × 16 columns</p>\n",
       "</div>"
      ],
      "text/plain": [
       "                index           x          y  \\\n",
       "0     8a30e1c8084ffff  127.061695  37.476327   \n",
       "1     8a30e1c85aaffff  127.067626  37.493522   \n",
       "2     8a30e1ca126ffff  127.059607  37.523075   \n",
       "3     8a30e1c88797fff  127.119429  37.463536   \n",
       "4     8a30e1ca4257fff  127.022375  37.525698   \n",
       "...               ...         ...        ...   \n",
       "3817  8a30e1c8c6a7fff  127.104353  37.475843   \n",
       "3818  8a30e1c8c8dffff  127.098984  37.487739   \n",
       "3819  8a30e1ca0847fff  127.027548  37.520363   \n",
       "3820  8a30e1c8e567fff  127.095261  37.461287   \n",
       "3821  8a30e1c853b7fff  127.068282  37.487934   \n",
       "\n",
       "                                               geometry  \\\n",
       "0     POLYGON ((127.06230 37.47605, 127.06222 37.476...   \n",
       "1     POLYGON ((127.06823 37.49324, 127.06815 37.493...   \n",
       "2     POLYGON ((127.06021 37.52280, 127.06014 37.523...   \n",
       "3     POLYGON ((127.12003 37.46326, 127.11996 37.463...   \n",
       "4     POLYGON ((127.02298 37.52542, 127.02290 37.526...   \n",
       "...                                                 ...   \n",
       "3817  POLYGON ((127.10495 37.47556, 127.10488 37.476...   \n",
       "3818  POLYGON ((127.09959 37.48746, 127.09951 37.488...   \n",
       "3819  POLYGON ((127.02815 37.52008, 127.02808 37.520...   \n",
       "3820  POLYGON ((127.09586 37.46101, 127.09579 37.461...   \n",
       "3821  POLYGON ((127.06888 37.48766, 127.06881 37.488...   \n",
       "\n",
       "                                   buffer_geometry_400m  single_archarea  \\\n",
       "0     POLYGON ((205787.396 441573.113, 205785.470 44...              0.0   \n",
       "1     POLYGON ((206310.648 443481.945, 206308.722 44...              0.0   \n",
       "2     POLYGON ((205599.520 446761.437, 205597.594 44...              0.0   \n",
       "3     POLYGON ((210895.957 440158.300, 210894.031 44...              0.0   \n",
       "4     POLYGON ((202308.140 447051.285, 202306.214 44...              0.0   \n",
       "...                                                 ...              ...   \n",
       "3817  POLYGON ((209560.754 441522.726, 209558.827 44...              0.0   \n",
       "3818  POLYGON ((209084.468 442842.448, 209082.542 44...              0.0   \n",
       "3819  POLYGON ((202765.587 446459.264, 202763.661 44...              0.0   \n",
       "3820  POLYGON ((208758.160 439906.328, 208756.234 43...              0.0   \n",
       "3821  POLYGON ((206369.124 442861.821, 206367.198 44...              0.0   \n",
       "\n",
       "      multi_archarea  single_count  multi_count  count_bike_station  \\\n",
       "0                0.0             0            0                   1   \n",
       "1                0.0             0            0                   2   \n",
       "2                0.0             0            0                   1   \n",
       "3                0.0             0            0                   0   \n",
       "4                0.0             0            0                   1   \n",
       "...              ...           ...          ...                 ...   \n",
       "3817             0.0             0            0                   1   \n",
       "3818             0.0             0            0                   3   \n",
       "3819             0.0             0            0                   2   \n",
       "3820             0.0             0            0                   0   \n",
       "3821             0.0             0            0                   2   \n",
       "\n",
       "      count_bus_line  count_subway_line  score_bus  score_bike  score_subway  \\\n",
       "0                  8                  0   0.975610    0.833333      0.000000   \n",
       "1                 16                  1   1.951220    1.666667      1.666667   \n",
       "2                 10                  0   1.219512    0.833333      0.000000   \n",
       "3                  3                  0   0.365854    0.000000      0.000000   \n",
       "4                 10                  0   1.219512    0.833333      0.000000   \n",
       "...              ...                ...        ...         ...           ...   \n",
       "3817              12                  0   1.463415    0.833333      0.000000   \n",
       "3818              18                  2   2.195122    2.500000      3.333333   \n",
       "3819              10                  0   1.219512    1.666667      0.000000   \n",
       "3820               0                  0   0.000000    0.000000      0.000000   \n",
       "3821              10                  1   1.219512    1.666667      1.666667   \n",
       "\n",
       "      total_score  \n",
       "0        1.808943  \n",
       "1        5.284553  \n",
       "2        2.052846  \n",
       "3        0.365854  \n",
       "4        2.052846  \n",
       "...           ...  \n",
       "3817     2.296748  \n",
       "3818     8.028455  \n",
       "3819     2.886179  \n",
       "3820     0.000000  \n",
       "3821     4.552846  \n",
       "\n",
       "[3822 rows x 16 columns]"
      ]
     },
     "execution_count": 56,
     "metadata": {},
     "output_type": "execute_result"
    }
   ],
   "source": [
    "gdf_hexagons_buffer"
   ]
  },
  {
   "cell_type": "code",
   "execution_count": 57,
   "metadata": {},
   "outputs": [],
   "source": [
    "gdf_hexagons_buffer = gdf_hexagons_buffer.drop('buffer_geometry_400m', axis=1)"
   ]
  },
  {
   "cell_type": "code",
   "execution_count": 58,
   "metadata": {},
   "outputs": [],
   "source": [
    "gdf_hexagons_buffer.to_file('../hexagon_res_10_400m_count/hexagon_with_data.geojson', driver='GeoJSON', encoding='utf8')"
   ]
  },
  {
   "cell_type": "code",
   "execution_count": 59,
   "metadata": {},
   "outputs": [
    {
     "name": "stdout",
     "output_type": "stream",
     "text": [
      "<class 'geopandas.geodataframe.GeoDataFrame'>\n",
      "RangeIndex: 3822 entries, 0 to 3821\n",
      "Data columns (total 15 columns):\n",
      " #   Column              Non-Null Count  Dtype   \n",
      "---  ------              --------------  -----   \n",
      " 0   index               3822 non-null   object  \n",
      " 1   x                   3822 non-null   float64 \n",
      " 2   y                   3822 non-null   float64 \n",
      " 3   geometry            3822 non-null   geometry\n",
      " 4   single_archarea     3822 non-null   float64 \n",
      " 5   multi_archarea      3822 non-null   float64 \n",
      " 6   single_count        3822 non-null   int64   \n",
      " 7   multi_count         3822 non-null   int64   \n",
      " 8   count_bike_station  3822 non-null   int64   \n",
      " 9   count_bus_line      3822 non-null   int64   \n",
      " 10  count_subway_line   3822 non-null   int64   \n",
      " 11  score_bus           3822 non-null   float64 \n",
      " 12  score_bike          3822 non-null   float64 \n",
      " 13  score_subway        3822 non-null   float64 \n",
      " 14  total_score         3822 non-null   float64 \n",
      "dtypes: float64(8), geometry(1), int64(5), object(1)\n",
      "memory usage: 448.0+ KB\n"
     ]
    }
   ],
   "source": [
    "gdf_hexagons_buffer.info()"
   ]
  }
 ],
 "metadata": {
  "kernelspec": {
   "display_name": "Python 3",
   "language": "python",
   "name": "python3"
  },
  "language_info": {
   "codemirror_mode": {
    "name": "ipython",
    "version": 3
   },
   "file_extension": ".py",
   "mimetype": "text/x-python",
   "name": "python",
   "nbconvert_exporter": "python",
   "pygments_lexer": "ipython3",
   "version": "3.9.1"
  }
 },
 "nbformat": 4,
 "nbformat_minor": 4
}

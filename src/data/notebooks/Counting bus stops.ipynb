{
 "cells": [
  {
   "cell_type": "code",
   "execution_count": 21,
   "metadata": {},
   "outputs": [],
   "source": [
    "import pandas as pd\n",
    "import geopandas as gpd\n",
    "from shapely.geometry import Point\n",
    "from fiona.crs import from_epsg"
   ]
  },
  {
   "cell_type": "code",
   "execution_count": 22,
   "metadata": {},
   "outputs": [],
   "source": [
    "gdf_buildings = gpd.read_file('gangnamGu-building-residential.geojson')"
   ]
  },
  {
   "cell_type": "code",
   "execution_count": 23,
   "metadata": {},
   "outputs": [],
   "source": [
    "gdf_buildings = gdf_buildings.loc[~gdf_buildings['UFID'].duplicated()]"
   ]
  },
  {
   "cell_type": "code",
   "execution_count": 24,
   "metadata": {},
   "outputs": [],
   "source": [
    "gdf_buildings_buffer = gdf_buildings.copy() "
   ]
  },
  {
   "cell_type": "code",
   "execution_count": 25,
   "metadata": {},
   "outputs": [
    {
     "name": "stderr",
     "output_type": "stream",
     "text": [
      "C:\\Users\\hsg82\\AppData\\Local\\Continuum\\anaconda3\\envs\\data_basic\\lib\\site-packages\\pyproj\\crs\\crs.py:53: FutureWarning: '+init=<authority>:<code>' syntax is deprecated. '<authority>:<code>' is the preferred initialization method. When making the change, be mindful of axis order changes: https://pyproj4.github.io/pyproj/stable/gotchas.html#axis-order-changes-in-proj-6\n",
      "  return _prepare_from_string(\" \".join(pjargs))\n"
     ]
    }
   ],
   "source": [
    "gdf_buildings_buffer.crs = from_epsg(4326)\n",
    "gdf_buildings_buffer = gdf_buildings_buffer.to_crs(epsg=5174)"
   ]
  },
  {
   "cell_type": "code",
   "execution_count": 26,
   "metadata": {},
   "outputs": [],
   "source": [
    "# make a buffer zone. radius = 900ft\n",
    "gdf_buildings_buffer['buffer_geometry_400m'] = gdf_buildings_buffer['geometry'].buffer(400)"
   ]
  },
  {
   "cell_type": "code",
   "execution_count": 27,
   "metadata": {},
   "outputs": [],
   "source": [
    "gdf_bus = gpd.read_file('seoulBusStop.geojson')"
   ]
  },
  {
   "cell_type": "code",
   "execution_count": 28,
   "metadata": {},
   "outputs": [
    {
     "name": "stderr",
     "output_type": "stream",
     "text": [
      "C:\\Users\\hsg82\\AppData\\Local\\Continuum\\anaconda3\\envs\\data_basic\\lib\\site-packages\\pyproj\\crs\\crs.py:53: FutureWarning: '+init=<authority>:<code>' syntax is deprecated. '<authority>:<code>' is the preferred initialization method. When making the change, be mindful of axis order changes: https://pyproj4.github.io/pyproj/stable/gotchas.html#axis-order-changes-in-proj-6\n",
      "  return _prepare_from_string(\" \".join(pjargs))\n"
     ]
    }
   ],
   "source": [
    "gdf_bus.crs = from_epsg(4326)\n",
    "gdf_bus = gdf_bus.to_crs(epsg=5174)"
   ]
  },
  {
   "cell_type": "code",
   "execution_count": 29,
   "metadata": {},
   "outputs": [
    {
     "data": {
      "text/html": [
       "<div>\n",
       "<style scoped>\n",
       "    .dataframe tbody tr th:only-of-type {\n",
       "        vertical-align: middle;\n",
       "    }\n",
       "\n",
       "    .dataframe tbody tr th {\n",
       "        vertical-align: top;\n",
       "    }\n",
       "\n",
       "    .dataframe thead th {\n",
       "        text-align: right;\n",
       "    }\n",
       "</style>\n",
       "<table border=\"1\" class=\"dataframe\">\n",
       "  <thead>\n",
       "    <tr style=\"text-align: right;\">\n",
       "      <th></th>\n",
       "      <th>표준ID</th>\n",
       "      <th>ARS-ID</th>\n",
       "      <th>정류장명</th>\n",
       "      <th>X좌표</th>\n",
       "      <th>Y좌표</th>\n",
       "      <th>geometry</th>\n",
       "    </tr>\n",
       "  </thead>\n",
       "  <tbody>\n",
       "    <tr>\n",
       "      <th>0</th>\n",
       "      <td>100000001</td>\n",
       "      <td>1001</td>\n",
       "      <td>종로2가사거리</td>\n",
       "      <td>126.987750</td>\n",
       "      <td>37.569765</td>\n",
       "      <td>POINT (198848.178 451942.074)</td>\n",
       "    </tr>\n",
       "    <tr>\n",
       "      <th>1</th>\n",
       "      <td>100000002</td>\n",
       "      <td>1002</td>\n",
       "      <td>창경궁.서울대학교병원</td>\n",
       "      <td>126.996566</td>\n",
       "      <td>37.579183</td>\n",
       "      <td>POINT (199627.083 452987.282)</td>\n",
       "    </tr>\n",
       "    <tr>\n",
       "      <th>2</th>\n",
       "      <td>100000003</td>\n",
       "      <td>1003</td>\n",
       "      <td>명륜3가.성대입구</td>\n",
       "      <td>126.998340</td>\n",
       "      <td>37.582671</td>\n",
       "      <td>POINT (199783.807 453374.424)</td>\n",
       "    </tr>\n",
       "    <tr>\n",
       "      <th>3</th>\n",
       "      <td>100000004</td>\n",
       "      <td>1004</td>\n",
       "      <td>종로2가.삼일교</td>\n",
       "      <td>126.987613</td>\n",
       "      <td>37.568579</td>\n",
       "      <td>POINT (198836.075 451810.459)</td>\n",
       "    </tr>\n",
       "    <tr>\n",
       "      <th>4</th>\n",
       "      <td>100000005</td>\n",
       "      <td>1005</td>\n",
       "      <td>혜화동로터리.여운형활동터</td>\n",
       "      <td>127.001744</td>\n",
       "      <td>37.586243</td>\n",
       "      <td>POINT (200084.468 453770.855)</td>\n",
       "    </tr>\n",
       "  </tbody>\n",
       "</table>\n",
       "</div>"
      ],
      "text/plain": [
       "        표준ID  ARS-ID           정류장명         X좌표        Y좌표  \\\n",
       "0  100000001    1001        종로2가사거리  126.987750  37.569765   \n",
       "1  100000002    1002    창경궁.서울대학교병원  126.996566  37.579183   \n",
       "2  100000003    1003      명륜3가.성대입구  126.998340  37.582671   \n",
       "3  100000004    1004       종로2가.삼일교  126.987613  37.568579   \n",
       "4  100000005    1005  혜화동로터리.여운형활동터  127.001744  37.586243   \n",
       "\n",
       "                        geometry  \n",
       "0  POINT (198848.178 451942.074)  \n",
       "1  POINT (199627.083 452987.282)  \n",
       "2  POINT (199783.807 453374.424)  \n",
       "3  POINT (198836.075 451810.459)  \n",
       "4  POINT (200084.468 453770.855)  "
      ]
     },
     "execution_count": 29,
     "metadata": {},
     "output_type": "execute_result"
    }
   ],
   "source": [
    "gdf_bus.head()"
   ]
  },
  {
   "cell_type": "code",
   "execution_count": 30,
   "metadata": {},
   "outputs": [],
   "source": [
    "def count_busStop(buffer_zone):\n",
    "    '''\n",
    "    This function is for making a list of bus stops that is in a buffer zone.\n",
    "    -----\n",
    "    input:\n",
    "    buffer_zone (Shapely.geometry.Polygon): a polygon of a buffer zone \n",
    "    -----\n",
    "    output:\n",
    "    precise_matches_list (list): a list of the bus stops\n",
    "    \n",
    "    '''\n",
    "    try:\n",
    "        # filter 511 events based on buffer zone boundary of a 511 events\n",
    "        stops_sindex = gdf_bus.sindex\n",
    "        possible_matches_index = list(stops_sindex.intersection(buffer_zone.bounds))\n",
    "        possible_matches = gdf_bus.iloc[possible_matches_index]\n",
    "        # extract the list of crash that matched with a 511 event\n",
    "        precise_matches_list = possible_matches[possible_matches.intersects(buffer_zone)]['표준ID'].tolist()\n",
    "    except:\n",
    "        # if there is no crashes that matched with temporal range of a 511 event, return empty list\n",
    "        precise_matches_list = []\n",
    "    return precise_matches_list"
   ]
  },
  {
   "cell_type": "code",
   "execution_count": 31,
   "metadata": {},
   "outputs": [],
   "source": [
    "gdf_buildings_buffer['bus_list_400m']= gdf_buildings_buffer['buffer_geometry_400m'].apply(lambda x:count_busStop(x))"
   ]
  },
  {
   "cell_type": "code",
   "execution_count": 32,
   "metadata": {},
   "outputs": [],
   "source": [
    "gdf_buildings_buffer['count_bus_stop'] = gdf_buildings_buffer['bus_list_400m'].apply(lambda x:len(x))"
   ]
  },
  {
   "cell_type": "code",
   "execution_count": 37,
   "metadata": {},
   "outputs": [],
   "source": [
    "gdf_buildings = gdf_buildings.merge(gdf_buildings_buffer[['UFID','count_bus_stop']], on='UFID')"
   ]
  },
  {
   "cell_type": "code",
   "execution_count": 38,
   "metadata": {},
   "outputs": [
    {
     "data": {
      "text/html": [
       "<div>\n",
       "<style scoped>\n",
       "    .dataframe tbody tr th:only-of-type {\n",
       "        vertical-align: middle;\n",
       "    }\n",
       "\n",
       "    .dataframe tbody tr th {\n",
       "        vertical-align: top;\n",
       "    }\n",
       "\n",
       "    .dataframe thead th {\n",
       "        text-align: right;\n",
       "    }\n",
       "</style>\n",
       "<table border=\"1\" class=\"dataframe\">\n",
       "  <thead>\n",
       "    <tr style=\"text-align: right;\">\n",
       "      <th></th>\n",
       "      <th>USABILITY</th>\n",
       "      <th>HEIGHT</th>\n",
       "      <th>PNU</th>\n",
       "      <th>GRND_FLR</th>\n",
       "      <th>UGRND_FLR</th>\n",
       "      <th>DONG_NM</th>\n",
       "      <th>UFID</th>\n",
       "      <th>BC_RAT</th>\n",
       "      <th>VC_RAT</th>\n",
       "      <th>COL_ADM_SECT_CD</th>\n",
       "      <th>BLDG_PNU</th>\n",
       "      <th>OBJECTID</th>\n",
       "      <th>BD_MGT_SN</th>\n",
       "      <th>geometry</th>\n",
       "      <th>count_bus_stop</th>\n",
       "    </tr>\n",
       "  </thead>\n",
       "  <tbody>\n",
       "    <tr>\n",
       "      <th>0</th>\n",
       "      <td>01000</td>\n",
       "      <td>7.90</td>\n",
       "      <td>1168011400106410010</td>\n",
       "      <td>2</td>\n",
       "      <td>1</td>\n",
       "      <td>None</td>\n",
       "      <td>1987207556994435369900000000</td>\n",
       "      <td>49.21</td>\n",
       "      <td>None</td>\n",
       "      <td>None</td>\n",
       "      <td>None</td>\n",
       "      <td>None</td>\n",
       "      <td>1168011400106410010001998</td>\n",
       "      <td>MULTIPOLYGON (((127.08634 37.49399, 127.08628 ...</td>\n",
       "      <td>9</td>\n",
       "    </tr>\n",
       "    <tr>\n",
       "      <th>1</th>\n",
       "      <td>02000</td>\n",
       "      <td>13.16</td>\n",
       "      <td>1168010800101570024</td>\n",
       "      <td>4</td>\n",
       "      <td>1</td>\n",
       "      <td>None</td>\n",
       "      <td>2003202386534451790800000000</td>\n",
       "      <td>54.62</td>\n",
       "      <td>None</td>\n",
       "      <td>None</td>\n",
       "      <td>None</td>\n",
       "      <td>None</td>\n",
       "      <td>1168010800101570024008663</td>\n",
       "      <td>MULTIPOLYGON (((127.02788 37.50883, 127.02781 ...</td>\n",
       "      <td>2</td>\n",
       "    </tr>\n",
       "    <tr>\n",
       "      <th>2</th>\n",
       "      <td>02000</td>\n",
       "      <td>0.00</td>\n",
       "      <td>1168010500100790000</td>\n",
       "      <td>12</td>\n",
       "      <td>1</td>\n",
       "      <td>6</td>\n",
       "      <td>1981205226284463626200000000</td>\n",
       "      <td>0.00</td>\n",
       "      <td>None</td>\n",
       "      <td>None</td>\n",
       "      <td>None</td>\n",
       "      <td>None</td>\n",
       "      <td>1168010500100790000014655</td>\n",
       "      <td>MULTIPOLYGON (((127.06025 37.51966, 127.06031 ...</td>\n",
       "      <td>5</td>\n",
       "    </tr>\n",
       "    <tr>\n",
       "      <th>3</th>\n",
       "      <td>01000</td>\n",
       "      <td>9.80</td>\n",
       "      <td>1168010400100110005</td>\n",
       "      <td>3</td>\n",
       "      <td>0</td>\n",
       "      <td>´Ù°¡±¸¿ë´Üµ¶ÁÖÅÃ(9°¡±¸)</td>\n",
       "      <td>1995204058644466407200000000</td>\n",
       "      <td>59.76</td>\n",
       "      <td>None</td>\n",
       "      <td>None</td>\n",
       "      <td>None</td>\n",
       "      <td>None</td>\n",
       "      <td>1168010400100110005018473</td>\n",
       "      <td>MULTIPOLYGON (((127.04673 37.52192, 127.04665 ...</td>\n",
       "      <td>10</td>\n",
       "    </tr>\n",
       "    <tr>\n",
       "      <th>4</th>\n",
       "      <td>01000</td>\n",
       "      <td>0.00</td>\n",
       "      <td>1168010500100700004</td>\n",
       "      <td>2</td>\n",
       "      <td>1</td>\n",
       "      <td>None</td>\n",
       "      <td>1978204624064458510800000000</td>\n",
       "      <td>0.00</td>\n",
       "      <td>None</td>\n",
       "      <td>None</td>\n",
       "      <td>None</td>\n",
       "      <td>None</td>\n",
       "      <td>1168010500100700004015465</td>\n",
       "      <td>MULTIPOLYGON (((127.05317 37.51489, 127.05315 ...</td>\n",
       "      <td>6</td>\n",
       "    </tr>\n",
       "  </tbody>\n",
       "</table>\n",
       "</div>"
      ],
      "text/plain": [
       "  USABILITY  HEIGHT                  PNU  GRND_FLR  UGRND_FLR  \\\n",
       "0     01000    7.90  1168011400106410010         2          1   \n",
       "1     02000   13.16  1168010800101570024         4          1   \n",
       "2     02000    0.00  1168010500100790000        12          1   \n",
       "3     01000    9.80  1168010400100110005         3          0   \n",
       "4     01000    0.00  1168010500100700004         2          1   \n",
       "\n",
       "                   DONG_NM                          UFID  BC_RAT VC_RAT  \\\n",
       "0                     None  1987207556994435369900000000   49.21   None   \n",
       "1                     None  2003202386534451790800000000   54.62   None   \n",
       "2                        6  1981205226284463626200000000    0.00   None   \n",
       "3  ´Ù°¡±¸¿ë´Üµ¶ÁÖÅÃ(9°¡±¸)  1995204058644466407200000000   59.76   None   \n",
       "4                     None  1978204624064458510800000000    0.00   None   \n",
       "\n",
       "  COL_ADM_SECT_CD BLDG_PNU OBJECTID                  BD_MGT_SN  \\\n",
       "0            None     None     None  1168011400106410010001998   \n",
       "1            None     None     None  1168010800101570024008663   \n",
       "2            None     None     None  1168010500100790000014655   \n",
       "3            None     None     None  1168010400100110005018473   \n",
       "4            None     None     None  1168010500100700004015465   \n",
       "\n",
       "                                            geometry  count_bus_stop  \n",
       "0  MULTIPOLYGON (((127.08634 37.49399, 127.08628 ...               9  \n",
       "1  MULTIPOLYGON (((127.02788 37.50883, 127.02781 ...               2  \n",
       "2  MULTIPOLYGON (((127.06025 37.51966, 127.06031 ...               5  \n",
       "3  MULTIPOLYGON (((127.04673 37.52192, 127.04665 ...              10  \n",
       "4  MULTIPOLYGON (((127.05317 37.51489, 127.05315 ...               6  "
      ]
     },
     "execution_count": 38,
     "metadata": {},
     "output_type": "execute_result"
    }
   ],
   "source": [
    "gdf_buildings.head()"
   ]
  },
  {
   "cell_type": "code",
   "execution_count": 39,
   "metadata": {},
   "outputs": [],
   "source": [
    "gdf_buildings.to_file('gangnamGu-building-residential.geojson', encoding='utf8', driver='GeoJSON')"
   ]
  },
  {
   "cell_type": "code",
   "execution_count": 40,
   "metadata": {},
   "outputs": [
    {
     "data": {
      "text/plain": [
       "32"
      ]
     },
     "execution_count": 40,
     "metadata": {},
     "output_type": "execute_result"
    }
   ],
   "source": [
    "gdf_buildings['count_bus_stop'].max()"
   ]
  },
  {
   "cell_type": "code",
   "execution_count": null,
   "metadata": {},
   "outputs": [],
   "source": []
  }
 ],
 "metadata": {
  "kernelspec": {
   "display_name": "Python 3",
   "language": "python",
   "name": "python3"
  },
  "language_info": {
   "codemirror_mode": {
    "name": "ipython",
    "version": 3
   },
   "file_extension": ".py",
   "mimetype": "text/x-python",
   "name": "python",
   "nbconvert_exporter": "python",
   "pygments_lexer": "ipython3",
   "version": "3.7.7"
  }
 },
 "nbformat": 4,
 "nbformat_minor": 4
}

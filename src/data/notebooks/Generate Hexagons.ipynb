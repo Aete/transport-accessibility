{
 "cells": [
  {
   "cell_type": "code",
   "execution_count": 1,
   "metadata": {},
   "outputs": [],
   "source": [
    "import h3\n",
    "import json\n",
    "import pandas as pd\n",
    "import geopandas as gpd\n",
    "from shapely.geometry import Polygon"
   ]
  },
  {
   "cell_type": "code",
   "execution_count": 2,
   "metadata": {},
   "outputs": [],
   "source": [
    "# read geojson file\n",
    "f = open('../gangnamGu.geojson')\n",
    "data = json.load(f)\n",
    "f.close()"
   ]
  },
  {
   "cell_type": "code",
   "execution_count": 3,
   "metadata": {},
   "outputs": [],
   "source": [
    "# because h3 get coordinates as reversed order of geojson file. I have to reverse the order of coordinates prior to get hexagons\n",
    "new_coords = [[coord[1],coord[0]] for coord in data['features'][0]['geometry']['coordinates'][0]]"
   ]
  },
  {
   "cell_type": "code",
   "execution_count": 4,
   "metadata": {},
   "outputs": [],
   "source": [
    "# generate a new geojson file with the reversed coordinates\n",
    "new_geojson = {'type':'Polygon', 'coordinates':[new_coords]}"
   ]
  },
  {
   "cell_type": "code",
   "execution_count": 6,
   "metadata": {},
   "outputs": [
    {
     "name": "stdout",
     "output_type": "stream",
     "text": [
      "['8830e1ca31fffff', '8830e1cae9fffff', '8830e1ca23fffff', '8830e1c853fffff', '8830e1c81bfffff', '8830e1ca51fffff', '8830e1c857fffff', '8830e1c8e3fffff', '8830e1ca2bfffff', '8830e1ca37fffff', '8830e1ca17fffff', '8830e1c843fffff', '8830e1c85dfffff', '8830e1c80bfffff', '8830e1c887fffff', '8830e1c8c1fffff', '8830e1ca3dfffff', '8830e1c8c7fffff', '8830e1ca41fffff', '8830e1c125fffff', '8830e1c8ebfffff', '8830e1c855fffff', '8830e1ca35fffff', '8830e1c813fffff', '8830e1cae1fffff', '8830e1c885fffff', '8830e1c8cdfffff', '8830e1c8c9fffff', '8830e1caa3fffff', '8830e1c859fffff', '8830e1ca4bfffff', '8830e1c8e9fffff', '8830e1ca55fffff', '8830e1c8cbfffff', '8830e1caa1fffff', '8830e1cae5fffff', '8830e1ca15fffff', '8830e1ca33fffff', '8830e1cac5fffff', '8830e1c851fffff', '8830e1c88dfffff', '8830e1c8e1fffff', '8830e1ca01fffff', '8830e1c84bfffff', '8830e1ca09fffff', '8830e1ca53fffff', '8830e1caa5fffff', '8830e1c85bfffff', '8830e1c81dfffff', '8830e1ca11fffff', '8830e1cae7fffff', '8830e1c811fffff', '8830e1c889fffff', '8830e1caa7fffff', '8830e1ca5dfffff', '8830e1c849fffff', '8830e1c809fffff', '8830e1c8c5fffff', '8830e1ca43fffff', '8830e1ca03fffff', '8830e1caedfffff', '8830e1ca07fffff', '8830e1c8e5fffff', '8830e1ca13fffff', '8830e1c847fffff', '8830e1c841fffff', '8830e1ca1bfffff', '8830e1c8c3fffff', '8830e1c881fffff', '8830e1ca39fffff', '8830e1ca19fffff', '8830e1ca0bfffff', '8830e1ca57fffff', '8830e1ca0dfffff', '8830e1ca05fffff', '8830e1ca3bfffff', '8830e1c819fffff', '8830e1ca1dfffff', '8830e1caadfffff']\n"
     ]
    }
   ],
   "source": [
    "# get indices of h3 hexagons from a new geojson \n",
    "hexagons = list(h3.polyfill(new_geojson, res=8))\n",
    "print(hexagons)"
   ]
  },
  {
   "cell_type": "code",
   "execution_count": 7,
   "metadata": {},
   "outputs": [
    {
     "name": "stdout",
     "output_type": "stream",
     "text": [
      "[['8830e1ca31fffff', 127.04688904729679, 37.50081662332127], ['8830e1cae9fffff', 127.06115724384675, 37.51472424327642], ['8830e1ca23fffff', 127.03581011702948, 37.493646045460196], ['8830e1c853fffff', 127.07212309912045, 37.48908232833551], ['8830e1c81bfffff', 127.08474117007685, 37.48321129859285], ['8830e1ca51fffff', 127.03119728694772, 37.53274814680687], ['8830e1c857fffff', 127.06893796974761, 37.482346846029735], ['8830e1c8e3fffff', 127.10678904551656, 37.46472558325376], ['8830e1ca2bfffff', 127.03109316184022, 37.499944819235886], ['8830e1ca37fffff', 127.05160593525254, 37.494516323639964], ['8830e1ca17fffff', 127.05325484478125, 37.514288432163546], ['8830e1c843fffff', 127.05313978103156, 37.4814805437727], ['8830e1c85dfffff', 127.05632233579533, 37.488215424462304], ['8830e1c80bfffff', 127.06575367468858, 37.47561182843134], ['8830e1c887fffff', 127.12259954912638, 37.46558267707841], ['8830e1c8c1fffff', 127.10054938199883, 37.48407389952007], ['8830e1ca3dfffff', 127.03899047774065, 37.500380952127564], ['8830e1c8c7fffff', 127.105264633167, 37.477767985817565], ['8830e1ca41fffff', 127.01222046956809, 37.52513391529075], ['8830e1c125fffff', 127.04700103370519, 37.533624810484994], ['8830e1c8ebfffff', 127.10207473481275, 37.471031931123655], ['8830e1c855fffff', 127.06103824893677, 37.48191392599162], ['8830e1ca35fffff', 127.0437073994378, 37.49408141543913], ['8830e1c813fffff', 127.08945649182769, 37.476906911586596], ['8830e1cae1fffff', 127.06587500479544, 37.50842285373117], ['8830e1c885fffff', 127.11469367125028, 37.465154361982854], ['8830e1c8cdfffff', 127.09264464959018, 37.48364283063235], ['8830e1c8c9fffff', 127.09583364273043, 37.49037921414087], ['8830e1caa3fffff', 127.0911174153499, 37.49668392947605], ['8830e1c859fffff', 127.05950572447178, 37.49495076981998], ['8830e1ca4bfffff', 127.0153985597898, 37.53186963599857], ['8830e1c8e9fffff', 127.09417132577431, 37.470601925698965], ['8830e1ca55fffff', 127.02801662111236, 37.52601182301962], ['8830e1c8cbfffff', 127.10373966355564, 37.49081058310337], ['8830e1caa1fffff', 127.08321261253505, 37.49625133380736], ['8830e1cae5fffff', 127.06268994736904, 37.50168657964367], ['8830e1ca15fffff', 127.04535369986503, 37.513852158784424], ['8830e1ca33fffff', 127.05478887050688, 37.50125183257424], ['8830e1cac5fffff', 127.06434268254897, 37.521461144639794], ['8830e1c851fffff', 127.06422209088142, 37.48864910757067], ['8830e1c88dfffff', 127.10997939624683, 37.47146147323714], ['8830e1c8e1fffff', 127.09888567192856, 37.4642963411339], ['8830e1ca01fffff', 127.02955517248787, 37.512978226199166], ['8830e1c84bfffff', 127.04842383386425, 37.487781279253106], ['8830e1ca09fffff', 127.02483678890921, 37.51927596317624], ['8830e1ca53fffff', 127.03909853287729, 37.533186709658736], ['8830e1caa5fffff', 127.08002536051002, 37.48951508651405], ['8830e1c85bfffff', 127.06740676709346, 37.49538475373645], ['8830e1c81dfffff', 127.07365336108198, 37.47604398540066], ['8830e1ca11fffff', 127.04853656189455, 37.52058845836969], ['8830e1cae7fffff', 127.07059227788108, 37.50212086428674], ['8830e1c811fffff', 127.08155430012923, 37.476475679866596], ['8830e1c889fffff', 127.11317058280173, 37.47819782784291], ['8830e1caa7fffff', 127.0879288750476, 37.48994738186345], ['8830e1ca5dfffff', 127.02329729591811, 37.53230912217243], ['8830e1c849fffff', 127.04052658509023, 37.48734667218569], ['8830e1c809fffff', 127.05785524095134, 37.47517920920132], ['8830e1c8c5fffff', 127.09735993617458, 37.47733768031781], ['8830e1ca43fffff', 127.02011791801367, 37.52557309984365], ['8830e1ca03fffff', 127.03745380910004, 37.513415423381964], ['8830e1caedfffff', 127.05797263993554, 37.507987805853816], ['8830e1ca07fffff', 127.03427306876117, 37.506679889115276], ['8830e1c8e5fffff', 127.09569744420598, 37.457561216050586], ['8830e1ca13fffff', 127.05643899502324, 37.52102503271931], ['8830e1c847fffff', 127.04995805987251, 37.47474612795315], ['8830e1c841fffff', 127.04524256603406, 37.481046699615604], ['8830e1ca1bfffff', 127.0517202583133, 37.52732522185654], ['8830e1c8c3fffff', 127.10845536729985, 37.48450450501315], ['8830e1c881fffff', 127.11788531007326, 37.47189055179667], ['8830e1ca39fffff', 127.04217167191649, 37.507116323302974], ['8830e1ca19fffff', 127.04381779126375, 37.52688788426909], ['8830e1ca0bfffff', 127.03273545883582, 37.51971392335519], ['8830e1ca57fffff', 127.03591657886288, 37.5264500845758], ['8830e1ca0dfffff', 127.02165779003012, 37.512540567478766], ['8830e1ca05fffff', 127.02637571951091, 37.506242993309776], ['8830e1ca3bfffff', 127.05007152897521, 37.50755229563012], ['8830e1c819fffff', 127.07683894346178, 37.48277930364439], ['8830e1ca1dfffff', 127.04063538316481, 37.52015142183399], ['8830e1caadfffff', 127.07530906311537, 37.495818275146526]]\n"
     ]
    }
   ],
   "source": [
    "# get centerpoints from the indices\n",
    "hexagons_centerpoints = [[index, h3.h3_to_geo(index)[1],h3.h3_to_geo(index)[0]] for index in hexagons]\n",
    "print(hexagons_centerpoints)"
   ]
  },
  {
   "cell_type": "code",
   "execution_count": 8,
   "metadata": {},
   "outputs": [
    {
     "name": "stdout",
     "output_type": "stream",
     "text": [
      "[<shapely.geometry.polygon.Polygon object at 0x000002782B613CA0>, <shapely.geometry.polygon.Polygon object at 0x000002782B613E20>, <shapely.geometry.polygon.Polygon object at 0x0000027828C768B0>, <shapely.geometry.polygon.Polygon object at 0x0000027828C76CA0>, <shapely.geometry.polygon.Polygon object at 0x0000027828C76610>]\n"
     ]
    }
   ],
   "source": [
    "hexagons_polygons =[Polygon([(coords[1], coords[0]) for coords in h3.h3_to_geo_boundary(index)]) for index in hexagons]\n",
    "print(hexagons_polygons[:5])"
   ]
  },
  {
   "cell_type": "code",
   "execution_count": 9,
   "metadata": {},
   "outputs": [],
   "source": [
    "# create a dataframe with the indices and centerpoints\n",
    "df_hexagons = pd.DataFrame(hexagons_centerpoints, columns =['index', 'x','y'])"
   ]
  },
  {
   "cell_type": "code",
   "execution_count": 10,
   "metadata": {},
   "outputs": [
    {
     "data": {
      "text/html": [
       "<div>\n",
       "<style scoped>\n",
       "    .dataframe tbody tr th:only-of-type {\n",
       "        vertical-align: middle;\n",
       "    }\n",
       "\n",
       "    .dataframe tbody tr th {\n",
       "        vertical-align: top;\n",
       "    }\n",
       "\n",
       "    .dataframe thead th {\n",
       "        text-align: right;\n",
       "    }\n",
       "</style>\n",
       "<table border=\"1\" class=\"dataframe\">\n",
       "  <thead>\n",
       "    <tr style=\"text-align: right;\">\n",
       "      <th></th>\n",
       "      <th>index</th>\n",
       "      <th>x</th>\n",
       "      <th>y</th>\n",
       "    </tr>\n",
       "  </thead>\n",
       "  <tbody>\n",
       "    <tr>\n",
       "      <th>0</th>\n",
       "      <td>8830e1ca31fffff</td>\n",
       "      <td>127.046889</td>\n",
       "      <td>37.500817</td>\n",
       "    </tr>\n",
       "    <tr>\n",
       "      <th>1</th>\n",
       "      <td>8830e1cae9fffff</td>\n",
       "      <td>127.061157</td>\n",
       "      <td>37.514724</td>\n",
       "    </tr>\n",
       "    <tr>\n",
       "      <th>2</th>\n",
       "      <td>8830e1ca23fffff</td>\n",
       "      <td>127.035810</td>\n",
       "      <td>37.493646</td>\n",
       "    </tr>\n",
       "    <tr>\n",
       "      <th>3</th>\n",
       "      <td>8830e1c853fffff</td>\n",
       "      <td>127.072123</td>\n",
       "      <td>37.489082</td>\n",
       "    </tr>\n",
       "    <tr>\n",
       "      <th>4</th>\n",
       "      <td>8830e1c81bfffff</td>\n",
       "      <td>127.084741</td>\n",
       "      <td>37.483211</td>\n",
       "    </tr>\n",
       "  </tbody>\n",
       "</table>\n",
       "</div>"
      ],
      "text/plain": [
       "             index           x          y\n",
       "0  8830e1ca31fffff  127.046889  37.500817\n",
       "1  8830e1cae9fffff  127.061157  37.514724\n",
       "2  8830e1ca23fffff  127.035810  37.493646\n",
       "3  8830e1c853fffff  127.072123  37.489082\n",
       "4  8830e1c81bfffff  127.084741  37.483211"
      ]
     },
     "execution_count": 10,
     "metadata": {},
     "output_type": "execute_result"
    }
   ],
   "source": [
    "df_hexagons.head()"
   ]
  },
  {
   "cell_type": "code",
   "execution_count": 11,
   "metadata": {},
   "outputs": [],
   "source": [
    "# convert the dataframe into a geodataframe with geometries\n",
    "gdf_hexagons = gpd.GeoDataFrame(df_hexagons, geometry = hexagons_polygons)"
   ]
  },
  {
   "cell_type": "code",
   "execution_count": 12,
   "metadata": {},
   "outputs": [
    {
     "data": {
      "text/html": [
       "<div>\n",
       "<style scoped>\n",
       "    .dataframe tbody tr th:only-of-type {\n",
       "        vertical-align: middle;\n",
       "    }\n",
       "\n",
       "    .dataframe tbody tr th {\n",
       "        vertical-align: top;\n",
       "    }\n",
       "\n",
       "    .dataframe thead th {\n",
       "        text-align: right;\n",
       "    }\n",
       "</style>\n",
       "<table border=\"1\" class=\"dataframe\">\n",
       "  <thead>\n",
       "    <tr style=\"text-align: right;\">\n",
       "      <th></th>\n",
       "      <th>index</th>\n",
       "      <th>x</th>\n",
       "      <th>y</th>\n",
       "      <th>geometry</th>\n",
       "    </tr>\n",
       "  </thead>\n",
       "  <tbody>\n",
       "    <tr>\n",
       "      <th>0</th>\n",
       "      <td>8830e1ca31fffff</td>\n",
       "      <td>127.046889</td>\n",
       "      <td>37.500817</td>\n",
       "      <td>POLYGON ((127.05109 37.49886, 127.05058 37.503...</td>\n",
       "    </tr>\n",
       "    <tr>\n",
       "      <th>1</th>\n",
       "      <td>8830e1cae9fffff</td>\n",
       "      <td>127.061157</td>\n",
       "      <td>37.514724</td>\n",
       "      <td>POLYGON ((127.06536 37.51277, 127.06485 37.517...</td>\n",
       "    </tr>\n",
       "    <tr>\n",
       "      <th>2</th>\n",
       "      <td>8830e1ca23fffff</td>\n",
       "      <td>127.035810</td>\n",
       "      <td>37.493646</td>\n",
       "      <td>POLYGON ((127.04001 37.49169, 127.03950 37.496...</td>\n",
       "    </tr>\n",
       "    <tr>\n",
       "      <th>3</th>\n",
       "      <td>8830e1c853fffff</td>\n",
       "      <td>127.072123</td>\n",
       "      <td>37.489082</td>\n",
       "      <td>POLYGON ((127.07633 37.48713, 127.07582 37.491...</td>\n",
       "    </tr>\n",
       "    <tr>\n",
       "      <th>4</th>\n",
       "      <td>8830e1c81bfffff</td>\n",
       "      <td>127.084741</td>\n",
       "      <td>37.483211</td>\n",
       "      <td>POLYGON ((127.08895 37.48125, 127.08844 37.485...</td>\n",
       "    </tr>\n",
       "  </tbody>\n",
       "</table>\n",
       "</div>"
      ],
      "text/plain": [
       "             index           x          y  \\\n",
       "0  8830e1ca31fffff  127.046889  37.500817   \n",
       "1  8830e1cae9fffff  127.061157  37.514724   \n",
       "2  8830e1ca23fffff  127.035810  37.493646   \n",
       "3  8830e1c853fffff  127.072123  37.489082   \n",
       "4  8830e1c81bfffff  127.084741  37.483211   \n",
       "\n",
       "                                            geometry  \n",
       "0  POLYGON ((127.05109 37.49886, 127.05058 37.503...  \n",
       "1  POLYGON ((127.06536 37.51277, 127.06485 37.517...  \n",
       "2  POLYGON ((127.04001 37.49169, 127.03950 37.496...  \n",
       "3  POLYGON ((127.07633 37.48713, 127.07582 37.491...  \n",
       "4  POLYGON ((127.08895 37.48125, 127.08844 37.485...  "
      ]
     },
     "execution_count": 12,
     "metadata": {},
     "output_type": "execute_result"
    }
   ],
   "source": [
    "gdf_hexagons.head()"
   ]
  },
  {
   "cell_type": "code",
   "execution_count": 13,
   "metadata": {},
   "outputs": [],
   "source": [
    "# export the geodataframe into a geojson file \n",
    "gdf_hexagons.to_file('../hexagons.geojson', encoding='utf8', driver='GeoJSON')"
   ]
  }
 ],
 "metadata": {
  "kernelspec": {
   "display_name": "Python 3",
   "language": "python",
   "name": "python3"
  },
  "language_info": {
   "codemirror_mode": {
    "name": "ipython",
    "version": 3
   },
   "file_extension": ".py",
   "mimetype": "text/x-python",
   "name": "python",
   "nbconvert_exporter": "python",
   "pygments_lexer": "ipython3",
   "version": "3.9.1"
  }
 },
 "nbformat": 4,
 "nbformat_minor": 4
}

{
 "cells": [
  {
   "cell_type": "markdown",
   "metadata": {},
   "source": [
    "# 511_02_counting_crash"
   ]
  },
  {
   "cell_type": "markdown",
   "metadata": {},
   "source": [
    "This notebook is for counting crashes that occured nearby 511 events. <br>\n",
    "\n",
    "This notebook follows chapters like below:\n",
    "\n",
    "- 1. Merge 511 with buffer zones based on the Sharedstreets geometry: Based on Sharedstreet geometry, creating bufferzone around 511 events <br>\n",
    "- 2. Convert coordinate system of the crash dataset <br>\n",
    "- 3. Counting Crashes: Counting crashes based on the buffer zones for each 511 events"
   ]
  },
  {
   "cell_type": "code",
   "execution_count": 2,
   "metadata": {},
   "outputs": [],
   "source": [
    "import pandas as pd\n",
    "import geopandas as gpd\n",
    "import shapely.wkt\n",
    "from shapely.geometry import Point\n",
    "from fiona.crs import from_epsg"
   ]
  },
  {
   "cell_type": "code",
   "execution_count": 3,
   "metadata": {},
   "outputs": [],
   "source": [
    "# make sure that you run the 'crash_00_data_wrangling' notebook to get the '511_mv_collisions.csv'\n",
    "# import filtered crash dataset\n",
    "gdf_crash = pd.read_csv('../data/cleaned_data/511_mv_collisions.csv')\n",
    "\n",
    "# make sure that you run the 511_01_data_wrangling_with_sharedstreets to get the '511_matched_0629.geojson'\n",
    "# import the processed sharedstreet result of 511 events \n",
    "gdf_511 = gpd.read_file('../data/cleaned_data/511_matched_0629.geojson')"
   ]
  },
  {
   "cell_type": "code",
   "execution_count": 4,
   "metadata": {},
   "outputs": [],
   "source": [
    "# set the geometry column and change dataframe into Geodataframe\n",
    "gdf_crash['geometry'] = gdf_crash['geometry'].apply(lambda x: shapely.wkt.loads(x))\n",
    "gdf_crash = gpd.GeoDataFrame(gdf_crash, geometry='geometry')"
   ]
  },
  {
   "cell_type": "code",
   "execution_count": 5,
   "metadata": {},
   "outputs": [],
   "source": [
    "# make 'time' column by concatenate data and time column\n",
    "gdf_crash['time'] = pd.to_datetime(gdf_crash['crash_date']+' '+gdf_crash['crash_time'])"
   ]
  },
  {
   "cell_type": "code",
   "execution_count": 6,
   "metadata": {},
   "outputs": [
    {
     "data": {
      "text/html": [
       "<div>\n",
       "<style scoped>\n",
       "    .dataframe tbody tr th:only-of-type {\n",
       "        vertical-align: middle;\n",
       "    }\n",
       "\n",
       "    .dataframe tbody tr th {\n",
       "        vertical-align: top;\n",
       "    }\n",
       "\n",
       "    .dataframe thead th {\n",
       "        text-align: right;\n",
       "    }\n",
       "</style>\n",
       "<table border=\"1\" class=\"dataframe\">\n",
       "  <thead>\n",
       "    <tr style=\"text-align: right;\">\n",
       "      <th></th>\n",
       "      <th>event_id</th>\n",
       "      <th>Event Type</th>\n",
       "      <th>Organizati</th>\n",
       "      <th>Facility N</th>\n",
       "      <th>Direction</th>\n",
       "      <th>City</th>\n",
       "      <th>County</th>\n",
       "      <th>State</th>\n",
       "      <th>Create Tim</th>\n",
       "      <th>Close Time</th>\n",
       "      <th>Event Desc</th>\n",
       "      <th>Responding</th>\n",
       "      <th>Latitude</th>\n",
       "      <th>Longitude</th>\n",
       "      <th>Duration</th>\n",
       "      <th>geometryId</th>\n",
       "      <th>geometry</th>\n",
       "    </tr>\n",
       "  </thead>\n",
       "  <tbody>\n",
       "    <tr>\n",
       "      <th>0</th>\n",
       "      <td>0</td>\n",
       "      <td>construction</td>\n",
       "      <td>Port Authority New York/New Jersey</td>\n",
       "      <td>George Washington Bridge</td>\n",
       "      <td>Westbound</td>\n",
       "      <td>Manhattan</td>\n",
       "      <td>New York</td>\n",
       "      <td>NY</td>\n",
       "      <td>2019-09-30T23:45:00</td>\n",
       "      <td>2019-10-06T10:17:00</td>\n",
       "      <td>Construction on George Washington Bridge westb...</td>\n",
       "      <td>Port Authority New York/New Jersey</td>\n",
       "      <td>40.850128</td>\n",
       "      <td>-73.945304</td>\n",
       "      <td>5 days 10:32:00.000000000</td>\n",
       "      <td>70dcf37c088c5bd4f487ed14e8f42168</td>\n",
       "      <td>POINT (-73.94529 40.85017)</td>\n",
       "    </tr>\n",
       "    <tr>\n",
       "      <th>1</th>\n",
       "      <td>1</td>\n",
       "      <td>construction</td>\n",
       "      <td>Port Authority New York/New Jersey</td>\n",
       "      <td>George Washington Bridge</td>\n",
       "      <td>Westbound</td>\n",
       "      <td>Manhattan</td>\n",
       "      <td>New York</td>\n",
       "      <td>NY</td>\n",
       "      <td>2019-09-30T23:33:00</td>\n",
       "      <td>2019-10-05T10:01:00</td>\n",
       "      <td>Construction on George Washington Bridge westb...</td>\n",
       "      <td>Port Authority New York/New Jersey</td>\n",
       "      <td>40.850128</td>\n",
       "      <td>-73.945304</td>\n",
       "      <td>4 days 10:28:00.000000000</td>\n",
       "      <td>70dcf37c088c5bd4f487ed14e8f42168</td>\n",
       "      <td>POINT (-73.94529 40.85017)</td>\n",
       "    </tr>\n",
       "    <tr>\n",
       "      <th>2</th>\n",
       "      <td>2</td>\n",
       "      <td>bridge construction</td>\n",
       "      <td>Port Authority New York/New Jersey</td>\n",
       "      <td>George Washington Bridge</td>\n",
       "      <td>Westbound</td>\n",
       "      <td>ramp to Manhattan</td>\n",
       "      <td>New York</td>\n",
       "      <td>NY</td>\n",
       "      <td>2019-09-30T22:48:00</td>\n",
       "      <td>2019-10-04T14:47:00</td>\n",
       "      <td>Bridge construction on George Washington Bridg...</td>\n",
       "      <td>Port Authority New York/New Jersey</td>\n",
       "      <td>40.847641</td>\n",
       "      <td>-73.934855</td>\n",
       "      <td>3 days 15:59:00.000000000</td>\n",
       "      <td>873abb2e212cad46574849291152bc75</td>\n",
       "      <td>POINT (-73.93488 40.84761)</td>\n",
       "    </tr>\n",
       "    <tr>\n",
       "      <th>3</th>\n",
       "      <td>3</td>\n",
       "      <td>construction</td>\n",
       "      <td>Port Authority New York/New Jersey</td>\n",
       "      <td>George Washington Bridge</td>\n",
       "      <td>Westbound</td>\n",
       "      <td>Manhattan</td>\n",
       "      <td>New York</td>\n",
       "      <td>NY</td>\n",
       "      <td>2019-09-30T22:40:00</td>\n",
       "      <td>2019-10-04T05:17:00</td>\n",
       "      <td>Construction on George Washington Bridge westb...</td>\n",
       "      <td>Port Authority New York/New Jersey</td>\n",
       "      <td>40.847641</td>\n",
       "      <td>-73.934855</td>\n",
       "      <td>3 days 06:37:00.000000000</td>\n",
       "      <td>873abb2e212cad46574849291152bc75</td>\n",
       "      <td>POINT (-73.93488 40.84761)</td>\n",
       "    </tr>\n",
       "    <tr>\n",
       "      <th>4</th>\n",
       "      <td>4</td>\n",
       "      <td>bridge construction</td>\n",
       "      <td>Port Authority New York/New Jersey</td>\n",
       "      <td>George Washington Bridge</td>\n",
       "      <td>Westbound</td>\n",
       "      <td>Manhattan</td>\n",
       "      <td>New York</td>\n",
       "      <td>NY</td>\n",
       "      <td>2019-09-30T22:35:00</td>\n",
       "      <td>2019-10-04T14:47:00</td>\n",
       "      <td>Bridge construction on George Washington Bridg...</td>\n",
       "      <td>Port Authority New York/New Jersey</td>\n",
       "      <td>40.851569</td>\n",
       "      <td>-73.952725</td>\n",
       "      <td>3 days 16:12:00.000000000</td>\n",
       "      <td>70dcf37c088c5bd4f487ed14e8f42168</td>\n",
       "      <td>POINT (-73.95271 40.85162)</td>\n",
       "    </tr>\n",
       "  </tbody>\n",
       "</table>\n",
       "</div>"
      ],
      "text/plain": [
       "   event_id           Event Type                          Organizati  \\\n",
       "0         0         construction  Port Authority New York/New Jersey   \n",
       "1         1         construction  Port Authority New York/New Jersey   \n",
       "2         2  bridge construction  Port Authority New York/New Jersey   \n",
       "3         3         construction  Port Authority New York/New Jersey   \n",
       "4         4  bridge construction  Port Authority New York/New Jersey   \n",
       "\n",
       "                 Facility N  Direction               City    County State  \\\n",
       "0  George Washington Bridge  Westbound          Manhattan  New York    NY   \n",
       "1  George Washington Bridge  Westbound          Manhattan  New York    NY   \n",
       "2  George Washington Bridge  Westbound  ramp to Manhattan  New York    NY   \n",
       "3  George Washington Bridge  Westbound          Manhattan  New York    NY   \n",
       "4  George Washington Bridge  Westbound          Manhattan  New York    NY   \n",
       "\n",
       "            Create Tim           Close Time  \\\n",
       "0  2019-09-30T23:45:00  2019-10-06T10:17:00   \n",
       "1  2019-09-30T23:33:00  2019-10-05T10:01:00   \n",
       "2  2019-09-30T22:48:00  2019-10-04T14:47:00   \n",
       "3  2019-09-30T22:40:00  2019-10-04T05:17:00   \n",
       "4  2019-09-30T22:35:00  2019-10-04T14:47:00   \n",
       "\n",
       "                                          Event Desc  \\\n",
       "0  Construction on George Washington Bridge westb...   \n",
       "1  Construction on George Washington Bridge westb...   \n",
       "2  Bridge construction on George Washington Bridg...   \n",
       "3  Construction on George Washington Bridge westb...   \n",
       "4  Bridge construction on George Washington Bridg...   \n",
       "\n",
       "                           Responding   Latitude  Longitude  \\\n",
       "0  Port Authority New York/New Jersey  40.850128 -73.945304   \n",
       "1  Port Authority New York/New Jersey  40.850128 -73.945304   \n",
       "2  Port Authority New York/New Jersey  40.847641 -73.934855   \n",
       "3  Port Authority New York/New Jersey  40.847641 -73.934855   \n",
       "4  Port Authority New York/New Jersey  40.851569 -73.952725   \n",
       "\n",
       "                    Duration                        geometryId  \\\n",
       "0  5 days 10:32:00.000000000  70dcf37c088c5bd4f487ed14e8f42168   \n",
       "1  4 days 10:28:00.000000000  70dcf37c088c5bd4f487ed14e8f42168   \n",
       "2  3 days 15:59:00.000000000  873abb2e212cad46574849291152bc75   \n",
       "3  3 days 06:37:00.000000000  873abb2e212cad46574849291152bc75   \n",
       "4  3 days 16:12:00.000000000  70dcf37c088c5bd4f487ed14e8f42168   \n",
       "\n",
       "                     geometry  \n",
       "0  POINT (-73.94529 40.85017)  \n",
       "1  POINT (-73.94529 40.85017)  \n",
       "2  POINT (-73.93488 40.84761)  \n",
       "3  POINT (-73.93488 40.84761)  \n",
       "4  POINT (-73.95271 40.85162)  "
      ]
     },
     "execution_count": 6,
     "metadata": {},
     "output_type": "execute_result"
    }
   ],
   "source": [
    "gdf_511.head()"
   ]
  },
  {
   "cell_type": "code",
   "execution_count": 7,
   "metadata": {},
   "outputs": [
    {
     "data": {
      "text/html": [
       "<div>\n",
       "<style scoped>\n",
       "    .dataframe tbody tr th:only-of-type {\n",
       "        vertical-align: middle;\n",
       "    }\n",
       "\n",
       "    .dataframe tbody tr th {\n",
       "        vertical-align: top;\n",
       "    }\n",
       "\n",
       "    .dataframe thead th {\n",
       "        text-align: right;\n",
       "    }\n",
       "</style>\n",
       "<table border=\"1\" class=\"dataframe\">\n",
       "  <thead>\n",
       "    <tr style=\"text-align: right;\">\n",
       "      <th></th>\n",
       "      <th>crash_date</th>\n",
       "      <th>crash_time</th>\n",
       "      <th>borough</th>\n",
       "      <th>zip_code</th>\n",
       "      <th>latitude</th>\n",
       "      <th>longitude</th>\n",
       "      <th>location</th>\n",
       "      <th>on_street_name</th>\n",
       "      <th>cross_street_name</th>\n",
       "      <th>off_street_name</th>\n",
       "      <th>...</th>\n",
       "      <th>vehicle_type_code_3</th>\n",
       "      <th>vehicle_type_code_4</th>\n",
       "      <th>vehicle_type_code_5</th>\n",
       "      <th>geometry</th>\n",
       "      <th>index_right</th>\n",
       "      <th>boro_code</th>\n",
       "      <th>boro_name</th>\n",
       "      <th>shape_area</th>\n",
       "      <th>shape_leng</th>\n",
       "      <th>time</th>\n",
       "    </tr>\n",
       "  </thead>\n",
       "  <tbody>\n",
       "    <tr>\n",
       "      <th>0</th>\n",
       "      <td>2016-10-01</td>\n",
       "      <td>20:20</td>\n",
       "      <td>manhattan</td>\n",
       "      <td>10038.0</td>\n",
       "      <td>40.711567</td>\n",
       "      <td>-74.00774</td>\n",
       "      <td>POINT (-74.00774 40.711567)</td>\n",
       "      <td>NaN</td>\n",
       "      <td>NaN</td>\n",
       "      <td>20        park row</td>\n",
       "      <td>...</td>\n",
       "      <td>NaN</td>\n",
       "      <td>NaN</td>\n",
       "      <td>NaN</td>\n",
       "      <td>POINT (-74.00774 40.71157)</td>\n",
       "      <td>4</td>\n",
       "      <td>1.0</td>\n",
       "      <td>Manhattan</td>\n",
       "      <td>9.442946e+08</td>\n",
       "      <td>203803.483188</td>\n",
       "      <td>2016-10-01 20:20:00</td>\n",
       "    </tr>\n",
       "    <tr>\n",
       "      <th>1</th>\n",
       "      <td>2016-10-01</td>\n",
       "      <td>1:40</td>\n",
       "      <td>NaN</td>\n",
       "      <td>NaN</td>\n",
       "      <td>40.654984</td>\n",
       "      <td>-74.00711</td>\n",
       "      <td>POINT (-74.00711 40.654984)</td>\n",
       "      <td>gowanus expy (bqe)</td>\n",
       "      <td>NaN</td>\n",
       "      <td>NaN</td>\n",
       "      <td>...</td>\n",
       "      <td>NaN</td>\n",
       "      <td>NaN</td>\n",
       "      <td>NaN</td>\n",
       "      <td>POINT (-74.00711 40.65498)</td>\n",
       "      <td>2</td>\n",
       "      <td>3.0</td>\n",
       "      <td>Brooklyn</td>\n",
       "      <td>2.684410e+09</td>\n",
       "      <td>234924.030131</td>\n",
       "      <td>2016-10-01 01:40:00</td>\n",
       "    </tr>\n",
       "    <tr>\n",
       "      <th>2</th>\n",
       "      <td>2016-10-01</td>\n",
       "      <td>22:30</td>\n",
       "      <td>manhattan</td>\n",
       "      <td>10032.0</td>\n",
       "      <td>40.837803</td>\n",
       "      <td>-73.94215</td>\n",
       "      <td>POINT (-73.94215 40.837803)</td>\n",
       "      <td>west 163 street</td>\n",
       "      <td>broadway</td>\n",
       "      <td>NaN</td>\n",
       "      <td>...</td>\n",
       "      <td>NaN</td>\n",
       "      <td>NaN</td>\n",
       "      <td>NaN</td>\n",
       "      <td>POINT (-73.94215 40.83780)</td>\n",
       "      <td>4</td>\n",
       "      <td>1.0</td>\n",
       "      <td>Manhattan</td>\n",
       "      <td>9.442946e+08</td>\n",
       "      <td>203803.483188</td>\n",
       "      <td>2016-10-01 22:30:00</td>\n",
       "    </tr>\n",
       "    <tr>\n",
       "      <th>3</th>\n",
       "      <td>2016-10-01</td>\n",
       "      <td>19:00</td>\n",
       "      <td>queens</td>\n",
       "      <td>11354.0</td>\n",
       "      <td>40.761890</td>\n",
       "      <td>-73.82967</td>\n",
       "      <td>POINT (-73.82967 40.76189)</td>\n",
       "      <td>37 avenue</td>\n",
       "      <td>138 street</td>\n",
       "      <td>NaN</td>\n",
       "      <td>...</td>\n",
       "      <td>NaN</td>\n",
       "      <td>NaN</td>\n",
       "      <td>NaN</td>\n",
       "      <td>POINT (-73.82967 40.76189)</td>\n",
       "      <td>3</td>\n",
       "      <td>4.0</td>\n",
       "      <td>Queens</td>\n",
       "      <td>3.858051e+09</td>\n",
       "      <td>429582.281880</td>\n",
       "      <td>2016-10-01 19:00:00</td>\n",
       "    </tr>\n",
       "    <tr>\n",
       "      <th>4</th>\n",
       "      <td>2016-10-01</td>\n",
       "      <td>11:10</td>\n",
       "      <td>brooklyn</td>\n",
       "      <td>11203.0</td>\n",
       "      <td>40.651936</td>\n",
       "      <td>-73.92940</td>\n",
       "      <td>POINT (-73.9294 40.651936)</td>\n",
       "      <td>church avenue</td>\n",
       "      <td>east 51 street</td>\n",
       "      <td>NaN</td>\n",
       "      <td>...</td>\n",
       "      <td>NaN</td>\n",
       "      <td>NaN</td>\n",
       "      <td>NaN</td>\n",
       "      <td>POINT (-73.92940 40.65194)</td>\n",
       "      <td>2</td>\n",
       "      <td>3.0</td>\n",
       "      <td>Brooklyn</td>\n",
       "      <td>2.684410e+09</td>\n",
       "      <td>234924.030131</td>\n",
       "      <td>2016-10-01 11:10:00</td>\n",
       "    </tr>\n",
       "  </tbody>\n",
       "</table>\n",
       "<p>5 rows × 36 columns</p>\n",
       "</div>"
      ],
      "text/plain": [
       "   crash_date crash_time    borough  zip_code   latitude  longitude  \\\n",
       "0  2016-10-01      20:20  manhattan   10038.0  40.711567  -74.00774   \n",
       "1  2016-10-01       1:40        NaN       NaN  40.654984  -74.00711   \n",
       "2  2016-10-01      22:30  manhattan   10032.0  40.837803  -73.94215   \n",
       "3  2016-10-01      19:00     queens   11354.0  40.761890  -73.82967   \n",
       "4  2016-10-01      11:10   brooklyn   11203.0  40.651936  -73.92940   \n",
       "\n",
       "                      location                    on_street_name  \\\n",
       "0  POINT (-74.00774 40.711567)                               NaN   \n",
       "1  POINT (-74.00711 40.654984)  gowanus expy (bqe)                 \n",
       "2  POINT (-73.94215 40.837803)  west 163 street                    \n",
       "3   POINT (-73.82967 40.76189)  37 avenue                          \n",
       "4   POINT (-73.9294 40.651936)  church avenue                      \n",
       "\n",
       "  cross_street_name                           off_street_name  ...  \\\n",
       "0               NaN  20        park row                        ...   \n",
       "1               NaN                                       NaN  ...   \n",
       "2          broadway                                       NaN  ...   \n",
       "3        138 street                                       NaN  ...   \n",
       "4    east 51 street                                       NaN  ...   \n",
       "\n",
       "   vehicle_type_code_3  vehicle_type_code_4  vehicle_type_code_5  \\\n",
       "0                  NaN                  NaN                  NaN   \n",
       "1                  NaN                  NaN                  NaN   \n",
       "2                  NaN                  NaN                  NaN   \n",
       "3                  NaN                  NaN                  NaN   \n",
       "4                  NaN                  NaN                  NaN   \n",
       "\n",
       "                     geometry  index_right  boro_code  boro_name  \\\n",
       "0  POINT (-74.00774 40.71157)            4        1.0  Manhattan   \n",
       "1  POINT (-74.00711 40.65498)            2        3.0   Brooklyn   \n",
       "2  POINT (-73.94215 40.83780)            4        1.0  Manhattan   \n",
       "3  POINT (-73.82967 40.76189)            3        4.0     Queens   \n",
       "4  POINT (-73.92940 40.65194)            2        3.0   Brooklyn   \n",
       "\n",
       "     shape_area     shape_leng                time  \n",
       "0  9.442946e+08  203803.483188 2016-10-01 20:20:00  \n",
       "1  2.684410e+09  234924.030131 2016-10-01 01:40:00  \n",
       "2  9.442946e+08  203803.483188 2016-10-01 22:30:00  \n",
       "3  3.858051e+09  429582.281880 2016-10-01 19:00:00  \n",
       "4  2.684410e+09  234924.030131 2016-10-01 11:10:00  \n",
       "\n",
       "[5 rows x 36 columns]"
      ]
     },
     "execution_count": 7,
     "metadata": {},
     "output_type": "execute_result"
    }
   ],
   "source": [
    "gdf_crash.head()"
   ]
  },
  {
   "cell_type": "markdown",
   "metadata": {},
   "source": [
    "## 1. Merge 511 with buffer zones based on the Sharedstreets geometry\n",
    "\n"
   ]
  },
  {
   "cell_type": "markdown",
   "metadata": {},
   "source": [
    "### 1-1. Create Buffer zone from Work zone based on a geometry of shst segment\n"
   ]
  },
  {
   "cell_type": "code",
   "execution_count": 8,
   "metadata": {},
   "outputs": [],
   "source": [
    "# import shst geometry dataset\n",
    "gdf_shst = gpd.read_file('../data/sharedstreets_geometry/segment/shst_segment.shp')"
   ]
  },
  {
   "cell_type": "code",
   "execution_count": 9,
   "metadata": {},
   "outputs": [
    {
     "data": {
      "text/html": [
       "<div>\n",
       "<style scoped>\n",
       "    .dataframe tbody tr th:only-of-type {\n",
       "        vertical-align: middle;\n",
       "    }\n",
       "\n",
       "    .dataframe tbody tr th {\n",
       "        vertical-align: top;\n",
       "    }\n",
       "\n",
       "    .dataframe thead th {\n",
       "        text-align: right;\n",
       "    }\n",
       "</style>\n",
       "<table border=\"1\" class=\"dataframe\">\n",
       "  <thead>\n",
       "    <tr style=\"text-align: right;\">\n",
       "      <th></th>\n",
       "      <th>id</th>\n",
       "      <th>geometry</th>\n",
       "    </tr>\n",
       "  </thead>\n",
       "  <tbody>\n",
       "    <tr>\n",
       "      <th>0</th>\n",
       "      <td>db6792075ebbddc84479fda26174ca30</td>\n",
       "      <td>LINESTRING (-73.91694 40.64668, -73.91625 40.6...</td>\n",
       "    </tr>\n",
       "    <tr>\n",
       "      <th>1</th>\n",
       "      <td>42ccdc2b9ebc38f98c22bb0035045628</td>\n",
       "      <td>LINESTRING (-73.91765 40.64623, -73.91732 40.6...</td>\n",
       "    </tr>\n",
       "    <tr>\n",
       "      <th>2</th>\n",
       "      <td>84afb6627019b793945a7aab1feefe77</td>\n",
       "      <td>LINESTRING (-73.91694 40.64668, -73.91662 40.6...</td>\n",
       "    </tr>\n",
       "  </tbody>\n",
       "</table>\n",
       "</div>"
      ],
      "text/plain": [
       "                                 id  \\\n",
       "0  db6792075ebbddc84479fda26174ca30   \n",
       "1  42ccdc2b9ebc38f98c22bb0035045628   \n",
       "2  84afb6627019b793945a7aab1feefe77   \n",
       "\n",
       "                                            geometry  \n",
       "0  LINESTRING (-73.91694 40.64668, -73.91625 40.6...  \n",
       "1  LINESTRING (-73.91765 40.64623, -73.91732 40.6...  \n",
       "2  LINESTRING (-73.91694 40.64668, -73.91662 40.6...  "
      ]
     },
     "execution_count": 9,
     "metadata": {},
     "output_type": "execute_result"
    }
   ],
   "source": [
    "gdf_shst.head(3)"
   ]
  },
  {
   "cell_type": "code",
   "execution_count": 10,
   "metadata": {},
   "outputs": [],
   "source": [
    "# drop unnecessary columns\n",
    "gdf_shst = gdf_shst.loc[:,['id','geometry']]"
   ]
  },
  {
   "cell_type": "code",
   "execution_count": 11,
   "metadata": {},
   "outputs": [
    {
     "name": "stderr",
     "output_type": "stream",
     "text": [
      "C:\\Users\\hsg82\\AppData\\Local\\Continuum\\anaconda3\\envs\\capstone2020\\lib\\site-packages\\pyproj\\crs\\crs.py:53: FutureWarning: '+init=<authority>:<code>' syntax is deprecated. '<authority>:<code>' is the preferred initialization method. When making the change, be mindful of axis order changes: https://pyproj4.github.io/pyproj/stable/gotchas.html#axis-order-changes-in-proj-6\n",
      "  return _prepare_from_string(\" \".join(pjargs))\n"
     ]
    }
   ],
   "source": [
    "# change coordinate system from epsg4326 to epsg2263\n",
    "# epsg2263 is based on us-ft.\n",
    "gdf_shst.crs = from_epsg(4326)\n",
    "gdf_shst = gdf_shst.to_crs(epsg=2263)  "
   ]
  },
  {
   "cell_type": "markdown",
   "metadata": {},
   "source": [
    "Make burffer zones to counting crashes. Here we chose 900ft as an unit. the width of Manhattan style block. (https://en.wikipedia.org/wiki/City_block#:~:text=The%20standard%20block%20in%20Manhattan,80%20m%20%C3%97%20274%20m))."
   ]
  },
  {
   "cell_type": "code",
   "execution_count": 12,
   "metadata": {},
   "outputs": [],
   "source": [
    "# make a buffer zone. radius = 900ft\n",
    "gdf_shst['buffer_geometry_900ft'] = gdf_shst['geometry'].buffer(900)"
   ]
  },
  {
   "cell_type": "code",
   "execution_count": 13,
   "metadata": {},
   "outputs": [],
   "source": [
    "# make a buffer zone. radius = 1800ft\n",
    "gdf_shst['buffer_geometry_1800ft'] = gdf_shst['geometry'].buffer(1800)"
   ]
  },
  {
   "cell_type": "code",
   "execution_count": 14,
   "metadata": {},
   "outputs": [],
   "source": [
    "# make a buffer zone. radius = 2700ft\n",
    "gdf_shst['buffer_geometry_2700ft'] = gdf_shst['geometry'].buffer(2700)"
   ]
  },
  {
   "cell_type": "code",
   "execution_count": 15,
   "metadata": {},
   "outputs": [],
   "source": [
    "# make a buffer zone. radius = 3600ft\n",
    "gdf_shst['buffer_geometry_3600ft'] = gdf_shst['geometry'].buffer(3600)"
   ]
  },
  {
   "cell_type": "code",
   "execution_count": 16,
   "metadata": {},
   "outputs": [],
   "source": [
    "gdf_shst = gdf_shst.drop('geometry', axis=1)"
   ]
  },
  {
   "cell_type": "code",
   "execution_count": 17,
   "metadata": {},
   "outputs": [
    {
     "data": {
      "text/html": [
       "<div>\n",
       "<style scoped>\n",
       "    .dataframe tbody tr th:only-of-type {\n",
       "        vertical-align: middle;\n",
       "    }\n",
       "\n",
       "    .dataframe tbody tr th {\n",
       "        vertical-align: top;\n",
       "    }\n",
       "\n",
       "    .dataframe thead th {\n",
       "        text-align: right;\n",
       "    }\n",
       "</style>\n",
       "<table border=\"1\" class=\"dataframe\">\n",
       "  <thead>\n",
       "    <tr style=\"text-align: right;\">\n",
       "      <th></th>\n",
       "      <th>id</th>\n",
       "      <th>buffer_geometry_900ft</th>\n",
       "      <th>buffer_geometry_1800ft</th>\n",
       "      <th>buffer_geometry_2700ft</th>\n",
       "      <th>buffer_geometry_3600ft</th>\n",
       "    </tr>\n",
       "  </thead>\n",
       "  <tbody>\n",
       "    <tr>\n",
       "      <th>0</th>\n",
       "      <td>db6792075ebbddc84479fda26174ca30</td>\n",
       "      <td>POLYGON ((1008184.092 175235.422, 1008237.070 ...</td>\n",
       "      <td>POLYGON ((1008876.848 175809.956, 1008982.805 ...</td>\n",
       "      <td>POLYGON ((1009569.604 176384.490, 1009728.539 ...</td>\n",
       "      <td>POLYGON ((1010262.360 176959.023, 1010474.273 ...</td>\n",
       "    </tr>\n",
       "    <tr>\n",
       "      <th>1</th>\n",
       "      <td>42ccdc2b9ebc38f98c22bb0035045628</td>\n",
       "      <td>POLYGON ((1006618.366 175494.752, 1006724.188 ...</td>\n",
       "      <td>POLYGON ((1006042.378 176186.299, 1006148.182 ...</td>\n",
       "      <td>POLYGON ((1005466.390 176877.846, 1005572.176 ...</td>\n",
       "      <td>POLYGON ((1004890.402 177569.394, 1004996.170 ...</td>\n",
       "    </tr>\n",
       "    <tr>\n",
       "      <th>2</th>\n",
       "      <td>84afb6627019b793945a7aab1feefe77</td>\n",
       "      <td>POLYGON ((1006805.745 175651.874, 1006920.840 ...</td>\n",
       "      <td>POLYGON ((1006224.620 176339.110, 1006339.628 ...</td>\n",
       "      <td>POLYGON ((1005643.494 177026.346, 1005758.416 ...</td>\n",
       "      <td>POLYGON ((1005062.369 177713.581, 1005177.204 ...</td>\n",
       "    </tr>\n",
       "    <tr>\n",
       "      <th>3</th>\n",
       "      <td>cce2402bd9841cb406b283d10a814940</td>\n",
       "      <td>POLYGON ((1007118.069 175915.591, 1007188.293 ...</td>\n",
       "      <td>POLYGON ((1006537.775 176603.530, 1006678.223 ...</td>\n",
       "      <td>POLYGON ((1005957.481 177291.468, 1006168.153 ...</td>\n",
       "      <td>POLYGON ((1005377.187 177979.406, 1005658.083 ...</td>\n",
       "    </tr>\n",
       "    <tr>\n",
       "      <th>4</th>\n",
       "      <td>9fed2268f9da5e9d263fdec0cb322aaa</td>\n",
       "      <td>POLYGON ((1008213.165 175615.397, 1008431.536 ...</td>\n",
       "      <td>POLYGON ((1008896.164 176201.497, 1009114.598 ...</td>\n",
       "      <td>POLYGON ((1009579.162 176787.596, 1009797.661 ...</td>\n",
       "      <td>POLYGON ((1010262.161 177373.696, 1010480.724 ...</td>\n",
       "    </tr>\n",
       "  </tbody>\n",
       "</table>\n",
       "</div>"
      ],
      "text/plain": [
       "                                 id  \\\n",
       "0  db6792075ebbddc84479fda26174ca30   \n",
       "1  42ccdc2b9ebc38f98c22bb0035045628   \n",
       "2  84afb6627019b793945a7aab1feefe77   \n",
       "3  cce2402bd9841cb406b283d10a814940   \n",
       "4  9fed2268f9da5e9d263fdec0cb322aaa   \n",
       "\n",
       "                               buffer_geometry_900ft  \\\n",
       "0  POLYGON ((1008184.092 175235.422, 1008237.070 ...   \n",
       "1  POLYGON ((1006618.366 175494.752, 1006724.188 ...   \n",
       "2  POLYGON ((1006805.745 175651.874, 1006920.840 ...   \n",
       "3  POLYGON ((1007118.069 175915.591, 1007188.293 ...   \n",
       "4  POLYGON ((1008213.165 175615.397, 1008431.536 ...   \n",
       "\n",
       "                              buffer_geometry_1800ft  \\\n",
       "0  POLYGON ((1008876.848 175809.956, 1008982.805 ...   \n",
       "1  POLYGON ((1006042.378 176186.299, 1006148.182 ...   \n",
       "2  POLYGON ((1006224.620 176339.110, 1006339.628 ...   \n",
       "3  POLYGON ((1006537.775 176603.530, 1006678.223 ...   \n",
       "4  POLYGON ((1008896.164 176201.497, 1009114.598 ...   \n",
       "\n",
       "                              buffer_geometry_2700ft  \\\n",
       "0  POLYGON ((1009569.604 176384.490, 1009728.539 ...   \n",
       "1  POLYGON ((1005466.390 176877.846, 1005572.176 ...   \n",
       "2  POLYGON ((1005643.494 177026.346, 1005758.416 ...   \n",
       "3  POLYGON ((1005957.481 177291.468, 1006168.153 ...   \n",
       "4  POLYGON ((1009579.162 176787.596, 1009797.661 ...   \n",
       "\n",
       "                              buffer_geometry_3600ft  \n",
       "0  POLYGON ((1010262.360 176959.023, 1010474.273 ...  \n",
       "1  POLYGON ((1004890.402 177569.394, 1004996.170 ...  \n",
       "2  POLYGON ((1005062.369 177713.581, 1005177.204 ...  \n",
       "3  POLYGON ((1005377.187 177979.406, 1005658.083 ...  \n",
       "4  POLYGON ((1010262.161 177373.696, 1010480.724 ...  "
      ]
     },
     "execution_count": 17,
     "metadata": {},
     "output_type": "execute_result"
    }
   ],
   "source": [
    "gdf_shst.head()"
   ]
  },
  {
   "cell_type": "markdown",
   "metadata": {},
   "source": [
    "### 1-2. Merge 511 with buffer zones based on the Sharedstreets geometry"
   ]
  },
  {
   "cell_type": "code",
   "execution_count": 18,
   "metadata": {},
   "outputs": [],
   "source": [
    "# merge buffered geometry based on shst geometry id\n",
    "gdf_511 = gdf_511.merge(gdf_shst,left_on='geometryId',right_on='id')"
   ]
  },
  {
   "cell_type": "code",
   "execution_count": 19,
   "metadata": {},
   "outputs": [],
   "source": [
    "# drop duplicated column\n",
    "gdf_511 = gdf_511.drop('id', axis=1)"
   ]
  },
  {
   "cell_type": "code",
   "execution_count": 20,
   "metadata": {},
   "outputs": [
    {
     "data": {
      "text/html": [
       "<div>\n",
       "<style scoped>\n",
       "    .dataframe tbody tr th:only-of-type {\n",
       "        vertical-align: middle;\n",
       "    }\n",
       "\n",
       "    .dataframe tbody tr th {\n",
       "        vertical-align: top;\n",
       "    }\n",
       "\n",
       "    .dataframe thead th {\n",
       "        text-align: right;\n",
       "    }\n",
       "</style>\n",
       "<table border=\"1\" class=\"dataframe\">\n",
       "  <thead>\n",
       "    <tr style=\"text-align: right;\">\n",
       "      <th></th>\n",
       "      <th>event_id</th>\n",
       "      <th>Event Type</th>\n",
       "      <th>Organizati</th>\n",
       "      <th>Facility N</th>\n",
       "      <th>Direction</th>\n",
       "      <th>City</th>\n",
       "      <th>County</th>\n",
       "      <th>State</th>\n",
       "      <th>Create Tim</th>\n",
       "      <th>Close Time</th>\n",
       "      <th>...</th>\n",
       "      <th>Responding</th>\n",
       "      <th>Latitude</th>\n",
       "      <th>Longitude</th>\n",
       "      <th>Duration</th>\n",
       "      <th>geometryId</th>\n",
       "      <th>geometry</th>\n",
       "      <th>buffer_geometry_900ft</th>\n",
       "      <th>buffer_geometry_1800ft</th>\n",
       "      <th>buffer_geometry_2700ft</th>\n",
       "      <th>buffer_geometry_3600ft</th>\n",
       "    </tr>\n",
       "  </thead>\n",
       "  <tbody>\n",
       "    <tr>\n",
       "      <th>0</th>\n",
       "      <td>0</td>\n",
       "      <td>construction</td>\n",
       "      <td>Port Authority New York/New Jersey</td>\n",
       "      <td>George Washington Bridge</td>\n",
       "      <td>Westbound</td>\n",
       "      <td>Manhattan</td>\n",
       "      <td>New York</td>\n",
       "      <td>NY</td>\n",
       "      <td>2019-09-30T23:45:00</td>\n",
       "      <td>2019-10-06T10:17:00</td>\n",
       "      <td>...</td>\n",
       "      <td>Port Authority New York/New Jersey</td>\n",
       "      <td>40.850128</td>\n",
       "      <td>-73.945304</td>\n",
       "      <td>5 days 10:32:00.000000000</td>\n",
       "      <td>70dcf37c088c5bd4f487ed14e8f42168</td>\n",
       "      <td>POINT (-73.94529 40.85017)</td>\n",
       "      <td>POLYGON ((992680.446 251695.521, 992766.870 25...</td>\n",
       "      <td>POLYGON ((993278.544 252368.045, 993362.650 25...</td>\n",
       "      <td>POLYGON ((993495.283 247638.113, 993261.907 24...</td>\n",
       "      <td>POLYGON ((993323.942 246752.221, 993154.624 24...</td>\n",
       "    </tr>\n",
       "    <tr>\n",
       "      <th>1</th>\n",
       "      <td>1</td>\n",
       "      <td>construction</td>\n",
       "      <td>Port Authority New York/New Jersey</td>\n",
       "      <td>George Washington Bridge</td>\n",
       "      <td>Westbound</td>\n",
       "      <td>Manhattan</td>\n",
       "      <td>New York</td>\n",
       "      <td>NY</td>\n",
       "      <td>2019-09-30T23:33:00</td>\n",
       "      <td>2019-10-05T10:01:00</td>\n",
       "      <td>...</td>\n",
       "      <td>Port Authority New York/New Jersey</td>\n",
       "      <td>40.850128</td>\n",
       "      <td>-73.945304</td>\n",
       "      <td>4 days 10:28:00.000000000</td>\n",
       "      <td>70dcf37c088c5bd4f487ed14e8f42168</td>\n",
       "      <td>POINT (-73.94529 40.85017)</td>\n",
       "      <td>POLYGON ((992680.446 251695.521, 992766.870 25...</td>\n",
       "      <td>POLYGON ((993278.544 252368.045, 993362.650 25...</td>\n",
       "      <td>POLYGON ((993495.283 247638.113, 993261.907 24...</td>\n",
       "      <td>POLYGON ((993323.942 246752.221, 993154.624 24...</td>\n",
       "    </tr>\n",
       "    <tr>\n",
       "      <th>2</th>\n",
       "      <td>4</td>\n",
       "      <td>bridge construction</td>\n",
       "      <td>Port Authority New York/New Jersey</td>\n",
       "      <td>George Washington Bridge</td>\n",
       "      <td>Westbound</td>\n",
       "      <td>Manhattan</td>\n",
       "      <td>New York</td>\n",
       "      <td>NY</td>\n",
       "      <td>2019-09-30T22:35:00</td>\n",
       "      <td>2019-10-04T14:47:00</td>\n",
       "      <td>...</td>\n",
       "      <td>Port Authority New York/New Jersey</td>\n",
       "      <td>40.851569</td>\n",
       "      <td>-73.952725</td>\n",
       "      <td>3 days 16:12:00.000000000</td>\n",
       "      <td>70dcf37c088c5bd4f487ed14e8f42168</td>\n",
       "      <td>POINT (-73.95271 40.85162)</td>\n",
       "      <td>POLYGON ((992680.446 251695.521, 992766.870 25...</td>\n",
       "      <td>POLYGON ((993278.544 252368.045, 993362.650 25...</td>\n",
       "      <td>POLYGON ((993495.283 247638.113, 993261.907 24...</td>\n",
       "      <td>POLYGON ((993323.942 246752.221, 993154.624 24...</td>\n",
       "    </tr>\n",
       "    <tr>\n",
       "      <th>3</th>\n",
       "      <td>6</td>\n",
       "      <td>construction</td>\n",
       "      <td>Port Authority New York/New Jersey</td>\n",
       "      <td>George Washington Bridge</td>\n",
       "      <td>Westbound</td>\n",
       "      <td>Manhattan</td>\n",
       "      <td>New York</td>\n",
       "      <td>NY</td>\n",
       "      <td>2019-09-30T21:49:00</td>\n",
       "      <td>2019-10-06T10:17:00</td>\n",
       "      <td>...</td>\n",
       "      <td>Port Authority New York/New Jersey</td>\n",
       "      <td>40.850128</td>\n",
       "      <td>-73.945304</td>\n",
       "      <td>5 days 12:28:00.000000000</td>\n",
       "      <td>70dcf37c088c5bd4f487ed14e8f42168</td>\n",
       "      <td>POINT (-73.94529 40.85017)</td>\n",
       "      <td>POLYGON ((992680.446 251695.521, 992766.870 25...</td>\n",
       "      <td>POLYGON ((993278.544 252368.045, 993362.650 25...</td>\n",
       "      <td>POLYGON ((993495.283 247638.113, 993261.907 24...</td>\n",
       "      <td>POLYGON ((993323.942 246752.221, 993154.624 24...</td>\n",
       "    </tr>\n",
       "    <tr>\n",
       "      <th>4</th>\n",
       "      <td>19</td>\n",
       "      <td>construction</td>\n",
       "      <td>Port Authority New York/New Jersey</td>\n",
       "      <td>George Washington Bridge</td>\n",
       "      <td>Westbound</td>\n",
       "      <td>Manhattan</td>\n",
       "      <td>New York</td>\n",
       "      <td>NY</td>\n",
       "      <td>2019-09-27T08:08:00</td>\n",
       "      <td>2019-09-27T13:31:00</td>\n",
       "      <td>...</td>\n",
       "      <td>Port Authority New York/New Jersey</td>\n",
       "      <td>40.850128</td>\n",
       "      <td>-73.945304</td>\n",
       "      <td>0 days 05:23:00.000000000</td>\n",
       "      <td>70dcf37c088c5bd4f487ed14e8f42168</td>\n",
       "      <td>POINT (-73.94529 40.85017)</td>\n",
       "      <td>POLYGON ((992680.446 251695.521, 992766.870 25...</td>\n",
       "      <td>POLYGON ((993278.544 252368.045, 993362.650 25...</td>\n",
       "      <td>POLYGON ((993495.283 247638.113, 993261.907 24...</td>\n",
       "      <td>POLYGON ((993323.942 246752.221, 993154.624 24...</td>\n",
       "    </tr>\n",
       "  </tbody>\n",
       "</table>\n",
       "<p>5 rows × 21 columns</p>\n",
       "</div>"
      ],
      "text/plain": [
       "   event_id           Event Type                          Organizati  \\\n",
       "0         0         construction  Port Authority New York/New Jersey   \n",
       "1         1         construction  Port Authority New York/New Jersey   \n",
       "2         4  bridge construction  Port Authority New York/New Jersey   \n",
       "3         6         construction  Port Authority New York/New Jersey   \n",
       "4        19         construction  Port Authority New York/New Jersey   \n",
       "\n",
       "                 Facility N  Direction       City    County State  \\\n",
       "0  George Washington Bridge  Westbound  Manhattan  New York    NY   \n",
       "1  George Washington Bridge  Westbound  Manhattan  New York    NY   \n",
       "2  George Washington Bridge  Westbound  Manhattan  New York    NY   \n",
       "3  George Washington Bridge  Westbound  Manhattan  New York    NY   \n",
       "4  George Washington Bridge  Westbound  Manhattan  New York    NY   \n",
       "\n",
       "            Create Tim           Close Time  ...  \\\n",
       "0  2019-09-30T23:45:00  2019-10-06T10:17:00  ...   \n",
       "1  2019-09-30T23:33:00  2019-10-05T10:01:00  ...   \n",
       "2  2019-09-30T22:35:00  2019-10-04T14:47:00  ...   \n",
       "3  2019-09-30T21:49:00  2019-10-06T10:17:00  ...   \n",
       "4  2019-09-27T08:08:00  2019-09-27T13:31:00  ...   \n",
       "\n",
       "                           Responding   Latitude  Longitude  \\\n",
       "0  Port Authority New York/New Jersey  40.850128 -73.945304   \n",
       "1  Port Authority New York/New Jersey  40.850128 -73.945304   \n",
       "2  Port Authority New York/New Jersey  40.851569 -73.952725   \n",
       "3  Port Authority New York/New Jersey  40.850128 -73.945304   \n",
       "4  Port Authority New York/New Jersey  40.850128 -73.945304   \n",
       "\n",
       "                    Duration                        geometryId  \\\n",
       "0  5 days 10:32:00.000000000  70dcf37c088c5bd4f487ed14e8f42168   \n",
       "1  4 days 10:28:00.000000000  70dcf37c088c5bd4f487ed14e8f42168   \n",
       "2  3 days 16:12:00.000000000  70dcf37c088c5bd4f487ed14e8f42168   \n",
       "3  5 days 12:28:00.000000000  70dcf37c088c5bd4f487ed14e8f42168   \n",
       "4  0 days 05:23:00.000000000  70dcf37c088c5bd4f487ed14e8f42168   \n",
       "\n",
       "                     geometry  \\\n",
       "0  POINT (-73.94529 40.85017)   \n",
       "1  POINT (-73.94529 40.85017)   \n",
       "2  POINT (-73.95271 40.85162)   \n",
       "3  POINT (-73.94529 40.85017)   \n",
       "4  POINT (-73.94529 40.85017)   \n",
       "\n",
       "                               buffer_geometry_900ft  \\\n",
       "0  POLYGON ((992680.446 251695.521, 992766.870 25...   \n",
       "1  POLYGON ((992680.446 251695.521, 992766.870 25...   \n",
       "2  POLYGON ((992680.446 251695.521, 992766.870 25...   \n",
       "3  POLYGON ((992680.446 251695.521, 992766.870 25...   \n",
       "4  POLYGON ((992680.446 251695.521, 992766.870 25...   \n",
       "\n",
       "                              buffer_geometry_1800ft  \\\n",
       "0  POLYGON ((993278.544 252368.045, 993362.650 25...   \n",
       "1  POLYGON ((993278.544 252368.045, 993362.650 25...   \n",
       "2  POLYGON ((993278.544 252368.045, 993362.650 25...   \n",
       "3  POLYGON ((993278.544 252368.045, 993362.650 25...   \n",
       "4  POLYGON ((993278.544 252368.045, 993362.650 25...   \n",
       "\n",
       "                              buffer_geometry_2700ft  \\\n",
       "0  POLYGON ((993495.283 247638.113, 993261.907 24...   \n",
       "1  POLYGON ((993495.283 247638.113, 993261.907 24...   \n",
       "2  POLYGON ((993495.283 247638.113, 993261.907 24...   \n",
       "3  POLYGON ((993495.283 247638.113, 993261.907 24...   \n",
       "4  POLYGON ((993495.283 247638.113, 993261.907 24...   \n",
       "\n",
       "                              buffer_geometry_3600ft  \n",
       "0  POLYGON ((993323.942 246752.221, 993154.624 24...  \n",
       "1  POLYGON ((993323.942 246752.221, 993154.624 24...  \n",
       "2  POLYGON ((993323.942 246752.221, 993154.624 24...  \n",
       "3  POLYGON ((993323.942 246752.221, 993154.624 24...  \n",
       "4  POLYGON ((993323.942 246752.221, 993154.624 24...  \n",
       "\n",
       "[5 rows x 21 columns]"
      ]
     },
     "execution_count": 20,
     "metadata": {},
     "output_type": "execute_result"
    }
   ],
   "source": [
    "gdf_511.head()"
   ]
  },
  {
   "cell_type": "markdown",
   "metadata": {},
   "source": [
    "## 2. Convert coordinate system of the crash dataset"
   ]
  },
  {
   "cell_type": "markdown",
   "metadata": {},
   "source": [
    "To count crashes based on the buffer zones, we need to change coodinate system of the crash geodataframe"
   ]
  },
  {
   "cell_type": "code",
   "execution_count": 21,
   "metadata": {},
   "outputs": [
    {
     "name": "stderr",
     "output_type": "stream",
     "text": [
      "C:\\Users\\hsg82\\AppData\\Local\\Continuum\\anaconda3\\envs\\capstone2020\\lib\\site-packages\\pyproj\\crs\\crs.py:53: FutureWarning: '+init=<authority>:<code>' syntax is deprecated. '<authority>:<code>' is the preferred initialization method. When making the change, be mindful of axis order changes: https://pyproj4.github.io/pyproj/stable/gotchas.html#axis-order-changes-in-proj-6\n",
      "  return _prepare_from_string(\" \".join(pjargs))\n"
     ]
    }
   ],
   "source": [
    "gdf_crash.crs = from_epsg(4326)\n",
    "gdf_crash = gdf_crash.to_crs(epsg=2263)  "
   ]
  },
  {
   "cell_type": "markdown",
   "metadata": {},
   "source": [
    "## 3. Counting Crashes"
   ]
  },
  {
   "cell_type": "markdown",
   "metadata": {},
   "source": [
    "### Testing part with first row"
   ]
  },
  {
   "cell_type": "code",
   "execution_count": 22,
   "metadata": {},
   "outputs": [],
   "source": [
    "# get the data from the first workzone\n",
    "gdf_511_test = gdf_511.iloc[0,:]"
   ]
  },
  {
   "cell_type": "code",
   "execution_count": 23,
   "metadata": {},
   "outputs": [],
   "source": [
    "# filter crashes based on start and end date\n",
    "gdf_crash_test = gdf_crash.loc[(gdf_crash['time']>=gdf_511_test.loc['Create Tim'])&(gdf_crash['time']<=gdf_511_test.loc['Close Time'])]"
   ]
  },
  {
   "cell_type": "code",
   "execution_count": 24,
   "metadata": {},
   "outputs": [],
   "source": [
    "# to calculate intersected crashed in the buffer zone, extract sindex\n",
    "# ref: https://stackoverflow.com/questions/37934023/how-to-use-geopandas-spatial-index-with-lines\n",
    "crashes_sindex = gdf_crash_test.sindex"
   ]
  },
  {
   "cell_type": "code",
   "execution_count": 25,
   "metadata": {},
   "outputs": [],
   "source": [
    "# calcuated intersected crashed on buffer zone\n",
    "possible_matches_index = list(crashes_sindex.intersection(gdf_511_test.loc['buffer_geometry_2700ft'].bounds))"
   ]
  },
  {
   "cell_type": "code",
   "execution_count": 26,
   "metadata": {},
   "outputs": [
    {
     "data": {
      "text/plain": [
       "9"
      ]
     },
     "execution_count": 26,
     "metadata": {},
     "output_type": "execute_result"
    }
   ],
   "source": [
    "len(possible_matches_index)"
   ]
  },
  {
   "cell_type": "code",
   "execution_count": 27,
   "metadata": {},
   "outputs": [],
   "source": [
    "possible_matches = gdf_crash_test.iloc[possible_matches_index]\n",
    "precise_matches = possible_matches[possible_matches.intersects(gdf_511_test.loc['buffer_geometry_2700ft'])]"
   ]
  },
  {
   "cell_type": "code",
   "execution_count": 28,
   "metadata": {},
   "outputs": [
    {
     "data": {
      "text/plain": [
       "8"
      ]
     },
     "execution_count": 28,
     "metadata": {},
     "output_type": "execute_result"
    }
   ],
   "source": [
    "len(precise_matches)"
   ]
  },
  {
   "cell_type": "markdown",
   "metadata": {},
   "source": [
    "// **Don't run this!** Below part is about exporting geometries for testing in the QGIS"
   ]
  },
  {
   "cell_type": "code",
   "execution_count": null,
   "metadata": {},
   "outputs": [],
   "source": [
    "precise_matches = gdf_crash.loc[gdf_crash['collision_id'].isin(matched_crashes_id)]"
   ]
  },
  {
   "cell_type": "code",
   "execution_count": null,
   "metadata": {},
   "outputs": [],
   "source": [
    "precise_matches.drop('time', axis=1).to_file('counting_crashes_test.shp', index=False)"
   ]
  },
  {
   "cell_type": "code",
   "execution_count": null,
   "metadata": {},
   "outputs": [],
   "source": [
    "gpd.GeoSeries([df_511_test['buffer_geometry_900ft']]).to_file('counting_crashes_test_bufferzone_900ft.shp')"
   ]
  },
  {
   "cell_type": "markdown",
   "metadata": {},
   "source": [
    "### Make a function"
   ]
  },
  {
   "cell_type": "code",
   "execution_count": 29,
   "metadata": {},
   "outputs": [],
   "source": [
    "def count_crashes(start_date,end_date,buffer_zone):\n",
    "    '''\n",
    "    This function is for making a list of crashes that occurred around a 511 event based on a temporal range of the event\n",
    "    and its spatial range (buffer zone).\n",
    "    -----\n",
    "    input:\n",
    "    start_date (np.datetime64): a start date  \n",
    "    end_date (np.datetime64): a end date\n",
    "    buffer_zone (Shapely.geometry.Polygon): a polygon of a buffer zone \n",
    "    -----\n",
    "    output:\n",
    "    precise_matches_list (list): a list of the crash records (collision_id) that are in the temporal and spatial range.\n",
    "    \n",
    "    '''\n",
    "    # filter crash based on temporal range of a 511 event\n",
    "    gdf_crashes_filtered = gdf_crash.loc[(gdf_crash['time']>=start_date)&\n",
    "                                         (gdf_crash['time']<=end_date)]  \n",
    "    try:\n",
    "        # filter 511 events based on buffer zone boundary of a 511 events\n",
    "        crashes_sindex = gdf_crashes_filtered.sindex\n",
    "        possible_matches_index = list(crashes_sindex.intersection(buffer_zone.bounds))\n",
    "        possible_matches = gdf_crashes_filtered.iloc[possible_matches_index]\n",
    "        # extract the list of crash that matched with a 511 event\n",
    "        precise_matches_list = possible_matches[possible_matches.intersects(buffer_zone)]['collision_id'].tolist()\n",
    "    except:\n",
    "        # if there is no crashes that matched with temporal range of a 511 event, return empty list\n",
    "        precise_matches_list = []\n",
    "    return precise_matches_list"
   ]
  },
  {
   "cell_type": "code",
   "execution_count": 30,
   "metadata": {},
   "outputs": [],
   "source": [
    "# record time\n",
    "import time\n",
    "start_time = time.time()\n",
    "gdf_511['crash_list_900ft']= gdf_511.apply(lambda x:count_crashes(x['Create Tim'],\n",
    "                                                       x['Close Time'],\n",
    "                                                       x['buffer_geometry_900ft']), axis=1)"
   ]
  },
  {
   "cell_type": "code",
   "execution_count": 31,
   "metadata": {},
   "outputs": [
    {
     "name": "stdout",
     "output_type": "stream",
     "text": [
      "--- 2635.0968050956726 seconds to calculate all workzones---\n"
     ]
    }
   ],
   "source": [
    "print(\"--- %s seconds to calculate all workzones---\" % (time.time() - start_time))"
   ]
  },
  {
   "cell_type": "code",
   "execution_count": 32,
   "metadata": {},
   "outputs": [],
   "source": [
    "gdf_511['crash_list_1800ft']= gdf_511.apply(lambda x:count_crashes(x['Create Tim'],\n",
    "                                                       x['Close Time'],\n",
    "                                                       x['buffer_geometry_1800ft']), axis=1)"
   ]
  },
  {
   "cell_type": "code",
   "execution_count": 33,
   "metadata": {},
   "outputs": [],
   "source": [
    "gdf_511['crash_list_2700ft']= gdf_511.apply(lambda x:count_crashes(x['Create Tim'],\n",
    "                                                       x['Close Time'],\n",
    "                                                       x['buffer_geometry_2700ft']), axis=1)"
   ]
  },
  {
   "cell_type": "code",
   "execution_count": 34,
   "metadata": {},
   "outputs": [],
   "source": [
    "gdf_511['crash_list_3600ft']= gdf_511.apply(lambda x:count_crashes(x['Create Tim'],\n",
    "                                                       x['Close Time'],\n",
    "                                                       x['buffer_geometry_3600ft']), axis=1)"
   ]
  },
  {
   "cell_type": "code",
   "execution_count": 35,
   "metadata": {},
   "outputs": [],
   "source": [
    "gdf_511.to_csv('../data/cleaned_data/511_crashcount_0629.csv', index=False)"
   ]
  }
 ],
 "metadata": {
  "kernelspec": {
   "display_name": "Python 3",
   "language": "python",
   "name": "python3"
  },
  "language_info": {
   "codemirror_mode": {
    "name": "ipython",
    "version": 3
   },
   "file_extension": ".py",
   "mimetype": "text/x-python",
   "name": "python",
   "nbconvert_exporter": "python",
   "pygments_lexer": "ipython3",
   "version": "3.7.7"
  }
 },
 "nbformat": 4,
 "nbformat_minor": 4
}
